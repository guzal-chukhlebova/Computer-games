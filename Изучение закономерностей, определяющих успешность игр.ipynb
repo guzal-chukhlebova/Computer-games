{
 "cells": [
  {
   "cell_type": "markdown",
   "id": "ddae0f25",
   "metadata": {},
   "source": [
    "## Подготовка данных"
   ]
  },
  {
   "cell_type": "markdown",
   "id": "f00c0ad5",
   "metadata": {},
   "source": [
    "В работе представлены данные из открытых источников о продажах игр, оценки пользователей и экспертов, жанры и платформы.\n",
    "\n",
    "Цель проекта: выявить определяющие успешность игры закономерности, что позволит сделать ставку на потенциально популярный продукт и спланировать рекламные кампании интернет-магазина «Стримчик».\n",
    "\n",
    "Описание данных:\n",
    "* Name — название игры\n",
    "* Platform — платформа\n",
    "* Year_of_Release — год выпуска\n",
    "* Genre — жанр игры\n",
    "* NA_sales — продажи в Северной Америке (миллионы проданных копий)\n",
    "* EU_sales — продажи в Европе (миллионы проданных копий)\n",
    "* JP_sales — продажи в Японии (миллионы проданных копий)\n",
    "* Other_sales — продажи в других странах (миллионы проданных копий)\n",
    "* Critic_Score — оценка критиков (максимум 100)\n",
    "* User_Score — оценка пользователей (максимум 10)\n",
    "* Rating — рейтинг от организации ESRB (англ. Entertainment Software Rating Board). Эта ассоциация определяет рейтинг компьютерных игр и присваивает им подходящую возрастную категорию."
   ]
  },
  {
   "cell_type": "code",
   "execution_count": 45,
   "id": "60a06db5",
   "metadata": {},
   "outputs": [],
   "source": [
    "import pandas as pd\n",
    "import matplotlib.pyplot as plt\n",
    "import numpy as np\n",
    "import plotly.express as px\n",
    "import warnings\n",
    "warnings.filterwarnings('ignore')\n",
    "\n",
    "server_path = '/datasets/games.csv' \n",
    "local_path = 'games.csv' \n",
    "\n",
    "#использую конструкцию try-except удобства запуска локально и через сервер практикума\n",
    "try:  \n",
    "    data = pd.read_csv(server_path) \n",
    "except: \n",
    "    data = pd.read_csv(local_path)"
   ]
  },
  {
   "cell_type": "code",
   "execution_count": 46,
   "id": "ce33cde4",
   "metadata": {},
   "outputs": [
    {
     "data": {
      "text/html": [
       "<div>\n",
       "<style scoped>\n",
       "    .dataframe tbody tr th:only-of-type {\n",
       "        vertical-align: middle;\n",
       "    }\n",
       "\n",
       "    .dataframe tbody tr th {\n",
       "        vertical-align: top;\n",
       "    }\n",
       "\n",
       "    .dataframe thead th {\n",
       "        text-align: right;\n",
       "    }\n",
       "</style>\n",
       "<table border=\"1\" class=\"dataframe\">\n",
       "  <thead>\n",
       "    <tr style=\"text-align: right;\">\n",
       "      <th></th>\n",
       "      <th>Name</th>\n",
       "      <th>Platform</th>\n",
       "      <th>Year_of_Release</th>\n",
       "      <th>Genre</th>\n",
       "      <th>NA_sales</th>\n",
       "      <th>EU_sales</th>\n",
       "      <th>JP_sales</th>\n",
       "      <th>Other_sales</th>\n",
       "      <th>Critic_Score</th>\n",
       "      <th>User_Score</th>\n",
       "      <th>Rating</th>\n",
       "    </tr>\n",
       "  </thead>\n",
       "  <tbody>\n",
       "    <tr>\n",
       "      <th>0</th>\n",
       "      <td>Wii Sports</td>\n",
       "      <td>Wii</td>\n",
       "      <td>2006.0</td>\n",
       "      <td>Sports</td>\n",
       "      <td>41.36</td>\n",
       "      <td>28.96</td>\n",
       "      <td>3.77</td>\n",
       "      <td>8.45</td>\n",
       "      <td>76.0</td>\n",
       "      <td>8</td>\n",
       "      <td>E</td>\n",
       "    </tr>\n",
       "    <tr>\n",
       "      <th>1</th>\n",
       "      <td>Super Mario Bros.</td>\n",
       "      <td>NES</td>\n",
       "      <td>1985.0</td>\n",
       "      <td>Platform</td>\n",
       "      <td>29.08</td>\n",
       "      <td>3.58</td>\n",
       "      <td>6.81</td>\n",
       "      <td>0.77</td>\n",
       "      <td>NaN</td>\n",
       "      <td>NaN</td>\n",
       "      <td>NaN</td>\n",
       "    </tr>\n",
       "    <tr>\n",
       "      <th>2</th>\n",
       "      <td>Mario Kart Wii</td>\n",
       "      <td>Wii</td>\n",
       "      <td>2008.0</td>\n",
       "      <td>Racing</td>\n",
       "      <td>15.68</td>\n",
       "      <td>12.76</td>\n",
       "      <td>3.79</td>\n",
       "      <td>3.29</td>\n",
       "      <td>82.0</td>\n",
       "      <td>8.3</td>\n",
       "      <td>E</td>\n",
       "    </tr>\n",
       "    <tr>\n",
       "      <th>3</th>\n",
       "      <td>Wii Sports Resort</td>\n",
       "      <td>Wii</td>\n",
       "      <td>2009.0</td>\n",
       "      <td>Sports</td>\n",
       "      <td>15.61</td>\n",
       "      <td>10.93</td>\n",
       "      <td>3.28</td>\n",
       "      <td>2.95</td>\n",
       "      <td>80.0</td>\n",
       "      <td>8</td>\n",
       "      <td>E</td>\n",
       "    </tr>\n",
       "    <tr>\n",
       "      <th>4</th>\n",
       "      <td>Pokemon Red/Pokemon Blue</td>\n",
       "      <td>GB</td>\n",
       "      <td>1996.0</td>\n",
       "      <td>Role-Playing</td>\n",
       "      <td>11.27</td>\n",
       "      <td>8.89</td>\n",
       "      <td>10.22</td>\n",
       "      <td>1.00</td>\n",
       "      <td>NaN</td>\n",
       "      <td>NaN</td>\n",
       "      <td>NaN</td>\n",
       "    </tr>\n",
       "  </tbody>\n",
       "</table>\n",
       "</div>"
      ],
      "text/plain": [
       "                       Name Platform  Year_of_Release         Genre  NA_sales  \\\n",
       "0                Wii Sports      Wii           2006.0        Sports     41.36   \n",
       "1         Super Mario Bros.      NES           1985.0      Platform     29.08   \n",
       "2            Mario Kart Wii      Wii           2008.0        Racing     15.68   \n",
       "3         Wii Sports Resort      Wii           2009.0        Sports     15.61   \n",
       "4  Pokemon Red/Pokemon Blue       GB           1996.0  Role-Playing     11.27   \n",
       "\n",
       "   EU_sales  JP_sales  Other_sales  Critic_Score User_Score Rating  \n",
       "0     28.96      3.77         8.45          76.0          8      E  \n",
       "1      3.58      6.81         0.77           NaN        NaN    NaN  \n",
       "2     12.76      3.79         3.29          82.0        8.3      E  \n",
       "3     10.93      3.28         2.95          80.0          8      E  \n",
       "4      8.89     10.22         1.00           NaN        NaN    NaN  "
      ]
     },
     "execution_count": 46,
     "metadata": {},
     "output_type": "execute_result"
    }
   ],
   "source": [
    "data.head()"
   ]
  },
  {
   "cell_type": "code",
   "execution_count": 47,
   "id": "5f70f56c",
   "metadata": {},
   "outputs": [
    {
     "name": "stdout",
     "output_type": "stream",
     "text": [
      "<class 'pandas.core.frame.DataFrame'>\n",
      "RangeIndex: 16715 entries, 0 to 16714\n",
      "Data columns (total 11 columns):\n",
      " #   Column           Non-Null Count  Dtype  \n",
      "---  ------           --------------  -----  \n",
      " 0   Name             16713 non-null  object \n",
      " 1   Platform         16715 non-null  object \n",
      " 2   Year_of_Release  16446 non-null  float64\n",
      " 3   Genre            16713 non-null  object \n",
      " 4   NA_sales         16715 non-null  float64\n",
      " 5   EU_sales         16715 non-null  float64\n",
      " 6   JP_sales         16715 non-null  float64\n",
      " 7   Other_sales      16715 non-null  float64\n",
      " 8   Critic_Score     8137 non-null   float64\n",
      " 9   User_Score       10014 non-null  object \n",
      " 10  Rating           9949 non-null   object \n",
      "dtypes: float64(6), object(5)\n",
      "memory usage: 1.4+ MB\n"
     ]
    }
   ],
   "source": [
    "# получение общей информации о данных в таблице df\n",
    "data.info()"
   ]
  },
  {
   "cell_type": "markdown",
   "id": "6025a092",
   "metadata": {},
   "source": [
    "Заменим названия столбцов, приведём их к нижнему регистру."
   ]
  },
  {
   "cell_type": "code",
   "execution_count": 48,
   "id": "a19d64e6",
   "metadata": {},
   "outputs": [
    {
     "data": {
      "text/plain": [
       "Index(['Name', 'Platform', 'Year_of_Release', 'Genre', 'NA_sales', 'EU_sales',\n",
       "       'JP_sales', 'Other_sales', 'Critic_Score', 'User_Score', 'Rating'],\n",
       "      dtype='object')"
      ]
     },
     "execution_count": 48,
     "metadata": {},
     "output_type": "execute_result"
    }
   ],
   "source": [
    "# перечень названий столбцов таблицы data\n",
    "data.columns"
   ]
  },
  {
   "cell_type": "code",
   "execution_count": 49,
   "id": "ef4c3660",
   "metadata": {},
   "outputs": [
    {
     "data": {
      "text/plain": [
       "Index(['name', 'platform', 'year_of_release', 'genre', 'na_sales', 'eu_sales',\n",
       "       'jp_sales', 'other_sales', 'critic_score', 'user_score', 'rating'],\n",
       "      dtype='object')"
      ]
     },
     "execution_count": 49,
     "metadata": {},
     "output_type": "execute_result"
    }
   ],
   "source": [
    "# переименование столбцов\n",
    "data = data.rename(columns={'Name':'name','Platform':'platform','Year_of_Release':'year_of_release', 'Genre':'genre', \n",
    "                            'NA_sales':'na_sales', 'EU_sales':'eu_sales', 'JP_sales':'jp_sales','Other_sales':'other_sales', \n",
    "                            'Critic_Score':'critic_score', 'User_Score':'user_score', 'Rating':'rating'})\n",
    "# проверка результата\n",
    "data.columns"
   ]
  },
  {
   "cell_type": "markdown",
   "id": "eadcb9c6",
   "metadata": {},
   "source": [
    "Для работы с датой и временем существует особый тип данных— datetime. Чтобы перевести строки столбца 'year_of_release' в дату, используется метод to_datetime()."
   ]
  },
  {
   "cell_type": "code",
   "execution_count": 50,
   "id": "d591b793",
   "metadata": {},
   "outputs": [],
   "source": [
    "# перевод из строки в дату\n",
    "data['year_of_release'] = pd.to_datetime(data['year_of_release'], format='%Y')\n",
    "# получение года из даты\n",
    "data['year'] = pd.DatetimeIndex(data['year_of_release']).year"
   ]
  },
  {
   "cell_type": "markdown",
   "id": "b0c9eea1",
   "metadata": {},
   "source": [
    "В столбце 'user_score' присутствуют значения 'tbd'. Данная аббревиатура от английского \"To Be Determined\" означает \"будет определено\". Используется, если какая-то информация еще не определена или решение по вопросу не принято. Акроним служит для отметки неясностей или пропусков. Поэтому заменим значение 'tbd' на nan, затем переведем тип данных столбца 'user_score' к float для определения корреляция и стат-тестов в следующих шагах."
   ]
  },
  {
   "cell_type": "code",
   "execution_count": 51,
   "id": "febd73d9",
   "metadata": {},
   "outputs": [],
   "source": [
    "# перевод из строки к типу данных float\n",
    "data.loc[data['user_score'] == 'tbd', 'user_score'] = float('nan')\n",
    "data['user_score'] = data['user_score'].astype(float)"
   ]
  },
  {
   "cell_type": "code",
   "execution_count": 52,
   "id": "bffa72da",
   "metadata": {},
   "outputs": [
    {
     "data": {
      "text/plain": [
       "name                  2\n",
       "platform              0\n",
       "year_of_release     269\n",
       "genre                 2\n",
       "na_sales              0\n",
       "eu_sales              0\n",
       "jp_sales              0\n",
       "other_sales           0\n",
       "critic_score       8578\n",
       "user_score         9125\n",
       "rating             6766\n",
       "year                269\n",
       "dtype: int64"
      ]
     },
     "execution_count": 52,
     "metadata": {},
     "output_type": "execute_result"
    }
   ],
   "source": [
    "# определение количества пропущенных значений\n",
    "data.isna().sum()"
   ]
  },
  {
   "cell_type": "markdown",
   "id": "252e7d84",
   "metadata": {},
   "source": [
    "В столбцах 'name', 'year_of_release' небольшое количество пропущенных значений (менее 2%), поэтому следует удалить пропущенные значения в данных столбцах. В столбцах 'critic_score', 'user_score', 'rating' достаточно большое количество пропусков, поэтому следует оставить данные без изменений."
   ]
  },
  {
   "cell_type": "code",
   "execution_count": 53,
   "id": "2a5a1be0",
   "metadata": {},
   "outputs": [],
   "source": [
    "# удаление пропущенных значений\n",
    "data.dropna(subset = ['name','year_of_release'], inplace = True)"
   ]
  },
  {
   "cell_type": "markdown",
   "id": "9cb4a939",
   "metadata": {},
   "source": [
    "Посчитаем суммарные продажи во всех регионах и запишем их в отдельный столбец."
   ]
  },
  {
   "cell_type": "code",
   "execution_count": 54,
   "id": "baaef209",
   "metadata": {},
   "outputs": [],
   "source": [
    "data['total_sales'] = data['na_sales'] + data['eu_sales'] + data['jp_sales'] + data['other_sales']"
   ]
  },
  {
   "cell_type": "markdown",
   "id": "c580ce22",
   "metadata": {},
   "source": [
    "**Вывод**"
   ]
  },
  {
   "cell_type": "markdown",
   "id": "db1279ff",
   "metadata": {},
   "source": [
    "В ходе подготовительных операций в проекте были переименованы столбцы, заменены типы данных для столбцов 'year_of_release', 'user_score', удалены нулевые строки столбцов 'name', 'year_of_release', добавлен столбец 'total_sales', который демонстрирует суммарные продажи игр во всех регионах."
   ]
  },
  {
   "cell_type": "markdown",
   "id": "86e78b5e",
   "metadata": {},
   "source": [
    "## Исследовательский анализа данных"
   ]
  },
  {
   "cell_type": "markdown",
   "id": "44107136",
   "metadata": {},
   "source": [
    "### Определение актуального периода"
   ]
  },
  {
   "cell_type": "markdown",
   "id": "90d60a39",
   "metadata": {},
   "source": [
    "Установим частоту выпуска игр в разные годы, для этого посторим гистограмму распределения игр по годам."
   ]
  },
  {
   "cell_type": "code",
   "execution_count": 55,
   "id": "c2ff4896",
   "metadata": {},
   "outputs": [
    {
     "data": {
      "text/plain": [
       "34"
      ]
     },
     "execution_count": 55,
     "metadata": {},
     "output_type": "execute_result"
    }
   ],
   "source": [
    "# определение количества корзин с помощью формулы Стерджесса\n",
    "int(np.ceil(1 + 3.32 * np.log(data.shape[0])))"
   ]
  },
  {
   "cell_type": "code",
   "execution_count": 56,
   "id": "ad72e070",
   "metadata": {},
   "outputs": [
    {
     "data": {
      "image/png": "[encoded data removed]",
      "text/plain": [
       "<Figure size 432x288 with 1 Axes>"
      ]
     },
     "metadata": {
      "needs_background": "light"
     },
     "output_type": "display_data"
    }
   ],
   "source": [
    "# отображение частоты выпуска игр в различные годы\n",
    "data['year'].plot(kind='hist', bins=34, grid=True, alpha=0.7, density=True)\n",
    "plt.xlabel('Год')\n",
    "plt.ylabel('Частота выпуска игр')\n",
    "plt.title('Частота выпуска игр в различные годы');"
   ]
  },
  {
   "cell_type": "markdown",
   "id": "6b612200",
   "metadata": {},
   "source": [
    "В период с 1980-2002 год количество выпущенных игр было незначитальным по сравнению с периодом 2002-2015 года, поэтому следует удалить строки игр с годом выпуска 1980-2002 год. "
   ]
  },
  {
   "cell_type": "code",
   "execution_count": 57,
   "id": "d3ceab3d",
   "metadata": {},
   "outputs": [],
   "source": [
    "# получение среза данных для игр с годом выпуска от 2002 года\n",
    "data = data.query('year_of_release > 2002')"
   ]
  },
  {
   "cell_type": "markdown",
   "id": "bb62039b",
   "metadata": {},
   "source": [
    "### Определение прибыльных платформ"
   ]
  },
  {
   "cell_type": "markdown",
   "id": "883478fe",
   "metadata": {},
   "source": [
    "Выясним как менялись продажи по платформам."
   ]
  },
  {
   "cell_type": "code",
   "execution_count": 58,
   "id": "dfbc183a",
   "metadata": {},
   "outputs": [
    {
     "data": {
      "image/png": "[encoded data removed]",
      "text/plain": [
       "<Figure size 720x648 with 1 Axes>"
      ]
     },
     "metadata": {
      "needs_background": "light"
     },
     "output_type": "display_data"
    }
   ],
   "source": [
    "# формирование сводной таблицы для получения количества выпущенных игр на платформах в год\n",
    "sales_per_year = data.pivot_table(index = ['year'], columns='platform', values='name', aggfunc='count')\n",
    "# построение графика по датафрейму sales_per_year\n",
    "sales_per_year.plot(figsize=(10,9))\n",
    "plt.xlim(2002,2016)\n",
    "plt.xlabel('Год')\n",
    "plt.ylabel('Количество выпущенных игр в год')\n",
    "plt.title('Количество выпущенных игр на платформах в год');"
   ]
  },
  {
   "cell_type": "markdown",
   "id": "dc04c988",
   "metadata": {},
   "source": [
    "В период с 2002 по 2012 год количество выпущенных игр на платформах в год значительно больше, чем в период с 2012 по 2016 год. Скорее всего выпуск игр меньшего количества связан с тем, что компании делают ставки на качество игр, тратя больше времени на их разработку."
   ]
  },
  {
   "cell_type": "markdown",
   "id": "6eab8a20",
   "metadata": {},
   "source": [
    "Выберем платформы с наибольшими суммарными продажами и построим распределение по годам."
   ]
  },
  {
   "cell_type": "code",
   "execution_count": 85,
   "id": "c865f364",
   "metadata": {},
   "outputs": [
    {
     "data": {
      "text/html": [
       "<div>\n",
       "<style scoped>\n",
       "    .dataframe tbody tr th:only-of-type {\n",
       "        vertical-align: middle;\n",
       "    }\n",
       "\n",
       "    .dataframe tbody tr th {\n",
       "        vertical-align: top;\n",
       "    }\n",
       "\n",
       "    .dataframe thead th {\n",
       "        text-align: right;\n",
       "    }\n",
       "</style>\n",
       "<table border=\"1\" class=\"dataframe\">\n",
       "  <thead>\n",
       "    <tr style=\"text-align: right;\">\n",
       "      <th></th>\n",
       "      <th>platform</th>\n",
       "      <th>year_of_release</th>\n",
       "      <th>total_sales</th>\n",
       "    </tr>\n",
       "  </thead>\n",
       "  <tbody>\n",
       "    <tr>\n",
       "      <th>44</th>\n",
       "      <td>PS2</td>\n",
       "      <td>2004-01-01</td>\n",
       "      <td>211.81</td>\n",
       "    </tr>\n",
       "    <tr>\n",
       "      <th>88</th>\n",
       "      <td>Wii</td>\n",
       "      <td>2009-01-01</td>\n",
       "      <td>206.97</td>\n",
       "    </tr>\n",
       "    <tr>\n",
       "      <th>43</th>\n",
       "      <td>PS2</td>\n",
       "      <td>2003-01-01</td>\n",
       "      <td>184.31</td>\n",
       "    </tr>\n",
       "    <tr>\n",
       "      <th>87</th>\n",
       "      <td>Wii</td>\n",
       "      <td>2008-01-01</td>\n",
       "      <td>171.32</td>\n",
       "    </tr>\n",
       "    <tr>\n",
       "      <th>106</th>\n",
       "      <td>X360</td>\n",
       "      <td>2010-01-01</td>\n",
       "      <td>170.03</td>\n",
       "    </tr>\n",
       "    <tr>\n",
       "      <th>45</th>\n",
       "      <td>PS2</td>\n",
       "      <td>2005-01-01</td>\n",
       "      <td>160.66</td>\n",
       "    </tr>\n",
       "    <tr>\n",
       "      <th>57</th>\n",
       "      <td>PS3</td>\n",
       "      <td>2011-01-01</td>\n",
       "      <td>156.78</td>\n",
       "    </tr>\n",
       "    <tr>\n",
       "      <th>86</th>\n",
       "      <td>Wii</td>\n",
       "      <td>2007-01-01</td>\n",
       "      <td>152.77</td>\n",
       "    </tr>\n",
       "    <tr>\n",
       "      <th>11</th>\n",
       "      <td>DS</td>\n",
       "      <td>2007-01-01</td>\n",
       "      <td>146.94</td>\n",
       "    </tr>\n",
       "    <tr>\n",
       "      <th>12</th>\n",
       "      <td>DS</td>\n",
       "      <td>2008-01-01</td>\n",
       "      <td>145.31</td>\n",
       "    </tr>\n",
       "  </tbody>\n",
       "</table>\n",
       "</div>"
      ],
      "text/plain": [
       "    platform year_of_release  total_sales\n",
       "44       PS2      2004-01-01       211.81\n",
       "88       Wii      2009-01-01       206.97\n",
       "43       PS2      2003-01-01       184.31\n",
       "87       Wii      2008-01-01       171.32\n",
       "106     X360      2010-01-01       170.03\n",
       "45       PS2      2005-01-01       160.66\n",
       "57       PS3      2011-01-01       156.78\n",
       "86       Wii      2007-01-01       152.77\n",
       "11        DS      2007-01-01       146.94\n",
       "12        DS      2008-01-01       145.31"
      ]
     },
     "execution_count": 85,
     "metadata": {},
     "output_type": "execute_result"
    }
   ],
   "source": [
    "# обозначение минимальных значимых продаж в миллионах \n",
    "min_sales = 5\n",
    "# формирование сводной таблицы для получения суммы общих продаж, сгруппированных по платформе и году\n",
    "report = data.groupby(['platform', 'year_of_release']).agg({'total_sales': 'sum'}).reset_index().\\\n",
    "query('total_sales > @min_sales')\n",
    "#  сортировки таблицы по указанному столбцу 'total_sales'\n",
    "report.sort_values(by = 'total_sales', ascending = False).head(10)"
   ]
  },
  {
   "cell_type": "markdown",
   "id": "17dcb3dd",
   "metadata": {},
   "source": [
    "Наибольшее число проданных копий в год на платформах PS2, Wii, X360, PS, PS2."
   ]
  },
  {
   "cell_type": "code",
   "execution_count": 60,
   "id": "6d19e2e9",
   "metadata": {},
   "outputs": [
    {
     "data": {
      "text/plain": [
       "sum_sales    6.733333\n",
       "dtype: float64"
      ]
     },
     "execution_count": 60,
     "metadata": {},
     "output_type": "execute_result"
    }
   ],
   "source": [
    "# переименование колонок сводной таблицы\n",
    "report.columns = ['platform', 'year_of_release','sum_sales']\n",
    "# подсчет среднего срока существования платформы\n",
    "report.groupby('platform').agg({'sum_sales':  'count'}).reset_index().mean()"
   ]
  },
  {
   "cell_type": "markdown",
   "id": "0c207ca2",
   "metadata": {},
   "source": [
    "Итак, 7 лет - среднее время жизни платформ, но для определения закономерностей успешности игр необходимо пользоваться более свежими данными, так как компьютерные игры - это бурно развивающаяся отрасль, где пользователи с каждым годом становятся более требовательными. Графика игры должна становиться всё более притягательной для глаз, избыточной, создавать качественные пространства. Поэтому для определения связей популярности игр среди пользователей следует брать более короткий период в 3 года. Получим срез данных для игр с годом выпуска с 2014 по 2016 год включительно."
   ]
  },
  {
   "cell_type": "code",
   "execution_count": 61,
   "id": "e8dc24bc",
   "metadata": {},
   "outputs": [],
   "source": [
    "# получение среза данных для игр за актуальный период\n",
    "actual_data = data.query('year_of_release > 2013')"
   ]
  },
  {
   "cell_type": "markdown",
   "id": "b9b2bd30",
   "metadata": {},
   "source": [
    "Установим какие платформы были активны за этот период."
   ]
  },
  {
   "cell_type": "code",
   "execution_count": 62,
   "id": "54e25fb2",
   "metadata": {},
   "outputs": [
    {
     "data": {
      "image/png": "[encoded data removed]",
      "text/plain": [
       "<Figure size 720x648 with 1 Axes>"
      ]
     },
     "metadata": {
      "needs_background": "light"
     },
     "output_type": "display_data"
    }
   ],
   "source": [
    "# формирование сводной таблицы для получения количества выпущенных игр на платформах в год за актульный период\n",
    "sales_per_year_actual = actual_data.pivot_table(index = 'year', columns='platform', values='name', aggfunc='count')\n",
    "# построение графика по датафрейму sales_per_year_actual\n",
    "sales_per_year_actual.plot(figsize=(10,9))\n",
    "plt.xlim(2014,2016);"
   ]
  },
  {
   "cell_type": "markdown",
   "id": "240bc511",
   "metadata": {},
   "source": [
    "Потенциально прибыльные платформы в выпуске игр за актуальный период: PS4, XOne, PC."
   ]
  },
  {
   "cell_type": "code",
   "execution_count": 63,
   "id": "a4500313",
   "metadata": {},
   "outputs": [
    {
     "data": {
      "text/html": [
       "<div>\n",
       "<style scoped>\n",
       "    .dataframe tbody tr th:only-of-type {\n",
       "        vertical-align: middle;\n",
       "    }\n",
       "\n",
       "    .dataframe tbody tr th {\n",
       "        vertical-align: top;\n",
       "    }\n",
       "\n",
       "    .dataframe thead th {\n",
       "        text-align: right;\n",
       "    }\n",
       "</style>\n",
       "<table border=\"1\" class=\"dataframe\">\n",
       "  <thead>\n",
       "    <tr style=\"text-align: right;\">\n",
       "      <th>platform</th>\n",
       "      <th>3DS</th>\n",
       "      <th>PC</th>\n",
       "      <th>PS3</th>\n",
       "      <th>PS4</th>\n",
       "      <th>PSP</th>\n",
       "      <th>PSV</th>\n",
       "      <th>Wii</th>\n",
       "      <th>WiiU</th>\n",
       "      <th>X360</th>\n",
       "      <th>XOne</th>\n",
       "    </tr>\n",
       "    <tr>\n",
       "      <th>year_of_release</th>\n",
       "      <th></th>\n",
       "      <th></th>\n",
       "      <th></th>\n",
       "      <th></th>\n",
       "      <th></th>\n",
       "      <th></th>\n",
       "      <th></th>\n",
       "      <th></th>\n",
       "      <th></th>\n",
       "      <th></th>\n",
       "    </tr>\n",
       "  </thead>\n",
       "  <tbody>\n",
       "    <tr>\n",
       "      <th>2014-01-01</th>\n",
       "      <td>43.76</td>\n",
       "      <td>13.28</td>\n",
       "      <td>47.76</td>\n",
       "      <td>100.00</td>\n",
       "      <td>0.24</td>\n",
       "      <td>11.90</td>\n",
       "      <td>3.75</td>\n",
       "      <td>22.03</td>\n",
       "      <td>34.74</td>\n",
       "      <td>54.07</td>\n",
       "    </tr>\n",
       "    <tr>\n",
       "      <th>2015-01-01</th>\n",
       "      <td>27.78</td>\n",
       "      <td>8.52</td>\n",
       "      <td>16.82</td>\n",
       "      <td>118.90</td>\n",
       "      <td>0.12</td>\n",
       "      <td>6.25</td>\n",
       "      <td>1.14</td>\n",
       "      <td>16.35</td>\n",
       "      <td>11.96</td>\n",
       "      <td>60.14</td>\n",
       "    </tr>\n",
       "    <tr>\n",
       "      <th>2016-01-01</th>\n",
       "      <td>15.14</td>\n",
       "      <td>5.25</td>\n",
       "      <td>3.60</td>\n",
       "      <td>69.25</td>\n",
       "      <td>NaN</td>\n",
       "      <td>4.25</td>\n",
       "      <td>0.18</td>\n",
       "      <td>4.60</td>\n",
       "      <td>1.52</td>\n",
       "      <td>26.15</td>\n",
       "    </tr>\n",
       "  </tbody>\n",
       "</table>\n",
       "</div>"
      ],
      "text/plain": [
       "platform           3DS     PC    PS3     PS4   PSP    PSV   Wii   WiiU   X360  \\\n",
       "year_of_release                                                                 \n",
       "2014-01-01       43.76  13.28  47.76  100.00  0.24  11.90  3.75  22.03  34.74   \n",
       "2015-01-01       27.78   8.52  16.82  118.90  0.12   6.25  1.14  16.35  11.96   \n",
       "2016-01-01       15.14   5.25   3.60   69.25   NaN   4.25  0.18   4.60   1.52   \n",
       "\n",
       "platform          XOne  \n",
       "year_of_release         \n",
       "2014-01-01       54.07  \n",
       "2015-01-01       60.14  \n",
       "2016-01-01       26.15  "
      ]
     },
     "execution_count": 63,
     "metadata": {},
     "output_type": "execute_result"
    }
   ],
   "source": [
    "actual_data.pivot_table(index='year_of_release', columns='platform', values='total_sales', aggfunc='sum')"
   ]
  },
  {
   "cell_type": "code",
   "execution_count": 64,
   "id": "6f415837",
   "metadata": {},
   "outputs": [
    {
     "data": {
      "image/png": "[encoded data removed]",
      "text/plain": [
       "<Figure size 1440x720 with 1 Axes>"
      ]
     },
     "metadata": {
      "needs_background": "light"
     },
     "output_type": "display_data"
    }
   ],
   "source": [
    "# oтображение диаграммы ящик с усами по глобальным продажам игр в разбивке по платформам за актуальный период \n",
    "actual_data.boxplot(column='total_sales', by='platform', figsize=(20,10))\n",
    "plt.ylim(0,2)\n",
    "plt.xlabel('Платформа', size=14)\n",
    "plt.ylabel('Количество проданных копий, млн', size=14)\n",
    "plt.title('Распределение продаж игр в разбивке по платформам');"
   ]
  },
  {
   "cell_type": "markdown",
   "id": "669b0192",
   "metadata": {},
   "source": [
    "Диаграмма \"ящик с усами\" показывает распределение данных по количеству проданных копий. Вертикальные линии под названием \"усы\" указывают на отклонение за пределами верхнего и нижнего квартилей, и любая точка за пределами этих линий (усов) считается выбросом. Выбросы - значения, которые сильно отличаются от большинства значений в наборе данных. Наличие большого количества выбросов и низкая плотность сгруппированых данных демонстрируют изменчивый характер продаж игр по платформ в регионах в течение всего актуального периода. \n",
    "    \n",
    "Наиболее устойчивые платформы по продажам игр, имеющие самые высокие значения медианных продаж: PS4, Wii, WiiU, XOne, X360."
   ]
  },
  {
   "cell_type": "markdown",
   "id": "53352015",
   "metadata": {},
   "source": [
    "### Корреляция между отзывами и продажами"
   ]
  },
  {
   "cell_type": "markdown",
   "id": "dc8ddb77",
   "metadata": {},
   "source": [
    "Для каждой популярной платформы оценим как отзывы пользователей и критиков влияют на продажи. Построим диаграмму рассеяния и посчитаем корреляцию между отзывами и продажами."
   ]
  },
  {
   "cell_type": "code",
   "execution_count": 65,
   "id": "382ab205",
   "metadata": {},
   "outputs": [
    {
     "name": "stdout",
     "output_type": "stream",
     "text": [
      "PS4\n"
     ]
    },
    {
     "data": {
      "text/html": [
       "<div>\n",
       "<style scoped>\n",
       "    .dataframe tbody tr th:only-of-type {\n",
       "        vertical-align: middle;\n",
       "    }\n",
       "\n",
       "    .dataframe tbody tr th {\n",
       "        vertical-align: top;\n",
       "    }\n",
       "\n",
       "    .dataframe thead th {\n",
       "        text-align: right;\n",
       "    }\n",
       "</style>\n",
       "<table border=\"1\" class=\"dataframe\">\n",
       "  <thead>\n",
       "    <tr style=\"text-align: right;\">\n",
       "      <th></th>\n",
       "      <th>critic_score</th>\n",
       "      <th>user_score</th>\n",
       "      <th>total_sales</th>\n",
       "    </tr>\n",
       "  </thead>\n",
       "  <tbody>\n",
       "    <tr>\n",
       "      <th>critic_score</th>\n",
       "      <td>1.000000</td>\n",
       "      <td>0.546434</td>\n",
       "      <td>0.402661</td>\n",
       "    </tr>\n",
       "    <tr>\n",
       "      <th>user_score</th>\n",
       "      <td>0.546434</td>\n",
       "      <td>1.000000</td>\n",
       "      <td>-0.040132</td>\n",
       "    </tr>\n",
       "    <tr>\n",
       "      <th>total_sales</th>\n",
       "      <td>0.402661</td>\n",
       "      <td>-0.040132</td>\n",
       "      <td>1.000000</td>\n",
       "    </tr>\n",
       "  </tbody>\n",
       "</table>\n",
       "</div>"
      ],
      "text/plain": [
       "              critic_score  user_score  total_sales\n",
       "critic_score      1.000000    0.546434     0.402661\n",
       "user_score        0.546434    1.000000    -0.040132\n",
       "total_sales       0.402661   -0.040132     1.000000"
      ]
     },
     "metadata": {},
     "output_type": "display_data"
    },
    {
     "name": "stdout",
     "output_type": "stream",
     "text": [
      "\n",
      "XOne\n"
     ]
    },
    {
     "data": {
      "text/html": [
       "<div>\n",
       "<style scoped>\n",
       "    .dataframe tbody tr th:only-of-type {\n",
       "        vertical-align: middle;\n",
       "    }\n",
       "\n",
       "    .dataframe tbody tr th {\n",
       "        vertical-align: top;\n",
       "    }\n",
       "\n",
       "    .dataframe thead th {\n",
       "        text-align: right;\n",
       "    }\n",
       "</style>\n",
       "<table border=\"1\" class=\"dataframe\">\n",
       "  <thead>\n",
       "    <tr style=\"text-align: right;\">\n",
       "      <th></th>\n",
       "      <th>critic_score</th>\n",
       "      <th>user_score</th>\n",
       "      <th>total_sales</th>\n",
       "    </tr>\n",
       "  </thead>\n",
       "  <tbody>\n",
       "    <tr>\n",
       "      <th>critic_score</th>\n",
       "      <td>1.000000</td>\n",
       "      <td>0.440977</td>\n",
       "      <td>0.428677</td>\n",
       "    </tr>\n",
       "    <tr>\n",
       "      <th>user_score</th>\n",
       "      <td>0.440977</td>\n",
       "      <td>1.000000</td>\n",
       "      <td>-0.070384</td>\n",
       "    </tr>\n",
       "    <tr>\n",
       "      <th>total_sales</th>\n",
       "      <td>0.428677</td>\n",
       "      <td>-0.070384</td>\n",
       "      <td>1.000000</td>\n",
       "    </tr>\n",
       "  </tbody>\n",
       "</table>\n",
       "</div>"
      ],
      "text/plain": [
       "              critic_score  user_score  total_sales\n",
       "critic_score      1.000000    0.440977     0.428677\n",
       "user_score        0.440977    1.000000    -0.070384\n",
       "total_sales       0.428677   -0.070384     1.000000"
      ]
     },
     "metadata": {},
     "output_type": "display_data"
    },
    {
     "name": "stdout",
     "output_type": "stream",
     "text": [
      "\n",
      "PC\n"
     ]
    },
    {
     "data": {
      "text/html": [
       "<div>\n",
       "<style scoped>\n",
       "    .dataframe tbody tr th:only-of-type {\n",
       "        vertical-align: middle;\n",
       "    }\n",
       "\n",
       "    .dataframe tbody tr th {\n",
       "        vertical-align: top;\n",
       "    }\n",
       "\n",
       "    .dataframe thead th {\n",
       "        text-align: right;\n",
       "    }\n",
       "</style>\n",
       "<table border=\"1\" class=\"dataframe\">\n",
       "  <thead>\n",
       "    <tr style=\"text-align: right;\">\n",
       "      <th></th>\n",
       "      <th>critic_score</th>\n",
       "      <th>user_score</th>\n",
       "      <th>total_sales</th>\n",
       "    </tr>\n",
       "  </thead>\n",
       "  <tbody>\n",
       "    <tr>\n",
       "      <th>critic_score</th>\n",
       "      <td>1.000000</td>\n",
       "      <td>0.466099</td>\n",
       "      <td>0.174634</td>\n",
       "    </tr>\n",
       "    <tr>\n",
       "      <th>user_score</th>\n",
       "      <td>0.466099</td>\n",
       "      <td>1.000000</td>\n",
       "      <td>-0.071597</td>\n",
       "    </tr>\n",
       "    <tr>\n",
       "      <th>total_sales</th>\n",
       "      <td>0.174634</td>\n",
       "      <td>-0.071597</td>\n",
       "      <td>1.000000</td>\n",
       "    </tr>\n",
       "  </tbody>\n",
       "</table>\n",
       "</div>"
      ],
      "text/plain": [
       "              critic_score  user_score  total_sales\n",
       "critic_score      1.000000    0.466099     0.174634\n",
       "user_score        0.466099    1.000000    -0.071597\n",
       "total_sales       0.174634   -0.071597     1.000000"
      ]
     },
     "metadata": {},
     "output_type": "display_data"
    },
    {
     "name": "stdout",
     "output_type": "stream",
     "text": [
      "\n"
     ]
    }
   ],
   "source": [
    "# создание отдельного списка платформ с самыми высокими медианными продажами\n",
    "top_platform = ['PS4', 'XOne', 'PC'] \n",
    "# создание цикла для расчета корреляции для элементов в списке\n",
    "for item in top_platform:\n",
    "    print(f'{item}')\n",
    "    display(actual_data.query('platform == @item')[['critic_score', 'user_score', 'total_sales']].corr())   \n",
    "    print()"
   ]
  },
  {
   "cell_type": "markdown",
   "id": "2b445f33",
   "metadata": {},
   "source": [
    "Коэффициент корреляции примерно для каждой платформы в 0.4 для данных столбца 'total_sales' и 'critic_score' говорит о наличии связи, однако не слишком сильной. Выходит, высокая оценка критиков сопровождается увеличением продаж, но так бывает не всегда. Корреляция для 'total_sales' и 'user_score' близка к нулю, значит, при изменении величины 'user_score' другая 'total_sales' остаётся прежней."
   ]
  },
  {
   "cell_type": "code",
   "execution_count": 66,
   "id": "79ce6d42",
   "metadata": {},
   "outputs": [
    {
     "data": {
      "image/png": "[encoded data removed]",
      "text/plain": [
       "<Figure size 432x288 with 2 Axes>"
      ]
     },
     "metadata": {
      "needs_background": "light"
     },
     "output_type": "display_data"
    },
    {
     "data": {
      "image/png": "[encoded data removed]",
      "text/plain": [
       "<Figure size 432x288 with 2 Axes>"
      ]
     },
     "metadata": {
      "needs_background": "light"
     },
     "output_type": "display_data"
    },
    {
     "data": {
      "image/png": "[encoded data removed]",
      "text/plain": [
       "<Figure size 432x288 with 2 Axes>"
      ]
     },
     "metadata": {
      "needs_background": "light"
     },
     "output_type": "display_data"
    }
   ],
   "source": [
    "# создание отдельного списка платформ с самыми высокими медианными продажами\n",
    "top_platform = ['PS4', 'XOne', 'PC'] \n",
    "# создание цикла для построения диаграмм рассеяния 'critic_score' и 'total_sales' для популярных платформ\n",
    "for item in top_platform:\n",
    "    actual_data.query('platform == @item').plot(x='critic_score', y='total_sales',  kind='hexbin', \n",
    "                                                gridsize=25, grid=True, sharex=False)\n",
    "    plt.ylim(0,10)\n",
    "    plt.xlabel(f'Оценка критиков платформы {item}')\n",
    "    plt.ylabel('Количество проданных копий, млн')\n",
    "    plt.show()"
   ]
  },
  {
   "cell_type": "code",
   "execution_count": 67,
   "id": "cb947ff4",
   "metadata": {},
   "outputs": [
    {
     "data": {
      "image/png": "[encoded data removed]",
      "text/plain": [
       "<Figure size 432x288 with 2 Axes>"
      ]
     },
     "metadata": {
      "needs_background": "light"
     },
     "output_type": "display_data"
    },
    {
     "data": {
      "image/png": "[encoded data removed]",
      "text/plain": [
       "<Figure size 432x288 with 2 Axes>"
      ]
     },
     "metadata": {
      "needs_background": "light"
     },
     "output_type": "display_data"
    },
    {
     "data": {
      "image/png": "[encoded data removed]",
      "text/plain": [
       "<Figure size 432x288 with 2 Axes>"
      ]
     },
     "metadata": {
      "needs_background": "light"
     },
     "output_type": "display_data"
    }
   ],
   "source": [
    "# создание отдельного списка платформ с самыми высокими медианными продажами\n",
    "top_platform = ['PS4', 'XOne', 'PC'] \n",
    "# создание цикла для построения диаграмм рассеяния 'user_score' и 'total_sales' для популярных платформ\n",
    "for item in top_platform:\n",
    "    actual_data.query('platform == @item').plot(x='user_score', y='total_sales',  kind='hexbin', \n",
    "                                                gridsize=25, grid=True, sharex=False)\n",
    "    plt.ylim(0,10)\n",
    "    plt.xlabel(f'Оценка пользователей платформы {item}')\n",
    "    plt.ylabel('Количество проданных копий, млн')\n",
    "    plt.show()"
   ]
  },
  {
   "cell_type": "markdown",
   "id": "b4a8f322",
   "metadata": {},
   "source": [
    "На графиках по каждой популярной платформе можно увидеть слабую взаимосвязь между величинами 'critic_score' и 'total_sales', а также отстутие взаимосвязи между величинами 'user_score' и 'total_sales'."
   ]
  },
  {
   "cell_type": "markdown",
   "id": "d4fe5d14",
   "metadata": {},
   "source": [
    "### Определение прибыльных жанров"
   ]
  },
  {
   "cell_type": "code",
   "execution_count": 68,
   "id": "452ab362",
   "metadata": {},
   "outputs": [
    {
     "data": {
      "image/png": "[encoded data removed]",
      "text/plain": [
       "<Figure size 1440x720 with 1 Axes>"
      ]
     },
     "metadata": {
      "needs_background": "light"
     },
     "output_type": "display_data"
    }
   ],
   "source": [
    "# oтображение диаграммы ящик с усами по глобальным продажам игр в разбивке по жанрам\n",
    "actual_data.boxplot(column='total_sales', by='genre', figsize=(20,10))\n",
    "plt.ylim(0,2)\n",
    "plt.xlabel('Жанр', size=14)\n",
    "plt.ylabel('Количество проданных копий, млн', size=14)\n",
    "plt.title('Распределение продаж игр в разбивке по жанрам');"
   ]
  },
  {
   "cell_type": "markdown",
   "id": "0ae46e5c",
   "metadata": {},
   "source": [
    "Анализируя распределения общих продажи по жанрам можно сделать вывод, продажи зависят от жанра выпускаемой игры. Самые высокие медианные продажи у игр жанра shooter, sports, fighting, racing, role-playing. Самые низкие продажи у игр жанра adventure,  puzzle, stategy."
   ]
  },
  {
   "cell_type": "markdown",
   "id": "a42d55c3",
   "metadata": {},
   "source": [
    "**Вывод**"
   ]
  },
  {
   "cell_type": "markdown",
   "id": "3b813c5e",
   "metadata": {},
   "source": [
    "Согласно графику распределения количества выпущенных игр в год по каждой платформе, диаграмме глобальных продаж игр в разбивке по платформам и жанрам, сводной таблице max_sales, показывающей список платформ с наибольшими продажами за актуальный период, в следующем 2017 году следует выпустить игру на платформе PS4 в жанре Shooter."
   ]
  },
  {
   "cell_type": "markdown",
   "id": "b7a1e03e",
   "metadata": {},
   "source": [
    "## Составление портрета пользователя каждого региона"
   ]
  },
  {
   "cell_type": "markdown",
   "id": "4a2cae77",
   "metadata": {},
   "source": [
    "### Самые популярные платформы"
   ]
  },
  {
   "cell_type": "markdown",
   "id": "ec7e5b20",
   "metadata": {},
   "source": [
    "Определим для пользователя каждого региона (NA, EU, JP) самые популярные платформы (топ-5)."
   ]
  },
  {
   "cell_type": "code",
   "execution_count": 69,
   "id": "fdf63ddf",
   "metadata": {
    "scrolled": false
   },
   "outputs": [
    {
     "data": {
      "image/png": "[encoded data removed]",
      "text/plain": [
       "<Figure size 1440x720 with 1 Axes>"
      ]
     },
     "metadata": {
      "needs_background": "light"
     },
     "output_type": "display_data"
    },
    {
     "data": {
      "image/png": "[encoded data removed]",
      "text/plain": [
       "<Figure size 1440x720 with 1 Axes>"
      ]
     },
     "metadata": {
      "needs_background": "light"
     },
     "output_type": "display_data"
    },
    {
     "data": {
      "image/png": "[encoded data removed]",
      "text/plain": [
       "<Figure size 1440x720 with 1 Axes>"
      ]
     },
     "metadata": {
      "needs_background": "light"
     },
     "output_type": "display_data"
    }
   ],
   "source": [
    "# создание списка регионов\n",
    "columns = ['na_sales', 'eu_sales', 'jp_sales']\n",
    "# oтображение диаграммы ящик с усами по глобальным продажам игр в Северной Америке, Европе, Японии в разбивке по платформам\n",
    "for item in columns:\n",
    "    actual_data.boxplot(column=item, by='platform', figsize=(20,10))\n",
    "    plt.ylim(0,1)\n",
    "    plt.xlabel('Платформа', size=14)\n",
    "    plt.ylabel('Количество проданных копий, млн', size=14)\n",
    "    plt.title(f'Распределение продаж игр в {item} в разбивке по платформам');"
   ]
  },
  {
   "cell_type": "code",
   "execution_count": 70,
   "id": "5e806f43",
   "metadata": {},
   "outputs": [
    {
     "data": {
      "text/html": [
       "<div>\n",
       "<style scoped>\n",
       "    .dataframe tbody tr th:only-of-type {\n",
       "        vertical-align: middle;\n",
       "    }\n",
       "\n",
       "    .dataframe tbody tr th {\n",
       "        vertical-align: top;\n",
       "    }\n",
       "\n",
       "    .dataframe thead th {\n",
       "        text-align: right;\n",
       "    }\n",
       "</style>\n",
       "<table border=\"1\" class=\"dataframe\">\n",
       "  <thead>\n",
       "    <tr style=\"text-align: right;\">\n",
       "      <th></th>\n",
       "      <th>platform</th>\n",
       "      <th>na_sales</th>\n",
       "    </tr>\n",
       "  </thead>\n",
       "  <tbody>\n",
       "    <tr>\n",
       "      <th>3</th>\n",
       "      <td>PS4</td>\n",
       "      <td>98.61</td>\n",
       "    </tr>\n",
       "    <tr>\n",
       "      <th>9</th>\n",
       "      <td>XOne</td>\n",
       "      <td>81.27</td>\n",
       "    </tr>\n",
       "    <tr>\n",
       "      <th>8</th>\n",
       "      <td>X360</td>\n",
       "      <td>28.30</td>\n",
       "    </tr>\n",
       "    <tr>\n",
       "      <th>0</th>\n",
       "      <td>3DS</td>\n",
       "      <td>22.64</td>\n",
       "    </tr>\n",
       "    <tr>\n",
       "      <th>2</th>\n",
       "      <td>PS3</td>\n",
       "      <td>22.05</td>\n",
       "    </tr>\n",
       "    <tr>\n",
       "      <th>7</th>\n",
       "      <td>WiiU</td>\n",
       "      <td>19.36</td>\n",
       "    </tr>\n",
       "    <tr>\n",
       "      <th>1</th>\n",
       "      <td>PC</td>\n",
       "      <td>7.23</td>\n",
       "    </tr>\n",
       "    <tr>\n",
       "      <th>5</th>\n",
       "      <td>PSV</td>\n",
       "      <td>2.52</td>\n",
       "    </tr>\n",
       "    <tr>\n",
       "      <th>6</th>\n",
       "      <td>Wii</td>\n",
       "      <td>2.08</td>\n",
       "    </tr>\n",
       "    <tr>\n",
       "      <th>4</th>\n",
       "      <td>PSP</td>\n",
       "      <td>0.00</td>\n",
       "    </tr>\n",
       "  </tbody>\n",
       "</table>\n",
       "</div>"
      ],
      "text/plain": [
       "  platform  na_sales\n",
       "3      PS4     98.61\n",
       "9     XOne     81.27\n",
       "8     X360     28.30\n",
       "0      3DS     22.64\n",
       "2      PS3     22.05\n",
       "7     WiiU     19.36\n",
       "1       PC      7.23\n",
       "5      PSV      2.52\n",
       "6      Wii      2.08\n",
       "4      PSP      0.00"
      ]
     },
     "execution_count": 70,
     "metadata": {},
     "output_type": "execute_result"
    }
   ],
   "source": [
    "# формирование сводной таблицы для получения списка платформ с наибольшими продажами \n",
    "#за актуальный период в Северной Америке \n",
    "sales_platform_na = actual_data.pivot_table(index = 'platform', values='na_sales', aggfunc='sum').\\\n",
    "reset_index().sort_values(by = 'na_sales', ascending = False)\n",
    "sales_platform_na"
   ]
  },
  {
   "cell_type": "code",
   "execution_count": 71,
   "id": "b7979485",
   "metadata": {},
   "outputs": [
    {
     "data": {
      "application/vnd.plotly.v1+json": {
       "config": {
        "plotlyServerURL": "https://plot.ly"
       },
       "data": [
        {
         "alignmentgroup": "True",
         "hovertemplate": "platform=%{x}<br>Количество проданных копии, млн=%{y}<extra></extra>",
         "legendgroup": "",
         "marker": {
          "color": "#636efa",
          "pattern": {
           "shape": ""
          }
         },
         "name": "",
         "offsetgroup": "",
         "orientation": "v",
         "showlegend": false,
         "textposition": "auto",
         "type": "bar",
         "x": [
          "PS4",
          "XOne",
          "X360",
          "3DS",
          "PS3",
          "WiiU",
          "PC",
          "PSV",
          "Wii",
          "PSP"
         ],
         "xaxis": "x",
         "y": [
          98.61,
          81.27,
          28.3,
          22.64,
          22.05,
          19.36,
          7.23,
          2.52,
          2.08,
          0
         ],
         "yaxis": "y"
        }
       ],
       "layout": {
        "barmode": "relative",
        "legend": {
         "tracegroupgap": 0
        },
        "template": {
         "data": {
          "bar": [
           {
            "error_x": {
             "color": "#2a3f5f"
            },
            "error_y": {
             "color": "#2a3f5f"
            },
            "marker": {
             "line": {
              "color": "#E5ECF6",
              "width": 0.5
             },
             "pattern": {
              "fillmode": "overlay",
              "size": 10,
              "solidity": 0.2
             }
            },
            "type": "bar"
           }
          ],
          "barpolar": [
           {
            "marker": {
             "line": {
              "color": "#E5ECF6",
              "width": 0.5
             },
             "pattern": {
              "fillmode": "overlay",
              "size": 10,
              "solidity": 0.2
             }
            },
            "type": "barpolar"
           }
          ],
          "carpet": [
           {
            "aaxis": {
             "endlinecolor": "#2a3f5f",
             "gridcolor": "white",
             "linecolor": "white",
             "minorgridcolor": "white",
             "startlinecolor": "#2a3f5f"
            },
            "baxis": {
             "endlinecolor": "#2a3f5f",
             "gridcolor": "white",
             "linecolor": "white",
             "minorgridcolor": "white",
             "startlinecolor": "#2a3f5f"
            },
            "type": "carpet"
           }
          ],
          "choropleth": [
           {
            "colorbar": {
             "outlinewidth": 0,
             "ticks": ""
            },
            "type": "choropleth"
           }
          ],
          "contour": [
           {
            "colorbar": {
             "outlinewidth": 0,
             "ticks": ""
            },
            "colorscale": [
             [
              0,
              "#0d0887"
             ],
             [
              0.1111111111111111,
              "#46039f"
             ],
             [
              0.2222222222222222,
              "#7201a8"
             ],
             [
              0.3333333333333333,
              "#9c179e"
             ],
             [
              0.4444444444444444,
              "#bd3786"
             ],
             [
              0.5555555555555556,
              "#d8576b"
             ],
             [
              0.6666666666666666,
              "#ed7953"
             ],
             [
              0.7777777777777778,
              "#fb9f3a"
             ],
             [
              0.8888888888888888,
              "#fdca26"
             ],
             [
              1,
              "#f0f921"
             ]
            ],
            "type": "contour"
           }
          ],
          "contourcarpet": [
           {
            "colorbar": {
             "outlinewidth": 0,
             "ticks": ""
            },
            "type": "contourcarpet"
           }
          ],
          "heatmap": [
           {
            "colorbar": {
             "outlinewidth": 0,
             "ticks": ""
            },
            "colorscale": [
             [
              0,
              "#0d0887"
             ],
             [
              0.1111111111111111,
              "#46039f"
             ],
             [
              0.2222222222222222,
              "#7201a8"
             ],
             [
              0.3333333333333333,
              "#9c179e"
             ],
             [
              0.4444444444444444,
              "#bd3786"
             ],
             [
              0.5555555555555556,
              "#d8576b"
             ],
             [
              0.6666666666666666,
              "#ed7953"
             ],
             [
              0.7777777777777778,
              "#fb9f3a"
             ],
             [
              0.8888888888888888,
              "#fdca26"
             ],
             [
              1,
              "#f0f921"
             ]
            ],
            "type": "heatmap"
           }
          ],
          "heatmapgl": [
           {
            "colorbar": {
             "outlinewidth": 0,
             "ticks": ""
            },
            "colorscale": [
             [
              0,
              "#0d0887"
             ],
             [
              0.1111111111111111,
              "#46039f"
             ],
             [
              0.2222222222222222,
              "#7201a8"
             ],
             [
              0.3333333333333333,
              "#9c179e"
             ],
             [
              0.4444444444444444,
              "#bd3786"
             ],
             [
              0.5555555555555556,
              "#d8576b"
             ],
             [
              0.6666666666666666,
              "#ed7953"
             ],
             [
              0.7777777777777778,
              "#fb9f3a"
             ],
             [
              0.8888888888888888,
              "#fdca26"
             ],
             [
              1,
              "#f0f921"
             ]
            ],
            "type": "heatmapgl"
           }
          ],
          "histogram": [
           {
            "marker": {
             "pattern": {
              "fillmode": "overlay",
              "size": 10,
              "solidity": 0.2
             }
            },
            "type": "histogram"
           }
          ],
          "histogram2d": [
           {
            "colorbar": {
             "outlinewidth": 0,
             "ticks": ""
            },
            "colorscale": [
             [
              0,
              "#0d0887"
             ],
             [
              0.1111111111111111,
              "#46039f"
             ],
             [
              0.2222222222222222,
              "#7201a8"
             ],
             [
              0.3333333333333333,
              "#9c179e"
             ],
             [
              0.4444444444444444,
              "#bd3786"
             ],
             [
              0.5555555555555556,
              "#d8576b"
             ],
             [
              0.6666666666666666,
              "#ed7953"
             ],
             [
              0.7777777777777778,
              "#fb9f3a"
             ],
             [
              0.8888888888888888,
              "#fdca26"
             ],
             [
              1,
              "#f0f921"
             ]
            ],
            "type": "histogram2d"
           }
          ],
          "histogram2dcontour": [
           {
            "colorbar": {
             "outlinewidth": 0,
             "ticks": ""
            },
            "colorscale": [
             [
              0,
              "#0d0887"
             ],
             [
              0.1111111111111111,
              "#46039f"
             ],
             [
              0.2222222222222222,
              "#7201a8"
             ],
             [
              0.3333333333333333,
              "#9c179e"
             ],
             [
              0.4444444444444444,
              "#bd3786"
             ],
             [
              0.5555555555555556,
              "#d8576b"
             ],
             [
              0.6666666666666666,
              "#ed7953"
             ],
             [
              0.7777777777777778,
              "#fb9f3a"
             ],
             [
              0.8888888888888888,
              "#fdca26"
             ],
             [
              1,
              "#f0f921"
             ]
            ],
            "type": "histogram2dcontour"
           }
          ],
          "mesh3d": [
           {
            "colorbar": {
             "outlinewidth": 0,
             "ticks": ""
            },
            "type": "mesh3d"
           }
          ],
          "parcoords": [
           {
            "line": {
             "colorbar": {
              "outlinewidth": 0,
              "ticks": ""
             }
            },
            "type": "parcoords"
           }
          ],
          "pie": [
           {
            "automargin": true,
            "type": "pie"
           }
          ],
          "scatter": [
           {
            "marker": {
             "colorbar": {
              "outlinewidth": 0,
              "ticks": ""
             }
            },
            "type": "scatter"
           }
          ],
          "scatter3d": [
           {
            "line": {
             "colorbar": {
              "outlinewidth": 0,
              "ticks": ""
             }
            },
            "marker": {
             "colorbar": {
              "outlinewidth": 0,
              "ticks": ""
             }
            },
            "type": "scatter3d"
           }
          ],
          "scattercarpet": [
           {
            "marker": {
             "colorbar": {
              "outlinewidth": 0,
              "ticks": ""
             }
            },
            "type": "scattercarpet"
           }
          ],
          "scattergeo": [
           {
            "marker": {
             "colorbar": {
              "outlinewidth": 0,
              "ticks": ""
             }
            },
            "type": "scattergeo"
           }
          ],
          "scattergl": [
           {
            "marker": {
             "colorbar": {
              "outlinewidth": 0,
              "ticks": ""
             }
            },
            "type": "scattergl"
           }
          ],
          "scattermapbox": [
           {
            "marker": {
             "colorbar": {
              "outlinewidth": 0,
              "ticks": ""
             }
            },
            "type": "scattermapbox"
           }
          ],
          "scatterpolar": [
           {
            "marker": {
             "colorbar": {
              "outlinewidth": 0,
              "ticks": ""
             }
            },
            "type": "scatterpolar"
           }
          ],
          "scatterpolargl": [
           {
            "marker": {
             "colorbar": {
              "outlinewidth": 0,
              "ticks": ""
             }
            },
            "type": "scatterpolargl"
           }
          ],
          "scatterternary": [
           {
            "marker": {
             "colorbar": {
              "outlinewidth": 0,
              "ticks": ""
             }
            },
            "type": "scatterternary"
           }
          ],
          "surface": [
           {
            "colorbar": {
             "outlinewidth": 0,
             "ticks": ""
            },
            "colorscale": [
             [
              0,
              "#0d0887"
             ],
             [
              0.1111111111111111,
              "#46039f"
             ],
             [
              0.2222222222222222,
              "#7201a8"
             ],
             [
              0.3333333333333333,
              "#9c179e"
             ],
             [
              0.4444444444444444,
              "#bd3786"
             ],
             [
              0.5555555555555556,
              "#d8576b"
             ],
             [
              0.6666666666666666,
              "#ed7953"
             ],
             [
              0.7777777777777778,
              "#fb9f3a"
             ],
             [
              0.8888888888888888,
              "#fdca26"
             ],
             [
              1,
              "#f0f921"
             ]
            ],
            "type": "surface"
           }
          ],
          "table": [
           {
            "cells": {
             "fill": {
              "color": "#EBF0F8"
             },
             "line": {
              "color": "white"
             }
            },
            "header": {
             "fill": {
              "color": "#C8D4E3"
             },
             "line": {
              "color": "white"
             }
            },
            "type": "table"
           }
          ]
         },
         "layout": {
          "annotationdefaults": {
           "arrowcolor": "#2a3f5f",
           "arrowhead": 0,
           "arrowwidth": 1
          },
          "autotypenumbers": "strict",
          "coloraxis": {
           "colorbar": {
            "outlinewidth": 0,
            "ticks": ""
           }
          },
          "colorscale": {
           "diverging": [
            [
             0,
             "#8e0152"
            ],
            [
             0.1,
             "#c51b7d"
            ],
            [
             0.2,
             "#de77ae"
            ],
            [
             0.3,
             "#f1b6da"
            ],
            [
             0.4,
             "#fde0ef"
            ],
            [
             0.5,
             "#f7f7f7"
            ],
            [
             0.6,
             "#e6f5d0"
            ],
            [
             0.7,
             "#b8e186"
            ],
            [
             0.8,
             "#7fbc41"
            ],
            [
             0.9,
             "#4d9221"
            ],
            [
             1,
             "#276419"
            ]
           ],
           "sequential": [
            [
             0,
             "#0d0887"
            ],
            [
             0.1111111111111111,
             "#46039f"
            ],
            [
             0.2222222222222222,
             "#7201a8"
            ],
            [
             0.3333333333333333,
             "#9c179e"
            ],
            [
             0.4444444444444444,
             "#bd3786"
            ],
            [
             0.5555555555555556,
             "#d8576b"
            ],
            [
             0.6666666666666666,
             "#ed7953"
            ],
            [
             0.7777777777777778,
             "#fb9f3a"
            ],
            [
             0.8888888888888888,
             "#fdca26"
            ],
            [
             1,
             "#f0f921"
            ]
           ],
           "sequentialminus": [
            [
             0,
             "#0d0887"
            ],
            [
             0.1111111111111111,
             "#46039f"
            ],
            [
             0.2222222222222222,
             "#7201a8"
            ],
            [
             0.3333333333333333,
             "#9c179e"
            ],
            [
             0.4444444444444444,
             "#bd3786"
            ],
            [
             0.5555555555555556,
             "#d8576b"
            ],
            [
             0.6666666666666666,
             "#ed7953"
            ],
            [
             0.7777777777777778,
             "#fb9f3a"
            ],
            [
             0.8888888888888888,
             "#fdca26"
            ],
            [
             1,
             "#f0f921"
            ]
           ]
          },
          "colorway": [
           "#636efa",
           "#EF553B",
           "#00cc96",
           "#ab63fa",
           "#FFA15A",
           "#19d3f3",
           "#FF6692",
           "#B6E880",
           "#FF97FF",
           "#FECB52"
          ],
          "font": {
           "color": "#2a3f5f"
          },
          "geo": {
           "bgcolor": "white",
           "lakecolor": "white",
           "landcolor": "#E5ECF6",
           "showlakes": true,
           "showland": true,
           "subunitcolor": "white"
          },
          "hoverlabel": {
           "align": "left"
          },
          "hovermode": "closest",
          "mapbox": {
           "style": "light"
          },
          "paper_bgcolor": "white",
          "plot_bgcolor": "#E5ECF6",
          "polar": {
           "angularaxis": {
            "gridcolor": "white",
            "linecolor": "white",
            "ticks": ""
           },
           "bgcolor": "#E5ECF6",
           "radialaxis": {
            "gridcolor": "white",
            "linecolor": "white",
            "ticks": ""
           }
          },
          "scene": {
           "xaxis": {
            "backgroundcolor": "#E5ECF6",
            "gridcolor": "white",
            "gridwidth": 2,
            "linecolor": "white",
            "showbackground": true,
            "ticks": "",
            "zerolinecolor": "white"
           },
           "yaxis": {
            "backgroundcolor": "#E5ECF6",
            "gridcolor": "white",
            "gridwidth": 2,
            "linecolor": "white",
            "showbackground": true,
            "ticks": "",
            "zerolinecolor": "white"
           },
           "zaxis": {
            "backgroundcolor": "#E5ECF6",
            "gridcolor": "white",
            "gridwidth": 2,
            "linecolor": "white",
            "showbackground": true,
            "ticks": "",
            "zerolinecolor": "white"
           }
          },
          "shapedefaults": {
           "line": {
            "color": "#2a3f5f"
           }
          },
          "ternary": {
           "aaxis": {
            "gridcolor": "white",
            "linecolor": "white",
            "ticks": ""
           },
           "baxis": {
            "gridcolor": "white",
            "linecolor": "white",
            "ticks": ""
           },
           "bgcolor": "#E5ECF6",
           "caxis": {
            "gridcolor": "white",
            "linecolor": "white",
            "ticks": ""
           }
          },
          "title": {
           "x": 0.05
          },
          "xaxis": {
           "automargin": true,
           "gridcolor": "white",
           "linecolor": "white",
           "ticks": "",
           "title": {
            "standoff": 15
           },
           "zerolinecolor": "white",
           "zerolinewidth": 2
          },
          "yaxis": {
           "automargin": true,
           "gridcolor": "white",
           "linecolor": "white",
           "ticks": "",
           "title": {
            "standoff": 15
           },
           "zerolinecolor": "white",
           "zerolinewidth": 2
          }
         }
        },
        "title": {
         "text": "Продажи в Северной Америке"
        },
        "xaxis": {
         "anchor": "y",
         "domain": [
          0,
          1
         ],
         "title": {
          "text": "platform"
         }
        },
        "yaxis": {
         "anchor": "x",
         "domain": [
          0,
          1
         ],
         "title": {
          "text": "Количество проданных копии, млн"
         }
        }
       }
      },
      "text/html": [
       "<div>                            <div id=\"87d9b12f-6b42-4ec7-9920-9911e5200fa7\" class=\"plotly-graph-div\" style=\"height:525px; width:100%;\"></div>            <script type=\"text/javascript\">                require([\"plotly\"], function(Plotly) {                    window.PLOTLYENV=window.PLOTLYENV || {};                                    if (document.getElementById(\"87d9b12f-6b42-4ec7-9920-9911e5200fa7\")) {                    Plotly.newPlot(                        \"87d9b12f-6b42-4ec7-9920-9911e5200fa7\",                        [{\"alignmentgroup\":\"True\",\"hovertemplate\":\"platform=%{x}<br>\\u041a\\u043e\\u043b\\u0438\\u0447\\u0435\\u0441\\u0442\\u0432\\u043e \\u043f\\u0440\\u043e\\u0434\\u0430\\u043d\\u043d\\u044b\\u0445 \\u043a\\u043e\\u043f\\u0438\\u0438, \\u043c\\u043b\\u043d=%{y}<extra></extra>\",\"legendgroup\":\"\",\"marker\":{\"color\":\"#636efa\",\"pattern\":{\"shape\":\"\"}},\"name\":\"\",\"offsetgroup\":\"\",\"orientation\":\"v\",\"showlegend\":false,\"textposition\":\"auto\",\"x\":[\"PS4\",\"XOne\",\"X360\",\"3DS\",\"PS3\",\"WiiU\",\"PC\",\"PSV\",\"Wii\",\"PSP\"],\"xaxis\":\"x\",\"y\":[98.61,81.27,28.3,22.64,22.05,19.36,7.23,2.52,2.08,0.0],\"yaxis\":\"y\",\"type\":\"bar\"}],                        {\"template\":{\"data\":{\"bar\":[{\"error_x\":{\"color\":\"#2a3f5f\"},\"error_y\":{\"color\":\"#2a3f5f\"},\"marker\":{\"line\":{\"color\":\"#E5ECF6\",\"width\":0.5},\"pattern\":{\"fillmode\":\"overlay\",\"size\":10,\"solidity\":0.2}},\"type\":\"bar\"}],\"barpolar\":[{\"marker\":{\"line\":{\"color\":\"#E5ECF6\",\"width\":0.5},\"pattern\":{\"fillmode\":\"overlay\",\"size\":10,\"solidity\":0.2}},\"type\":\"barpolar\"}],\"carpet\":[{\"aaxis\":{\"endlinecolor\":\"#2a3f5f\",\"gridcolor\":\"white\",\"linecolor\":\"white\",\"minorgridcolor\":\"white\",\"startlinecolor\":\"#2a3f5f\"},\"baxis\":{\"endlinecolor\":\"#2a3f5f\",\"gridcolor\":\"white\",\"linecolor\":\"white\",\"minorgridcolor\":\"white\",\"startlinecolor\":\"#2a3f5f\"},\"type\":\"carpet\"}],\"choropleth\":[{\"colorbar\":{\"outlinewidth\":0,\"ticks\":\"\"},\"type\":\"choropleth\"}],\"contour\":[{\"colorbar\":{\"outlinewidth\":0,\"ticks\":\"\"},\"colorscale\":[[0.0,\"#0d0887\"],[0.1111111111111111,\"#46039f\"],[0.2222222222222222,\"#7201a8\"],[0.3333333333333333,\"#9c179e\"],[0.4444444444444444,\"#bd3786\"],[0.5555555555555556,\"#d8576b\"],[0.6666666666666666,\"#ed7953\"],[0.7777777777777778,\"#fb9f3a\"],[0.8888888888888888,\"#fdca26\"],[1.0,\"#f0f921\"]],\"type\":\"contour\"}],\"contourcarpet\":[{\"colorbar\":{\"outlinewidth\":0,\"ticks\":\"\"},\"type\":\"contourcarpet\"}],\"heatmap\":[{\"colorbar\":{\"outlinewidth\":0,\"ticks\":\"\"},\"colorscale\":[[0.0,\"#0d0887\"],[0.1111111111111111,\"#46039f\"],[0.2222222222222222,\"#7201a8\"],[0.3333333333333333,\"#9c179e\"],[0.4444444444444444,\"#bd3786\"],[0.5555555555555556,\"#d8576b\"],[0.6666666666666666,\"#ed7953\"],[0.7777777777777778,\"#fb9f3a\"],[0.8888888888888888,\"#fdca26\"],[1.0,\"#f0f921\"]],\"type\":\"heatmap\"}],\"heatmapgl\":[{\"colorbar\":{\"outlinewidth\":0,\"ticks\":\"\"},\"colorscale\":[[0.0,\"#0d0887\"],[0.1111111111111111,\"#46039f\"],[0.2222222222222222,\"#7201a8\"],[0.3333333333333333,\"#9c179e\"],[0.4444444444444444,\"#bd3786\"],[0.5555555555555556,\"#d8576b\"],[0.6666666666666666,\"#ed7953\"],[0.7777777777777778,\"#fb9f3a\"],[0.8888888888888888,\"#fdca26\"],[1.0,\"#f0f921\"]],\"type\":\"heatmapgl\"}],\"histogram\":[{\"marker\":{\"pattern\":{\"fillmode\":\"overlay\",\"size\":10,\"solidity\":0.2}},\"type\":\"histogram\"}],\"histogram2d\":[{\"colorbar\":{\"outlinewidth\":0,\"ticks\":\"\"},\"colorscale\":[[0.0,\"#0d0887\"],[0.1111111111111111,\"#46039f\"],[0.2222222222222222,\"#7201a8\"],[0.3333333333333333,\"#9c179e\"],[0.4444444444444444,\"#bd3786\"],[0.5555555555555556,\"#d8576b\"],[0.6666666666666666,\"#ed7953\"],[0.7777777777777778,\"#fb9f3a\"],[0.8888888888888888,\"#fdca26\"],[1.0,\"#f0f921\"]],\"type\":\"histogram2d\"}],\"histogram2dcontour\":[{\"colorbar\":{\"outlinewidth\":0,\"ticks\":\"\"},\"colorscale\":[[0.0,\"#0d0887\"],[0.1111111111111111,\"#46039f\"],[0.2222222222222222,\"#7201a8\"],[0.3333333333333333,\"#9c179e\"],[0.4444444444444444,\"#bd3786\"],[0.5555555555555556,\"#d8576b\"],[0.6666666666666666,\"#ed7953\"],[0.7777777777777778,\"#fb9f3a\"],[0.8888888888888888,\"#fdca26\"],[1.0,\"#f0f921\"]],\"type\":\"histogram2dcontour\"}],\"mesh3d\":[{\"colorbar\":{\"outlinewidth\":0,\"ticks\":\"\"},\"type\":\"mesh3d\"}],\"parcoords\":[{\"line\":{\"colorbar\":{\"outlinewidth\":0,\"ticks\":\"\"}},\"type\":\"parcoords\"}],\"pie\":[{\"automargin\":true,\"type\":\"pie\"}],\"scatter\":[{\"marker\":{\"colorbar\":{\"outlinewidth\":0,\"ticks\":\"\"}},\"type\":\"scatter\"}],\"scatter3d\":[{\"line\":{\"colorbar\":{\"outlinewidth\":0,\"ticks\":\"\"}},\"marker\":{\"colorbar\":{\"outlinewidth\":0,\"ticks\":\"\"}},\"type\":\"scatter3d\"}],\"scattercarpet\":[{\"marker\":{\"colorbar\":{\"outlinewidth\":0,\"ticks\":\"\"}},\"type\":\"scattercarpet\"}],\"scattergeo\":[{\"marker\":{\"colorbar\":{\"outlinewidth\":0,\"ticks\":\"\"}},\"type\":\"scattergeo\"}],\"scattergl\":[{\"marker\":{\"colorbar\":{\"outlinewidth\":0,\"ticks\":\"\"}},\"type\":\"scattergl\"}],\"scattermapbox\":[{\"marker\":{\"colorbar\":{\"outlinewidth\":0,\"ticks\":\"\"}},\"type\":\"scattermapbox\"}],\"scatterpolar\":[{\"marker\":{\"colorbar\":{\"outlinewidth\":0,\"ticks\":\"\"}},\"type\":\"scatterpolar\"}],\"scatterpolargl\":[{\"marker\":{\"colorbar\":{\"outlinewidth\":0,\"ticks\":\"\"}},\"type\":\"scatterpolargl\"}],\"scatterternary\":[{\"marker\":{\"colorbar\":{\"outlinewidth\":0,\"ticks\":\"\"}},\"type\":\"scatterternary\"}],\"surface\":[{\"colorbar\":{\"outlinewidth\":0,\"ticks\":\"\"},\"colorscale\":[[0.0,\"#0d0887\"],[0.1111111111111111,\"#46039f\"],[0.2222222222222222,\"#7201a8\"],[0.3333333333333333,\"#9c179e\"],[0.4444444444444444,\"#bd3786\"],[0.5555555555555556,\"#d8576b\"],[0.6666666666666666,\"#ed7953\"],[0.7777777777777778,\"#fb9f3a\"],[0.8888888888888888,\"#fdca26\"],[1.0,\"#f0f921\"]],\"type\":\"surface\"}],\"table\":[{\"cells\":{\"fill\":{\"color\":\"#EBF0F8\"},\"line\":{\"color\":\"white\"}},\"header\":{\"fill\":{\"color\":\"#C8D4E3\"},\"line\":{\"color\":\"white\"}},\"type\":\"table\"}]},\"layout\":{\"annotationdefaults\":{\"arrowcolor\":\"#2a3f5f\",\"arrowhead\":0,\"arrowwidth\":1},\"autotypenumbers\":\"strict\",\"coloraxis\":{\"colorbar\":{\"outlinewidth\":0,\"ticks\":\"\"}},\"colorscale\":{\"diverging\":[[0,\"#8e0152\"],[0.1,\"#c51b7d\"],[0.2,\"#de77ae\"],[0.3,\"#f1b6da\"],[0.4,\"#fde0ef\"],[0.5,\"#f7f7f7\"],[0.6,\"#e6f5d0\"],[0.7,\"#b8e186\"],[0.8,\"#7fbc41\"],[0.9,\"#4d9221\"],[1,\"#276419\"]],\"sequential\":[[0.0,\"#0d0887\"],[0.1111111111111111,\"#46039f\"],[0.2222222222222222,\"#7201a8\"],[0.3333333333333333,\"#9c179e\"],[0.4444444444444444,\"#bd3786\"],[0.5555555555555556,\"#d8576b\"],[0.6666666666666666,\"#ed7953\"],[0.7777777777777778,\"#fb9f3a\"],[0.8888888888888888,\"#fdca26\"],[1.0,\"#f0f921\"]],\"sequentialminus\":[[0.0,\"#0d0887\"],[0.1111111111111111,\"#46039f\"],[0.2222222222222222,\"#7201a8\"],[0.3333333333333333,\"#9c179e\"],[0.4444444444444444,\"#bd3786\"],[0.5555555555555556,\"#d8576b\"],[0.6666666666666666,\"#ed7953\"],[0.7777777777777778,\"#fb9f3a\"],[0.8888888888888888,\"#fdca26\"],[1.0,\"#f0f921\"]]},\"colorway\":[\"#636efa\",\"#EF553B\",\"#00cc96\",\"#ab63fa\",\"#FFA15A\",\"#19d3f3\",\"#FF6692\",\"#B6E880\",\"#FF97FF\",\"#FECB52\"],\"font\":{\"color\":\"#2a3f5f\"},\"geo\":{\"bgcolor\":\"white\",\"lakecolor\":\"white\",\"landcolor\":\"#E5ECF6\",\"showlakes\":true,\"showland\":true,\"subunitcolor\":\"white\"},\"hoverlabel\":{\"align\":\"left\"},\"hovermode\":\"closest\",\"mapbox\":{\"style\":\"light\"},\"paper_bgcolor\":\"white\",\"plot_bgcolor\":\"#E5ECF6\",\"polar\":{\"angularaxis\":{\"gridcolor\":\"white\",\"linecolor\":\"white\",\"ticks\":\"\"},\"bgcolor\":\"#E5ECF6\",\"radialaxis\":{\"gridcolor\":\"white\",\"linecolor\":\"white\",\"ticks\":\"\"}},\"scene\":{\"xaxis\":{\"backgroundcolor\":\"#E5ECF6\",\"gridcolor\":\"white\",\"gridwidth\":2,\"linecolor\":\"white\",\"showbackground\":true,\"ticks\":\"\",\"zerolinecolor\":\"white\"},\"yaxis\":{\"backgroundcolor\":\"#E5ECF6\",\"gridcolor\":\"white\",\"gridwidth\":2,\"linecolor\":\"white\",\"showbackground\":true,\"ticks\":\"\",\"zerolinecolor\":\"white\"},\"zaxis\":{\"backgroundcolor\":\"#E5ECF6\",\"gridcolor\":\"white\",\"gridwidth\":2,\"linecolor\":\"white\",\"showbackground\":true,\"ticks\":\"\",\"zerolinecolor\":\"white\"}},\"shapedefaults\":{\"line\":{\"color\":\"#2a3f5f\"}},\"ternary\":{\"aaxis\":{\"gridcolor\":\"white\",\"linecolor\":\"white\",\"ticks\":\"\"},\"baxis\":{\"gridcolor\":\"white\",\"linecolor\":\"white\",\"ticks\":\"\"},\"bgcolor\":\"#E5ECF6\",\"caxis\":{\"gridcolor\":\"white\",\"linecolor\":\"white\",\"ticks\":\"\"}},\"title\":{\"x\":0.05},\"xaxis\":{\"automargin\":true,\"gridcolor\":\"white\",\"linecolor\":\"white\",\"ticks\":\"\",\"title\":{\"standoff\":15},\"zerolinecolor\":\"white\",\"zerolinewidth\":2},\"yaxis\":{\"automargin\":true,\"gridcolor\":\"white\",\"linecolor\":\"white\",\"ticks\":\"\",\"title\":{\"standoff\":15},\"zerolinecolor\":\"white\",\"zerolinewidth\":2}}},\"xaxis\":{\"anchor\":\"y\",\"domain\":[0.0,1.0],\"title\":{\"text\":\"platform\"}},\"yaxis\":{\"anchor\":\"x\",\"domain\":[0.0,1.0],\"title\":{\"text\":\"\\u041a\\u043e\\u043b\\u0438\\u0447\\u0435\\u0441\\u0442\\u0432\\u043e \\u043f\\u0440\\u043e\\u0434\\u0430\\u043d\\u043d\\u044b\\u0445 \\u043a\\u043e\\u043f\\u0438\\u0438, \\u043c\\u043b\\u043d\"}},\"legend\":{\"tracegroupgap\":0},\"title\":{\"text\":\"\\u041f\\u0440\\u043e\\u0434\\u0430\\u0436\\u0438 \\u0432 \\u0421\\u0435\\u0432\\u0435\\u0440\\u043d\\u043e\\u0439 \\u0410\\u043c\\u0435\\u0440\\u0438\\u043a\\u0435\"},\"barmode\":\"relative\"},                        {\"responsive\": true}                    ).then(function(){\n",
       "                            \n",
       "var gd = document.getElementById('87d9b12f-6b42-4ec7-9920-9911e5200fa7');\n",
       "var x = new MutationObserver(function (mutations, observer) {{\n",
       "        var display = window.getComputedStyle(gd).display;\n",
       "        if (!display || display === 'none') {{\n",
       "            console.log([gd, 'removed!']);\n",
       "            Plotly.purge(gd);\n",
       "            observer.disconnect();\n",
       "        }}\n",
       "}});\n",
       "\n",
       "// Listen for the removal of the full notebook cells\n",
       "var notebookContainer = gd.closest('#notebook-container');\n",
       "if (notebookContainer) {{\n",
       "    x.observe(notebookContainer, {childList: true});\n",
       "}}\n",
       "\n",
       "// Listen for the clearing of the current output cell\n",
       "var outputEl = gd.closest('.output');\n",
       "if (outputEl) {{\n",
       "    x.observe(outputEl, {childList: true});\n",
       "}}\n",
       "\n",
       "                        })                };                });            </script>        </div>"
      ]
     },
     "metadata": {},
     "output_type": "display_data"
    }
   ],
   "source": [
    "# построение круговой диаграммы\n",
    "#plt.pie(sales_platform_na['na_sales'], labels=sales_platform_na['platform'], autopct=\"%1.1f%%\", shadow=True, radius=2);\n",
    "#plt.suptitle('Доли продаж в Северной Америке', y=1.3);\n",
    "#plt.legend(loc='upper left', bbox_to_anchor=(1.5, 1.5))\n",
    "\n",
    "fig = px.bar(sales_platform_na, x=\"platform\", y=\"na_sales\", title=\"Продажи в Северной Америке\", \n",
    "             labels={'na_sales':'Количество проданных копии, млн'})\n",
    "fig.show()"
   ]
  },
  {
   "cell_type": "code",
   "execution_count": 72,
   "id": "86453fc2",
   "metadata": {},
   "outputs": [
    {
     "data": {
      "text/html": [
       "<div>\n",
       "<style scoped>\n",
       "    .dataframe tbody tr th:only-of-type {\n",
       "        vertical-align: middle;\n",
       "    }\n",
       "\n",
       "    .dataframe tbody tr th {\n",
       "        vertical-align: top;\n",
       "    }\n",
       "\n",
       "    .dataframe thead th {\n",
       "        text-align: right;\n",
       "    }\n",
       "</style>\n",
       "<table border=\"1\" class=\"dataframe\">\n",
       "  <thead>\n",
       "    <tr style=\"text-align: right;\">\n",
       "      <th></th>\n",
       "      <th>platform</th>\n",
       "      <th>eu_sales</th>\n",
       "    </tr>\n",
       "  </thead>\n",
       "  <tbody>\n",
       "    <tr>\n",
       "      <th>3</th>\n",
       "      <td>PS4</td>\n",
       "      <td>130.04</td>\n",
       "    </tr>\n",
       "    <tr>\n",
       "      <th>9</th>\n",
       "      <td>XOne</td>\n",
       "      <td>46.25</td>\n",
       "    </tr>\n",
       "    <tr>\n",
       "      <th>2</th>\n",
       "      <td>PS3</td>\n",
       "      <td>25.54</td>\n",
       "    </tr>\n",
       "    <tr>\n",
       "      <th>1</th>\n",
       "      <td>PC</td>\n",
       "      <td>17.97</td>\n",
       "    </tr>\n",
       "    <tr>\n",
       "      <th>0</th>\n",
       "      <td>3DS</td>\n",
       "      <td>16.12</td>\n",
       "    </tr>\n",
       "    <tr>\n",
       "      <th>8</th>\n",
       "      <td>X360</td>\n",
       "      <td>15.49</td>\n",
       "    </tr>\n",
       "    <tr>\n",
       "      <th>7</th>\n",
       "      <td>WiiU</td>\n",
       "      <td>13.15</td>\n",
       "    </tr>\n",
       "    <tr>\n",
       "      <th>5</th>\n",
       "      <td>PSV</td>\n",
       "      <td>3.53</td>\n",
       "    </tr>\n",
       "    <tr>\n",
       "      <th>6</th>\n",
       "      <td>Wii</td>\n",
       "      <td>2.59</td>\n",
       "    </tr>\n",
       "    <tr>\n",
       "      <th>4</th>\n",
       "      <td>PSP</td>\n",
       "      <td>0.00</td>\n",
       "    </tr>\n",
       "  </tbody>\n",
       "</table>\n",
       "</div>"
      ],
      "text/plain": [
       "  platform  eu_sales\n",
       "3      PS4    130.04\n",
       "9     XOne     46.25\n",
       "2      PS3     25.54\n",
       "1       PC     17.97\n",
       "0      3DS     16.12\n",
       "8     X360     15.49\n",
       "7     WiiU     13.15\n",
       "5      PSV      3.53\n",
       "6      Wii      2.59\n",
       "4      PSP      0.00"
      ]
     },
     "execution_count": 72,
     "metadata": {},
     "output_type": "execute_result"
    }
   ],
   "source": [
    "# формирование сводной таблицы для получения списка платформ с наибольшими продажами за актуальный период в Европе \n",
    "sales_platform_eu = actual_data.pivot_table(index = 'platform', values='eu_sales', aggfunc='sum').reset_index().\\\n",
    "sort_values(by = 'eu_sales', ascending = False)\n",
    "sales_platform_eu"
   ]
  },
  {
   "cell_type": "code",
   "execution_count": 73,
   "id": "5d6802e4",
   "metadata": {},
   "outputs": [
    {
     "data": {
      "application/vnd.plotly.v1+json": {
       "config": {
        "plotlyServerURL": "https://plot.ly"
       },
       "data": [
        {
         "alignmentgroup": "True",
         "hovertemplate": "platform=%{x}<br>Количество проданных копии, млн=%{y}<extra></extra>",
         "legendgroup": "",
         "marker": {
          "color": "#636efa",
          "pattern": {
           "shape": ""
          }
         },
         "name": "",
         "offsetgroup": "",
         "orientation": "v",
         "showlegend": false,
         "textposition": "auto",
         "type": "bar",
         "x": [
          "PS4",
          "XOne",
          "PS3",
          "PC",
          "3DS",
          "X360",
          "WiiU",
          "PSV",
          "Wii",
          "PSP"
         ],
         "xaxis": "x",
         "y": [
          130.04,
          46.25,
          25.54,
          17.97,
          16.12,
          15.49,
          13.15,
          3.53,
          2.59,
          0
         ],
         "yaxis": "y"
        }
       ],
       "layout": {
        "barmode": "relative",
        "legend": {
         "tracegroupgap": 0
        },
        "template": {
         "data": {
          "bar": [
           {
            "error_x": {
             "color": "#2a3f5f"
            },
            "error_y": {
             "color": "#2a3f5f"
            },
            "marker": {
             "line": {
              "color": "#E5ECF6",
              "width": 0.5
             },
             "pattern": {
              "fillmode": "overlay",
              "size": 10,
              "solidity": 0.2
             }
            },
            "type": "bar"
           }
          ],
          "barpolar": [
           {
            "marker": {
             "line": {
              "color": "#E5ECF6",
              "width": 0.5
             },
             "pattern": {
              "fillmode": "overlay",
              "size": 10,
              "solidity": 0.2
             }
            },
            "type": "barpolar"
           }
          ],
          "carpet": [
           {
            "aaxis": {
             "endlinecolor": "#2a3f5f",
             "gridcolor": "white",
             "linecolor": "white",
             "minorgridcolor": "white",
             "startlinecolor": "#2a3f5f"
            },
            "baxis": {
             "endlinecolor": "#2a3f5f",
             "gridcolor": "white",
             "linecolor": "white",
             "minorgridcolor": "white",
             "startlinecolor": "#2a3f5f"
            },
            "type": "carpet"
           }
          ],
          "choropleth": [
           {
            "colorbar": {
             "outlinewidth": 0,
             "ticks": ""
            },
            "type": "choropleth"
           }
          ],
          "contour": [
           {
            "colorbar": {
             "outlinewidth": 0,
             "ticks": ""
            },
            "colorscale": [
             [
              0,
              "#0d0887"
             ],
             [
              0.1111111111111111,
              "#46039f"
             ],
             [
              0.2222222222222222,
              "#7201a8"
             ],
             [
              0.3333333333333333,
              "#9c179e"
             ],
             [
              0.4444444444444444,
              "#bd3786"
             ],
             [
              0.5555555555555556,
              "#d8576b"
             ],
             [
              0.6666666666666666,
              "#ed7953"
             ],
             [
              0.7777777777777778,
              "#fb9f3a"
             ],
             [
              0.8888888888888888,
              "#fdca26"
             ],
             [
              1,
              "#f0f921"
             ]
            ],
            "type": "contour"
           }
          ],
          "contourcarpet": [
           {
            "colorbar": {
             "outlinewidth": 0,
             "ticks": ""
            },
            "type": "contourcarpet"
           }
          ],
          "heatmap": [
           {
            "colorbar": {
             "outlinewidth": 0,
             "ticks": ""
            },
            "colorscale": [
             [
              0,
              "#0d0887"
             ],
             [
              0.1111111111111111,
              "#46039f"
             ],
             [
              0.2222222222222222,
              "#7201a8"
             ],
             [
              0.3333333333333333,
              "#9c179e"
             ],
             [
              0.4444444444444444,
              "#bd3786"
             ],
             [
              0.5555555555555556,
              "#d8576b"
             ],
             [
              0.6666666666666666,
              "#ed7953"
             ],
             [
              0.7777777777777778,
              "#fb9f3a"
             ],
             [
              0.8888888888888888,
              "#fdca26"
             ],
             [
              1,
              "#f0f921"
             ]
            ],
            "type": "heatmap"
           }
          ],
          "heatmapgl": [
           {
            "colorbar": {
             "outlinewidth": 0,
             "ticks": ""
            },
            "colorscale": [
             [
              0,
              "#0d0887"
             ],
             [
              0.1111111111111111,
              "#46039f"
             ],
             [
              0.2222222222222222,
              "#7201a8"
             ],
             [
              0.3333333333333333,
              "#9c179e"
             ],
             [
              0.4444444444444444,
              "#bd3786"
             ],
             [
              0.5555555555555556,
              "#d8576b"
             ],
             [
              0.6666666666666666,
              "#ed7953"
             ],
             [
              0.7777777777777778,
              "#fb9f3a"
             ],
             [
              0.8888888888888888,
              "#fdca26"
             ],
             [
              1,
              "#f0f921"
             ]
            ],
            "type": "heatmapgl"
           }
          ],
          "histogram": [
           {
            "marker": {
             "pattern": {
              "fillmode": "overlay",
              "size": 10,
              "solidity": 0.2
             }
            },
            "type": "histogram"
           }
          ],
          "histogram2d": [
           {
            "colorbar": {
             "outlinewidth": 0,
             "ticks": ""
            },
            "colorscale": [
             [
              0,
              "#0d0887"
             ],
             [
              0.1111111111111111,
              "#46039f"
             ],
             [
              0.2222222222222222,
              "#7201a8"
             ],
             [
              0.3333333333333333,
              "#9c179e"
             ],
             [
              0.4444444444444444,
              "#bd3786"
             ],
             [
              0.5555555555555556,
              "#d8576b"
             ],
             [
              0.6666666666666666,
              "#ed7953"
             ],
             [
              0.7777777777777778,
              "#fb9f3a"
             ],
             [
              0.8888888888888888,
              "#fdca26"
             ],
             [
              1,
              "#f0f921"
             ]
            ],
            "type": "histogram2d"
           }
          ],
          "histogram2dcontour": [
           {
            "colorbar": {
             "outlinewidth": 0,
             "ticks": ""
            },
            "colorscale": [
             [
              0,
              "#0d0887"
             ],
             [
              0.1111111111111111,
              "#46039f"
             ],
             [
              0.2222222222222222,
              "#7201a8"
             ],
             [
              0.3333333333333333,
              "#9c179e"
             ],
             [
              0.4444444444444444,
              "#bd3786"
             ],
             [
              0.5555555555555556,
              "#d8576b"
             ],
             [
              0.6666666666666666,
              "#ed7953"
             ],
             [
              0.7777777777777778,
              "#fb9f3a"
             ],
             [
              0.8888888888888888,
              "#fdca26"
             ],
             [
              1,
              "#f0f921"
             ]
            ],
            "type": "histogram2dcontour"
           }
          ],
          "mesh3d": [
           {
            "colorbar": {
             "outlinewidth": 0,
             "ticks": ""
            },
            "type": "mesh3d"
           }
          ],
          "parcoords": [
           {
            "line": {
             "colorbar": {
              "outlinewidth": 0,
              "ticks": ""
             }
            },
            "type": "parcoords"
           }
          ],
          "pie": [
           {
            "automargin": true,
            "type": "pie"
           }
          ],
          "scatter": [
           {
            "marker": {
             "colorbar": {
              "outlinewidth": 0,
              "ticks": ""
             }
            },
            "type": "scatter"
           }
          ],
          "scatter3d": [
           {
            "line": {
             "colorbar": {
              "outlinewidth": 0,
              "ticks": ""
             }
            },
            "marker": {
             "colorbar": {
              "outlinewidth": 0,
              "ticks": ""
             }
            },
            "type": "scatter3d"
           }
          ],
          "scattercarpet": [
           {
            "marker": {
             "colorbar": {
              "outlinewidth": 0,
              "ticks": ""
             }
            },
            "type": "scattercarpet"
           }
          ],
          "scattergeo": [
           {
            "marker": {
             "colorbar": {
              "outlinewidth": 0,
              "ticks": ""
             }
            },
            "type": "scattergeo"
           }
          ],
          "scattergl": [
           {
            "marker": {
             "colorbar": {
              "outlinewidth": 0,
              "ticks": ""
             }
            },
            "type": "scattergl"
           }
          ],
          "scattermapbox": [
           {
            "marker": {
             "colorbar": {
              "outlinewidth": 0,
              "ticks": ""
             }
            },
            "type": "scattermapbox"
           }
          ],
          "scatterpolar": [
           {
            "marker": {
             "colorbar": {
              "outlinewidth": 0,
              "ticks": ""
             }
            },
            "type": "scatterpolar"
           }
          ],
          "scatterpolargl": [
           {
            "marker": {
             "colorbar": {
              "outlinewidth": 0,
              "ticks": ""
             }
            },
            "type": "scatterpolargl"
           }
          ],
          "scatterternary": [
           {
            "marker": {
             "colorbar": {
              "outlinewidth": 0,
              "ticks": ""
             }
            },
            "type": "scatterternary"
           }
          ],
          "surface": [
           {
            "colorbar": {
             "outlinewidth": 0,
             "ticks": ""
            },
            "colorscale": [
             [
              0,
              "#0d0887"
             ],
             [
              0.1111111111111111,
              "#46039f"
             ],
             [
              0.2222222222222222,
              "#7201a8"
             ],
             [
              0.3333333333333333,
              "#9c179e"
             ],
             [
              0.4444444444444444,
              "#bd3786"
             ],
             [
              0.5555555555555556,
              "#d8576b"
             ],
             [
              0.6666666666666666,
              "#ed7953"
             ],
             [
              0.7777777777777778,
              "#fb9f3a"
             ],
             [
              0.8888888888888888,
              "#fdca26"
             ],
             [
              1,
              "#f0f921"
             ]
            ],
            "type": "surface"
           }
          ],
          "table": [
           {
            "cells": {
             "fill": {
              "color": "#EBF0F8"
             },
             "line": {
              "color": "white"
             }
            },
            "header": {
             "fill": {
              "color": "#C8D4E3"
             },
             "line": {
              "color": "white"
             }
            },
            "type": "table"
           }
          ]
         },
         "layout": {
          "annotationdefaults": {
           "arrowcolor": "#2a3f5f",
           "arrowhead": 0,
           "arrowwidth": 1
          },
          "autotypenumbers": "strict",
          "coloraxis": {
           "colorbar": {
            "outlinewidth": 0,
            "ticks": ""
           }
          },
          "colorscale": {
           "diverging": [
            [
             0,
             "#8e0152"
            ],
            [
             0.1,
             "#c51b7d"
            ],
            [
             0.2,
             "#de77ae"
            ],
            [
             0.3,
             "#f1b6da"
            ],
            [
             0.4,
             "#fde0ef"
            ],
            [
             0.5,
             "#f7f7f7"
            ],
            [
             0.6,
             "#e6f5d0"
            ],
            [
             0.7,
             "#b8e186"
            ],
            [
             0.8,
             "#7fbc41"
            ],
            [
             0.9,
             "#4d9221"
            ],
            [
             1,
             "#276419"
            ]
           ],
           "sequential": [
            [
             0,
             "#0d0887"
            ],
            [
             0.1111111111111111,
             "#46039f"
            ],
            [
             0.2222222222222222,
             "#7201a8"
            ],
            [
             0.3333333333333333,
             "#9c179e"
            ],
            [
             0.4444444444444444,
             "#bd3786"
            ],
            [
             0.5555555555555556,
             "#d8576b"
            ],
            [
             0.6666666666666666,
             "#ed7953"
            ],
            [
             0.7777777777777778,
             "#fb9f3a"
            ],
            [
             0.8888888888888888,
             "#fdca26"
            ],
            [
             1,
             "#f0f921"
            ]
           ],
           "sequentialminus": [
            [
             0,
             "#0d0887"
            ],
            [
             0.1111111111111111,
             "#46039f"
            ],
            [
             0.2222222222222222,
             "#7201a8"
            ],
            [
             0.3333333333333333,
             "#9c179e"
            ],
            [
             0.4444444444444444,
             "#bd3786"
            ],
            [
             0.5555555555555556,
             "#d8576b"
            ],
            [
             0.6666666666666666,
             "#ed7953"
            ],
            [
             0.7777777777777778,
             "#fb9f3a"
            ],
            [
             0.8888888888888888,
             "#fdca26"
            ],
            [
             1,
             "#f0f921"
            ]
           ]
          },
          "colorway": [
           "#636efa",
           "#EF553B",
           "#00cc96",
           "#ab63fa",
           "#FFA15A",
           "#19d3f3",
           "#FF6692",
           "#B6E880",
           "#FF97FF",
           "#FECB52"
          ],
          "font": {
           "color": "#2a3f5f"
          },
          "geo": {
           "bgcolor": "white",
           "lakecolor": "white",
           "landcolor": "#E5ECF6",
           "showlakes": true,
           "showland": true,
           "subunitcolor": "white"
          },
          "hoverlabel": {
           "align": "left"
          },
          "hovermode": "closest",
          "mapbox": {
           "style": "light"
          },
          "paper_bgcolor": "white",
          "plot_bgcolor": "#E5ECF6",
          "polar": {
           "angularaxis": {
            "gridcolor": "white",
            "linecolor": "white",
            "ticks": ""
           },
           "bgcolor": "#E5ECF6",
           "radialaxis": {
            "gridcolor": "white",
            "linecolor": "white",
            "ticks": ""
           }
          },
          "scene": {
           "xaxis": {
            "backgroundcolor": "#E5ECF6",
            "gridcolor": "white",
            "gridwidth": 2,
            "linecolor": "white",
            "showbackground": true,
            "ticks": "",
            "zerolinecolor": "white"
           },
           "yaxis": {
            "backgroundcolor": "#E5ECF6",
            "gridcolor": "white",
            "gridwidth": 2,
            "linecolor": "white",
            "showbackground": true,
            "ticks": "",
            "zerolinecolor": "white"
           },
           "zaxis": {
            "backgroundcolor": "#E5ECF6",
            "gridcolor": "white",
            "gridwidth": 2,
            "linecolor": "white",
            "showbackground": true,
            "ticks": "",
            "zerolinecolor": "white"
           }
          },
          "shapedefaults": {
           "line": {
            "color": "#2a3f5f"
           }
          },
          "ternary": {
           "aaxis": {
            "gridcolor": "white",
            "linecolor": "white",
            "ticks": ""
           },
           "baxis": {
            "gridcolor": "white",
            "linecolor": "white",
            "ticks": ""
           },
           "bgcolor": "#E5ECF6",
           "caxis": {
            "gridcolor": "white",
            "linecolor": "white",
            "ticks": ""
           }
          },
          "title": {
           "x": 0.05
          },
          "xaxis": {
           "automargin": true,
           "gridcolor": "white",
           "linecolor": "white",
           "ticks": "",
           "title": {
            "standoff": 15
           },
           "zerolinecolor": "white",
           "zerolinewidth": 2
          },
          "yaxis": {
           "automargin": true,
           "gridcolor": "white",
           "linecolor": "white",
           "ticks": "",
           "title": {
            "standoff": 15
           },
           "zerolinecolor": "white",
           "zerolinewidth": 2
          }
         }
        },
        "title": {
         "text": "Продажи в Европе"
        },
        "xaxis": {
         "anchor": "y",
         "domain": [
          0,
          1
         ],
         "title": {
          "text": "platform"
         }
        },
        "yaxis": {
         "anchor": "x",
         "domain": [
          0,
          1
         ],
         "title": {
          "text": "Количество проданных копии, млн"
         }
        }
       }
      },
      "text/html": [
       "<div>                            <div id=\"6c8bb816-073c-470f-8af9-dbd6fa962066\" class=\"plotly-graph-div\" style=\"height:525px; width:100%;\"></div>            <script type=\"text/javascript\">                require([\"plotly\"], function(Plotly) {                    window.PLOTLYENV=window.PLOTLYENV || {};                                    if (document.getElementById(\"6c8bb816-073c-470f-8af9-dbd6fa962066\")) {                    Plotly.newPlot(                        \"6c8bb816-073c-470f-8af9-dbd6fa962066\",                        [{\"alignmentgroup\":\"True\",\"hovertemplate\":\"platform=%{x}<br>\\u041a\\u043e\\u043b\\u0438\\u0447\\u0435\\u0441\\u0442\\u0432\\u043e \\u043f\\u0440\\u043e\\u0434\\u0430\\u043d\\u043d\\u044b\\u0445 \\u043a\\u043e\\u043f\\u0438\\u0438, \\u043c\\u043b\\u043d=%{y}<extra></extra>\",\"legendgroup\":\"\",\"marker\":{\"color\":\"#636efa\",\"pattern\":{\"shape\":\"\"}},\"name\":\"\",\"offsetgroup\":\"\",\"orientation\":\"v\",\"showlegend\":false,\"textposition\":\"auto\",\"x\":[\"PS4\",\"XOne\",\"PS3\",\"PC\",\"3DS\",\"X360\",\"WiiU\",\"PSV\",\"Wii\",\"PSP\"],\"xaxis\":\"x\",\"y\":[130.04,46.25,25.54,17.97,16.12,15.49,13.15,3.53,2.59,0.0],\"yaxis\":\"y\",\"type\":\"bar\"}],                        {\"template\":{\"data\":{\"bar\":[{\"error_x\":{\"color\":\"#2a3f5f\"},\"error_y\":{\"color\":\"#2a3f5f\"},\"marker\":{\"line\":{\"color\":\"#E5ECF6\",\"width\":0.5},\"pattern\":{\"fillmode\":\"overlay\",\"size\":10,\"solidity\":0.2}},\"type\":\"bar\"}],\"barpolar\":[{\"marker\":{\"line\":{\"color\":\"#E5ECF6\",\"width\":0.5},\"pattern\":{\"fillmode\":\"overlay\",\"size\":10,\"solidity\":0.2}},\"type\":\"barpolar\"}],\"carpet\":[{\"aaxis\":{\"endlinecolor\":\"#2a3f5f\",\"gridcolor\":\"white\",\"linecolor\":\"white\",\"minorgridcolor\":\"white\",\"startlinecolor\":\"#2a3f5f\"},\"baxis\":{\"endlinecolor\":\"#2a3f5f\",\"gridcolor\":\"white\",\"linecolor\":\"white\",\"minorgridcolor\":\"white\",\"startlinecolor\":\"#2a3f5f\"},\"type\":\"carpet\"}],\"choropleth\":[{\"colorbar\":{\"outlinewidth\":0,\"ticks\":\"\"},\"type\":\"choropleth\"}],\"contour\":[{\"colorbar\":{\"outlinewidth\":0,\"ticks\":\"\"},\"colorscale\":[[0.0,\"#0d0887\"],[0.1111111111111111,\"#46039f\"],[0.2222222222222222,\"#7201a8\"],[0.3333333333333333,\"#9c179e\"],[0.4444444444444444,\"#bd3786\"],[0.5555555555555556,\"#d8576b\"],[0.6666666666666666,\"#ed7953\"],[0.7777777777777778,\"#fb9f3a\"],[0.8888888888888888,\"#fdca26\"],[1.0,\"#f0f921\"]],\"type\":\"contour\"}],\"contourcarpet\":[{\"colorbar\":{\"outlinewidth\":0,\"ticks\":\"\"},\"type\":\"contourcarpet\"}],\"heatmap\":[{\"colorbar\":{\"outlinewidth\":0,\"ticks\":\"\"},\"colorscale\":[[0.0,\"#0d0887\"],[0.1111111111111111,\"#46039f\"],[0.2222222222222222,\"#7201a8\"],[0.3333333333333333,\"#9c179e\"],[0.4444444444444444,\"#bd3786\"],[0.5555555555555556,\"#d8576b\"],[0.6666666666666666,\"#ed7953\"],[0.7777777777777778,\"#fb9f3a\"],[0.8888888888888888,\"#fdca26\"],[1.0,\"#f0f921\"]],\"type\":\"heatmap\"}],\"heatmapgl\":[{\"colorbar\":{\"outlinewidth\":0,\"ticks\":\"\"},\"colorscale\":[[0.0,\"#0d0887\"],[0.1111111111111111,\"#46039f\"],[0.2222222222222222,\"#7201a8\"],[0.3333333333333333,\"#9c179e\"],[0.4444444444444444,\"#bd3786\"],[0.5555555555555556,\"#d8576b\"],[0.6666666666666666,\"#ed7953\"],[0.7777777777777778,\"#fb9f3a\"],[0.8888888888888888,\"#fdca26\"],[1.0,\"#f0f921\"]],\"type\":\"heatmapgl\"}],\"histogram\":[{\"marker\":{\"pattern\":{\"fillmode\":\"overlay\",\"size\":10,\"solidity\":0.2}},\"type\":\"histogram\"}],\"histogram2d\":[{\"colorbar\":{\"outlinewidth\":0,\"ticks\":\"\"},\"colorscale\":[[0.0,\"#0d0887\"],[0.1111111111111111,\"#46039f\"],[0.2222222222222222,\"#7201a8\"],[0.3333333333333333,\"#9c179e\"],[0.4444444444444444,\"#bd3786\"],[0.5555555555555556,\"#d8576b\"],[0.6666666666666666,\"#ed7953\"],[0.7777777777777778,\"#fb9f3a\"],[0.8888888888888888,\"#fdca26\"],[1.0,\"#f0f921\"]],\"type\":\"histogram2d\"}],\"histogram2dcontour\":[{\"colorbar\":{\"outlinewidth\":0,\"ticks\":\"\"},\"colorscale\":[[0.0,\"#0d0887\"],[0.1111111111111111,\"#46039f\"],[0.2222222222222222,\"#7201a8\"],[0.3333333333333333,\"#9c179e\"],[0.4444444444444444,\"#bd3786\"],[0.5555555555555556,\"#d8576b\"],[0.6666666666666666,\"#ed7953\"],[0.7777777777777778,\"#fb9f3a\"],[0.8888888888888888,\"#fdca26\"],[1.0,\"#f0f921\"]],\"type\":\"histogram2dcontour\"}],\"mesh3d\":[{\"colorbar\":{\"outlinewidth\":0,\"ticks\":\"\"},\"type\":\"mesh3d\"}],\"parcoords\":[{\"line\":{\"colorbar\":{\"outlinewidth\":0,\"ticks\":\"\"}},\"type\":\"parcoords\"}],\"pie\":[{\"automargin\":true,\"type\":\"pie\"}],\"scatter\":[{\"marker\":{\"colorbar\":{\"outlinewidth\":0,\"ticks\":\"\"}},\"type\":\"scatter\"}],\"scatter3d\":[{\"line\":{\"colorbar\":{\"outlinewidth\":0,\"ticks\":\"\"}},\"marker\":{\"colorbar\":{\"outlinewidth\":0,\"ticks\":\"\"}},\"type\":\"scatter3d\"}],\"scattercarpet\":[{\"marker\":{\"colorbar\":{\"outlinewidth\":0,\"ticks\":\"\"}},\"type\":\"scattercarpet\"}],\"scattergeo\":[{\"marker\":{\"colorbar\":{\"outlinewidth\":0,\"ticks\":\"\"}},\"type\":\"scattergeo\"}],\"scattergl\":[{\"marker\":{\"colorbar\":{\"outlinewidth\":0,\"ticks\":\"\"}},\"type\":\"scattergl\"}],\"scattermapbox\":[{\"marker\":{\"colorbar\":{\"outlinewidth\":0,\"ticks\":\"\"}},\"type\":\"scattermapbox\"}],\"scatterpolar\":[{\"marker\":{\"colorbar\":{\"outlinewidth\":0,\"ticks\":\"\"}},\"type\":\"scatterpolar\"}],\"scatterpolargl\":[{\"marker\":{\"colorbar\":{\"outlinewidth\":0,\"ticks\":\"\"}},\"type\":\"scatterpolargl\"}],\"scatterternary\":[{\"marker\":{\"colorbar\":{\"outlinewidth\":0,\"ticks\":\"\"}},\"type\":\"scatterternary\"}],\"surface\":[{\"colorbar\":{\"outlinewidth\":0,\"ticks\":\"\"},\"colorscale\":[[0.0,\"#0d0887\"],[0.1111111111111111,\"#46039f\"],[0.2222222222222222,\"#7201a8\"],[0.3333333333333333,\"#9c179e\"],[0.4444444444444444,\"#bd3786\"],[0.5555555555555556,\"#d8576b\"],[0.6666666666666666,\"#ed7953\"],[0.7777777777777778,\"#fb9f3a\"],[0.8888888888888888,\"#fdca26\"],[1.0,\"#f0f921\"]],\"type\":\"surface\"}],\"table\":[{\"cells\":{\"fill\":{\"color\":\"#EBF0F8\"},\"line\":{\"color\":\"white\"}},\"header\":{\"fill\":{\"color\":\"#C8D4E3\"},\"line\":{\"color\":\"white\"}},\"type\":\"table\"}]},\"layout\":{\"annotationdefaults\":{\"arrowcolor\":\"#2a3f5f\",\"arrowhead\":0,\"arrowwidth\":1},\"autotypenumbers\":\"strict\",\"coloraxis\":{\"colorbar\":{\"outlinewidth\":0,\"ticks\":\"\"}},\"colorscale\":{\"diverging\":[[0,\"#8e0152\"],[0.1,\"#c51b7d\"],[0.2,\"#de77ae\"],[0.3,\"#f1b6da\"],[0.4,\"#fde0ef\"],[0.5,\"#f7f7f7\"],[0.6,\"#e6f5d0\"],[0.7,\"#b8e186\"],[0.8,\"#7fbc41\"],[0.9,\"#4d9221\"],[1,\"#276419\"]],\"sequential\":[[0.0,\"#0d0887\"],[0.1111111111111111,\"#46039f\"],[0.2222222222222222,\"#7201a8\"],[0.3333333333333333,\"#9c179e\"],[0.4444444444444444,\"#bd3786\"],[0.5555555555555556,\"#d8576b\"],[0.6666666666666666,\"#ed7953\"],[0.7777777777777778,\"#fb9f3a\"],[0.8888888888888888,\"#fdca26\"],[1.0,\"#f0f921\"]],\"sequentialminus\":[[0.0,\"#0d0887\"],[0.1111111111111111,\"#46039f\"],[0.2222222222222222,\"#7201a8\"],[0.3333333333333333,\"#9c179e\"],[0.4444444444444444,\"#bd3786\"],[0.5555555555555556,\"#d8576b\"],[0.6666666666666666,\"#ed7953\"],[0.7777777777777778,\"#fb9f3a\"],[0.8888888888888888,\"#fdca26\"],[1.0,\"#f0f921\"]]},\"colorway\":[\"#636efa\",\"#EF553B\",\"#00cc96\",\"#ab63fa\",\"#FFA15A\",\"#19d3f3\",\"#FF6692\",\"#B6E880\",\"#FF97FF\",\"#FECB52\"],\"font\":{\"color\":\"#2a3f5f\"},\"geo\":{\"bgcolor\":\"white\",\"lakecolor\":\"white\",\"landcolor\":\"#E5ECF6\",\"showlakes\":true,\"showland\":true,\"subunitcolor\":\"white\"},\"hoverlabel\":{\"align\":\"left\"},\"hovermode\":\"closest\",\"mapbox\":{\"style\":\"light\"},\"paper_bgcolor\":\"white\",\"plot_bgcolor\":\"#E5ECF6\",\"polar\":{\"angularaxis\":{\"gridcolor\":\"white\",\"linecolor\":\"white\",\"ticks\":\"\"},\"bgcolor\":\"#E5ECF6\",\"radialaxis\":{\"gridcolor\":\"white\",\"linecolor\":\"white\",\"ticks\":\"\"}},\"scene\":{\"xaxis\":{\"backgroundcolor\":\"#E5ECF6\",\"gridcolor\":\"white\",\"gridwidth\":2,\"linecolor\":\"white\",\"showbackground\":true,\"ticks\":\"\",\"zerolinecolor\":\"white\"},\"yaxis\":{\"backgroundcolor\":\"#E5ECF6\",\"gridcolor\":\"white\",\"gridwidth\":2,\"linecolor\":\"white\",\"showbackground\":true,\"ticks\":\"\",\"zerolinecolor\":\"white\"},\"zaxis\":{\"backgroundcolor\":\"#E5ECF6\",\"gridcolor\":\"white\",\"gridwidth\":2,\"linecolor\":\"white\",\"showbackground\":true,\"ticks\":\"\",\"zerolinecolor\":\"white\"}},\"shapedefaults\":{\"line\":{\"color\":\"#2a3f5f\"}},\"ternary\":{\"aaxis\":{\"gridcolor\":\"white\",\"linecolor\":\"white\",\"ticks\":\"\"},\"baxis\":{\"gridcolor\":\"white\",\"linecolor\":\"white\",\"ticks\":\"\"},\"bgcolor\":\"#E5ECF6\",\"caxis\":{\"gridcolor\":\"white\",\"linecolor\":\"white\",\"ticks\":\"\"}},\"title\":{\"x\":0.05},\"xaxis\":{\"automargin\":true,\"gridcolor\":\"white\",\"linecolor\":\"white\",\"ticks\":\"\",\"title\":{\"standoff\":15},\"zerolinecolor\":\"white\",\"zerolinewidth\":2},\"yaxis\":{\"automargin\":true,\"gridcolor\":\"white\",\"linecolor\":\"white\",\"ticks\":\"\",\"title\":{\"standoff\":15},\"zerolinecolor\":\"white\",\"zerolinewidth\":2}}},\"xaxis\":{\"anchor\":\"y\",\"domain\":[0.0,1.0],\"title\":{\"text\":\"platform\"}},\"yaxis\":{\"anchor\":\"x\",\"domain\":[0.0,1.0],\"title\":{\"text\":\"\\u041a\\u043e\\u043b\\u0438\\u0447\\u0435\\u0441\\u0442\\u0432\\u043e \\u043f\\u0440\\u043e\\u0434\\u0430\\u043d\\u043d\\u044b\\u0445 \\u043a\\u043e\\u043f\\u0438\\u0438, \\u043c\\u043b\\u043d\"}},\"legend\":{\"tracegroupgap\":0},\"title\":{\"text\":\"\\u041f\\u0440\\u043e\\u0434\\u0430\\u0436\\u0438 \\u0432 \\u0415\\u0432\\u0440\\u043e\\u043f\\u0435\"},\"barmode\":\"relative\"},                        {\"responsive\": true}                    ).then(function(){\n",
       "                            \n",
       "var gd = document.getElementById('6c8bb816-073c-470f-8af9-dbd6fa962066');\n",
       "var x = new MutationObserver(function (mutations, observer) {{\n",
       "        var display = window.getComputedStyle(gd).display;\n",
       "        if (!display || display === 'none') {{\n",
       "            console.log([gd, 'removed!']);\n",
       "            Plotly.purge(gd);\n",
       "            observer.disconnect();\n",
       "        }}\n",
       "}});\n",
       "\n",
       "// Listen for the removal of the full notebook cells\n",
       "var notebookContainer = gd.closest('#notebook-container');\n",
       "if (notebookContainer) {{\n",
       "    x.observe(notebookContainer, {childList: true});\n",
       "}}\n",
       "\n",
       "// Listen for the clearing of the current output cell\n",
       "var outputEl = gd.closest('.output');\n",
       "if (outputEl) {{\n",
       "    x.observe(outputEl, {childList: true});\n",
       "}}\n",
       "\n",
       "                        })                };                });            </script>        </div>"
      ]
     },
     "metadata": {},
     "output_type": "display_data"
    }
   ],
   "source": [
    "fig = px.bar(sales_platform_eu, x=\"platform\", y=\"eu_sales\", title=\"Продажи в Европе\", \n",
    "             labels={'eu_sales':'Количество проданных копии, млн'})\n",
    "fig.show()"
   ]
  },
  {
   "cell_type": "code",
   "execution_count": 74,
   "id": "967c78a3",
   "metadata": {},
   "outputs": [
    {
     "data": {
      "text/html": [
       "<div>\n",
       "<style scoped>\n",
       "    .dataframe tbody tr th:only-of-type {\n",
       "        vertical-align: middle;\n",
       "    }\n",
       "\n",
       "    .dataframe tbody tr th {\n",
       "        vertical-align: top;\n",
       "    }\n",
       "\n",
       "    .dataframe thead th {\n",
       "        text-align: right;\n",
       "    }\n",
       "</style>\n",
       "<table border=\"1\" class=\"dataframe\">\n",
       "  <thead>\n",
       "    <tr style=\"text-align: right;\">\n",
       "      <th></th>\n",
       "      <th>platform</th>\n",
       "      <th>jp_sales</th>\n",
       "    </tr>\n",
       "  </thead>\n",
       "  <tbody>\n",
       "    <tr>\n",
       "      <th>0</th>\n",
       "      <td>3DS</td>\n",
       "      <td>44.24</td>\n",
       "    </tr>\n",
       "    <tr>\n",
       "      <th>3</th>\n",
       "      <td>PS4</td>\n",
       "      <td>15.02</td>\n",
       "    </tr>\n",
       "    <tr>\n",
       "      <th>5</th>\n",
       "      <td>PSV</td>\n",
       "      <td>14.54</td>\n",
       "    </tr>\n",
       "    <tr>\n",
       "      <th>2</th>\n",
       "      <td>PS3</td>\n",
       "      <td>11.22</td>\n",
       "    </tr>\n",
       "    <tr>\n",
       "      <th>7</th>\n",
       "      <td>WiiU</td>\n",
       "      <td>7.31</td>\n",
       "    </tr>\n",
       "    <tr>\n",
       "      <th>4</th>\n",
       "      <td>PSP</td>\n",
       "      <td>0.36</td>\n",
       "    </tr>\n",
       "    <tr>\n",
       "      <th>9</th>\n",
       "      <td>XOne</td>\n",
       "      <td>0.32</td>\n",
       "    </tr>\n",
       "    <tr>\n",
       "      <th>8</th>\n",
       "      <td>X360</td>\n",
       "      <td>0.08</td>\n",
       "    </tr>\n",
       "    <tr>\n",
       "      <th>1</th>\n",
       "      <td>PC</td>\n",
       "      <td>0.00</td>\n",
       "    </tr>\n",
       "    <tr>\n",
       "      <th>6</th>\n",
       "      <td>Wii</td>\n",
       "      <td>0.00</td>\n",
       "    </tr>\n",
       "  </tbody>\n",
       "</table>\n",
       "</div>"
      ],
      "text/plain": [
       "  platform  jp_sales\n",
       "0      3DS     44.24\n",
       "3      PS4     15.02\n",
       "5      PSV     14.54\n",
       "2      PS3     11.22\n",
       "7     WiiU      7.31\n",
       "4      PSP      0.36\n",
       "9     XOne      0.32\n",
       "8     X360      0.08\n",
       "1       PC      0.00\n",
       "6      Wii      0.00"
      ]
     },
     "execution_count": 74,
     "metadata": {},
     "output_type": "execute_result"
    }
   ],
   "source": [
    "# формирование сводной таблицы для получения списка платформ с наибольшими продажами за актуальный период в Японии  \n",
    "sales_platform_jp = actual_data.pivot_table(index = 'platform', values='jp_sales', aggfunc='sum').reset_index().\\\n",
    "sort_values(by = 'jp_sales', ascending = False)\n",
    "sales_platform_jp"
   ]
  },
  {
   "cell_type": "code",
   "execution_count": 75,
   "id": "de26fc17",
   "metadata": {},
   "outputs": [
    {
     "data": {
      "application/vnd.plotly.v1+json": {
       "config": {
        "plotlyServerURL": "https://plot.ly"
       },
       "data": [
        {
         "alignmentgroup": "True",
         "hovertemplate": "platform=%{x}<br>Количество проданных копии, млн=%{y}<extra></extra>",
         "legendgroup": "",
         "marker": {
          "color": "#636efa",
          "pattern": {
           "shape": ""
          }
         },
         "name": "",
         "offsetgroup": "",
         "orientation": "v",
         "showlegend": false,
         "textposition": "auto",
         "type": "bar",
         "x": [
          "3DS",
          "PS4",
          "PSV",
          "PS3",
          "WiiU",
          "PSP",
          "XOne",
          "X360",
          "PC",
          "Wii"
         ],
         "xaxis": "x",
         "y": [
          44.24,
          15.02,
          14.540000000000001,
          11.22,
          7.31,
          0.36,
          0.32,
          0.08,
          0,
          0
         ],
         "yaxis": "y"
        }
       ],
       "layout": {
        "barmode": "relative",
        "legend": {
         "tracegroupgap": 0
        },
        "template": {
         "data": {
          "bar": [
           {
            "error_x": {
             "color": "#2a3f5f"
            },
            "error_y": {
             "color": "#2a3f5f"
            },
            "marker": {
             "line": {
              "color": "#E5ECF6",
              "width": 0.5
             },
             "pattern": {
              "fillmode": "overlay",
              "size": 10,
              "solidity": 0.2
             }
            },
            "type": "bar"
           }
          ],
          "barpolar": [
           {
            "marker": {
             "line": {
              "color": "#E5ECF6",
              "width": 0.5
             },
             "pattern": {
              "fillmode": "overlay",
              "size": 10,
              "solidity": 0.2
             }
            },
            "type": "barpolar"
           }
          ],
          "carpet": [
           {
            "aaxis": {
             "endlinecolor": "#2a3f5f",
             "gridcolor": "white",
             "linecolor": "white",
             "minorgridcolor": "white",
             "startlinecolor": "#2a3f5f"
            },
            "baxis": {
             "endlinecolor": "#2a3f5f",
             "gridcolor": "white",
             "linecolor": "white",
             "minorgridcolor": "white",
             "startlinecolor": "#2a3f5f"
            },
            "type": "carpet"
           }
          ],
          "choropleth": [
           {
            "colorbar": {
             "outlinewidth": 0,
             "ticks": ""
            },
            "type": "choropleth"
           }
          ],
          "contour": [
           {
            "colorbar": {
             "outlinewidth": 0,
             "ticks": ""
            },
            "colorscale": [
             [
              0,
              "#0d0887"
             ],
             [
              0.1111111111111111,
              "#46039f"
             ],
             [
              0.2222222222222222,
              "#7201a8"
             ],
             [
              0.3333333333333333,
              "#9c179e"
             ],
             [
              0.4444444444444444,
              "#bd3786"
             ],
             [
              0.5555555555555556,
              "#d8576b"
             ],
             [
              0.6666666666666666,
              "#ed7953"
             ],
             [
              0.7777777777777778,
              "#fb9f3a"
             ],
             [
              0.8888888888888888,
              "#fdca26"
             ],
             [
              1,
              "#f0f921"
             ]
            ],
            "type": "contour"
           }
          ],
          "contourcarpet": [
           {
            "colorbar": {
             "outlinewidth": 0,
             "ticks": ""
            },
            "type": "contourcarpet"
           }
          ],
          "heatmap": [
           {
            "colorbar": {
             "outlinewidth": 0,
             "ticks": ""
            },
            "colorscale": [
             [
              0,
              "#0d0887"
             ],
             [
              0.1111111111111111,
              "#46039f"
             ],
             [
              0.2222222222222222,
              "#7201a8"
             ],
             [
              0.3333333333333333,
              "#9c179e"
             ],
             [
              0.4444444444444444,
              "#bd3786"
             ],
             [
              0.5555555555555556,
              "#d8576b"
             ],
             [
              0.6666666666666666,
              "#ed7953"
             ],
             [
              0.7777777777777778,
              "#fb9f3a"
             ],
             [
              0.8888888888888888,
              "#fdca26"
             ],
             [
              1,
              "#f0f921"
             ]
            ],
            "type": "heatmap"
           }
          ],
          "heatmapgl": [
           {
            "colorbar": {
             "outlinewidth": 0,
             "ticks": ""
            },
            "colorscale": [
             [
              0,
              "#0d0887"
             ],
             [
              0.1111111111111111,
              "#46039f"
             ],
             [
              0.2222222222222222,
              "#7201a8"
             ],
             [
              0.3333333333333333,
              "#9c179e"
             ],
             [
              0.4444444444444444,
              "#bd3786"
             ],
             [
              0.5555555555555556,
              "#d8576b"
             ],
             [
              0.6666666666666666,
              "#ed7953"
             ],
             [
              0.7777777777777778,
              "#fb9f3a"
             ],
             [
              0.8888888888888888,
              "#fdca26"
             ],
             [
              1,
              "#f0f921"
             ]
            ],
            "type": "heatmapgl"
           }
          ],
          "histogram": [
           {
            "marker": {
             "pattern": {
              "fillmode": "overlay",
              "size": 10,
              "solidity": 0.2
             }
            },
            "type": "histogram"
           }
          ],
          "histogram2d": [
           {
            "colorbar": {
             "outlinewidth": 0,
             "ticks": ""
            },
            "colorscale": [
             [
              0,
              "#0d0887"
             ],
             [
              0.1111111111111111,
              "#46039f"
             ],
             [
              0.2222222222222222,
              "#7201a8"
             ],
             [
              0.3333333333333333,
              "#9c179e"
             ],
             [
              0.4444444444444444,
              "#bd3786"
             ],
             [
              0.5555555555555556,
              "#d8576b"
             ],
             [
              0.6666666666666666,
              "#ed7953"
             ],
             [
              0.7777777777777778,
              "#fb9f3a"
             ],
             [
              0.8888888888888888,
              "#fdca26"
             ],
             [
              1,
              "#f0f921"
             ]
            ],
            "type": "histogram2d"
           }
          ],
          "histogram2dcontour": [
           {
            "colorbar": {
             "outlinewidth": 0,
             "ticks": ""
            },
            "colorscale": [
             [
              0,
              "#0d0887"
             ],
             [
              0.1111111111111111,
              "#46039f"
             ],
             [
              0.2222222222222222,
              "#7201a8"
             ],
             [
              0.3333333333333333,
              "#9c179e"
             ],
             [
              0.4444444444444444,
              "#bd3786"
             ],
             [
              0.5555555555555556,
              "#d8576b"
             ],
             [
              0.6666666666666666,
              "#ed7953"
             ],
             [
              0.7777777777777778,
              "#fb9f3a"
             ],
             [
              0.8888888888888888,
              "#fdca26"
             ],
             [
              1,
              "#f0f921"
             ]
            ],
            "type": "histogram2dcontour"
           }
          ],
          "mesh3d": [
           {
            "colorbar": {
             "outlinewidth": 0,
             "ticks": ""
            },
            "type": "mesh3d"
           }
          ],
          "parcoords": [
           {
            "line": {
             "colorbar": {
              "outlinewidth": 0,
              "ticks": ""
             }
            },
            "type": "parcoords"
           }
          ],
          "pie": [
           {
            "automargin": true,
            "type": "pie"
           }
          ],
          "scatter": [
           {
            "marker": {
             "colorbar": {
              "outlinewidth": 0,
              "ticks": ""
             }
            },
            "type": "scatter"
           }
          ],
          "scatter3d": [
           {
            "line": {
             "colorbar": {
              "outlinewidth": 0,
              "ticks": ""
             }
            },
            "marker": {
             "colorbar": {
              "outlinewidth": 0,
              "ticks": ""
             }
            },
            "type": "scatter3d"
           }
          ],
          "scattercarpet": [
           {
            "marker": {
             "colorbar": {
              "outlinewidth": 0,
              "ticks": ""
             }
            },
            "type": "scattercarpet"
           }
          ],
          "scattergeo": [
           {
            "marker": {
             "colorbar": {
              "outlinewidth": 0,
              "ticks": ""
             }
            },
            "type": "scattergeo"
           }
          ],
          "scattergl": [
           {
            "marker": {
             "colorbar": {
              "outlinewidth": 0,
              "ticks": ""
             }
            },
            "type": "scattergl"
           }
          ],
          "scattermapbox": [
           {
            "marker": {
             "colorbar": {
              "outlinewidth": 0,
              "ticks": ""
             }
            },
            "type": "scattermapbox"
           }
          ],
          "scatterpolar": [
           {
            "marker": {
             "colorbar": {
              "outlinewidth": 0,
              "ticks": ""
             }
            },
            "type": "scatterpolar"
           }
          ],
          "scatterpolargl": [
           {
            "marker": {
             "colorbar": {
              "outlinewidth": 0,
              "ticks": ""
             }
            },
            "type": "scatterpolargl"
           }
          ],
          "scatterternary": [
           {
            "marker": {
             "colorbar": {
              "outlinewidth": 0,
              "ticks": ""
             }
            },
            "type": "scatterternary"
           }
          ],
          "surface": [
           {
            "colorbar": {
             "outlinewidth": 0,
             "ticks": ""
            },
            "colorscale": [
             [
              0,
              "#0d0887"
             ],
             [
              0.1111111111111111,
              "#46039f"
             ],
             [
              0.2222222222222222,
              "#7201a8"
             ],
             [
              0.3333333333333333,
              "#9c179e"
             ],
             [
              0.4444444444444444,
              "#bd3786"
             ],
             [
              0.5555555555555556,
              "#d8576b"
             ],
             [
              0.6666666666666666,
              "#ed7953"
             ],
             [
              0.7777777777777778,
              "#fb9f3a"
             ],
             [
              0.8888888888888888,
              "#fdca26"
             ],
             [
              1,
              "#f0f921"
             ]
            ],
            "type": "surface"
           }
          ],
          "table": [
           {
            "cells": {
             "fill": {
              "color": "#EBF0F8"
             },
             "line": {
              "color": "white"
             }
            },
            "header": {
             "fill": {
              "color": "#C8D4E3"
             },
             "line": {
              "color": "white"
             }
            },
            "type": "table"
           }
          ]
         },
         "layout": {
          "annotationdefaults": {
           "arrowcolor": "#2a3f5f",
           "arrowhead": 0,
           "arrowwidth": 1
          },
          "autotypenumbers": "strict",
          "coloraxis": {
           "colorbar": {
            "outlinewidth": 0,
            "ticks": ""
           }
          },
          "colorscale": {
           "diverging": [
            [
             0,
             "#8e0152"
            ],
            [
             0.1,
             "#c51b7d"
            ],
            [
             0.2,
             "#de77ae"
            ],
            [
             0.3,
             "#f1b6da"
            ],
            [
             0.4,
             "#fde0ef"
            ],
            [
             0.5,
             "#f7f7f7"
            ],
            [
             0.6,
             "#e6f5d0"
            ],
            [
             0.7,
             "#b8e186"
            ],
            [
             0.8,
             "#7fbc41"
            ],
            [
             0.9,
             "#4d9221"
            ],
            [
             1,
             "#276419"
            ]
           ],
           "sequential": [
            [
             0,
             "#0d0887"
            ],
            [
             0.1111111111111111,
             "#46039f"
            ],
            [
             0.2222222222222222,
             "#7201a8"
            ],
            [
             0.3333333333333333,
             "#9c179e"
            ],
            [
             0.4444444444444444,
             "#bd3786"
            ],
            [
             0.5555555555555556,
             "#d8576b"
            ],
            [
             0.6666666666666666,
             "#ed7953"
            ],
            [
             0.7777777777777778,
             "#fb9f3a"
            ],
            [
             0.8888888888888888,
             "#fdca26"
            ],
            [
             1,
             "#f0f921"
            ]
           ],
           "sequentialminus": [
            [
             0,
             "#0d0887"
            ],
            [
             0.1111111111111111,
             "#46039f"
            ],
            [
             0.2222222222222222,
             "#7201a8"
            ],
            [
             0.3333333333333333,
             "#9c179e"
            ],
            [
             0.4444444444444444,
             "#bd3786"
            ],
            [
             0.5555555555555556,
             "#d8576b"
            ],
            [
             0.6666666666666666,
             "#ed7953"
            ],
            [
             0.7777777777777778,
             "#fb9f3a"
            ],
            [
             0.8888888888888888,
             "#fdca26"
            ],
            [
             1,
             "#f0f921"
            ]
           ]
          },
          "colorway": [
           "#636efa",
           "#EF553B",
           "#00cc96",
           "#ab63fa",
           "#FFA15A",
           "#19d3f3",
           "#FF6692",
           "#B6E880",
           "#FF97FF",
           "#FECB52"
          ],
          "font": {
           "color": "#2a3f5f"
          },
          "geo": {
           "bgcolor": "white",
           "lakecolor": "white",
           "landcolor": "#E5ECF6",
           "showlakes": true,
           "showland": true,
           "subunitcolor": "white"
          },
          "hoverlabel": {
           "align": "left"
          },
          "hovermode": "closest",
          "mapbox": {
           "style": "light"
          },
          "paper_bgcolor": "white",
          "plot_bgcolor": "#E5ECF6",
          "polar": {
           "angularaxis": {
            "gridcolor": "white",
            "linecolor": "white",
            "ticks": ""
           },
           "bgcolor": "#E5ECF6",
           "radialaxis": {
            "gridcolor": "white",
            "linecolor": "white",
            "ticks": ""
           }
          },
          "scene": {
           "xaxis": {
            "backgroundcolor": "#E5ECF6",
            "gridcolor": "white",
            "gridwidth": 2,
            "linecolor": "white",
            "showbackground": true,
            "ticks": "",
            "zerolinecolor": "white"
           },
           "yaxis": {
            "backgroundcolor": "#E5ECF6",
            "gridcolor": "white",
            "gridwidth": 2,
            "linecolor": "white",
            "showbackground": true,
            "ticks": "",
            "zerolinecolor": "white"
           },
           "zaxis": {
            "backgroundcolor": "#E5ECF6",
            "gridcolor": "white",
            "gridwidth": 2,
            "linecolor": "white",
            "showbackground": true,
            "ticks": "",
            "zerolinecolor": "white"
           }
          },
          "shapedefaults": {
           "line": {
            "color": "#2a3f5f"
           }
          },
          "ternary": {
           "aaxis": {
            "gridcolor": "white",
            "linecolor": "white",
            "ticks": ""
           },
           "baxis": {
            "gridcolor": "white",
            "linecolor": "white",
            "ticks": ""
           },
           "bgcolor": "#E5ECF6",
           "caxis": {
            "gridcolor": "white",
            "linecolor": "white",
            "ticks": ""
           }
          },
          "title": {
           "x": 0.05
          },
          "xaxis": {
           "automargin": true,
           "gridcolor": "white",
           "linecolor": "white",
           "ticks": "",
           "title": {
            "standoff": 15
           },
           "zerolinecolor": "white",
           "zerolinewidth": 2
          },
          "yaxis": {
           "automargin": true,
           "gridcolor": "white",
           "linecolor": "white",
           "ticks": "",
           "title": {
            "standoff": 15
           },
           "zerolinecolor": "white",
           "zerolinewidth": 2
          }
         }
        },
        "title": {
         "text": "Продажи в Японии"
        },
        "xaxis": {
         "anchor": "y",
         "domain": [
          0,
          1
         ],
         "title": {
          "text": "platform"
         }
        },
        "yaxis": {
         "anchor": "x",
         "domain": [
          0,
          1
         ],
         "title": {
          "text": "Количество проданных копии, млн"
         }
        }
       }
      },
      "text/html": [
       "<div>                            <div id=\"0b7ba09a-6377-4e1b-b97b-3bbe14a1be3d\" class=\"plotly-graph-div\" style=\"height:525px; width:100%;\"></div>            <script type=\"text/javascript\">                require([\"plotly\"], function(Plotly) {                    window.PLOTLYENV=window.PLOTLYENV || {};                                    if (document.getElementById(\"0b7ba09a-6377-4e1b-b97b-3bbe14a1be3d\")) {                    Plotly.newPlot(                        \"0b7ba09a-6377-4e1b-b97b-3bbe14a1be3d\",                        [{\"alignmentgroup\":\"True\",\"hovertemplate\":\"platform=%{x}<br>\\u041a\\u043e\\u043b\\u0438\\u0447\\u0435\\u0441\\u0442\\u0432\\u043e \\u043f\\u0440\\u043e\\u0434\\u0430\\u043d\\u043d\\u044b\\u0445 \\u043a\\u043e\\u043f\\u0438\\u0438, \\u043c\\u043b\\u043d=%{y}<extra></extra>\",\"legendgroup\":\"\",\"marker\":{\"color\":\"#636efa\",\"pattern\":{\"shape\":\"\"}},\"name\":\"\",\"offsetgroup\":\"\",\"orientation\":\"v\",\"showlegend\":false,\"textposition\":\"auto\",\"x\":[\"3DS\",\"PS4\",\"PSV\",\"PS3\",\"WiiU\",\"PSP\",\"XOne\",\"X360\",\"PC\",\"Wii\"],\"xaxis\":\"x\",\"y\":[44.24,15.02,14.540000000000001,11.22,7.31,0.36,0.32,0.08,0.0,0.0],\"yaxis\":\"y\",\"type\":\"bar\"}],                        {\"template\":{\"data\":{\"bar\":[{\"error_x\":{\"color\":\"#2a3f5f\"},\"error_y\":{\"color\":\"#2a3f5f\"},\"marker\":{\"line\":{\"color\":\"#E5ECF6\",\"width\":0.5},\"pattern\":{\"fillmode\":\"overlay\",\"size\":10,\"solidity\":0.2}},\"type\":\"bar\"}],\"barpolar\":[{\"marker\":{\"line\":{\"color\":\"#E5ECF6\",\"width\":0.5},\"pattern\":{\"fillmode\":\"overlay\",\"size\":10,\"solidity\":0.2}},\"type\":\"barpolar\"}],\"carpet\":[{\"aaxis\":{\"endlinecolor\":\"#2a3f5f\",\"gridcolor\":\"white\",\"linecolor\":\"white\",\"minorgridcolor\":\"white\",\"startlinecolor\":\"#2a3f5f\"},\"baxis\":{\"endlinecolor\":\"#2a3f5f\",\"gridcolor\":\"white\",\"linecolor\":\"white\",\"minorgridcolor\":\"white\",\"startlinecolor\":\"#2a3f5f\"},\"type\":\"carpet\"}],\"choropleth\":[{\"colorbar\":{\"outlinewidth\":0,\"ticks\":\"\"},\"type\":\"choropleth\"}],\"contour\":[{\"colorbar\":{\"outlinewidth\":0,\"ticks\":\"\"},\"colorscale\":[[0.0,\"#0d0887\"],[0.1111111111111111,\"#46039f\"],[0.2222222222222222,\"#7201a8\"],[0.3333333333333333,\"#9c179e\"],[0.4444444444444444,\"#bd3786\"],[0.5555555555555556,\"#d8576b\"],[0.6666666666666666,\"#ed7953\"],[0.7777777777777778,\"#fb9f3a\"],[0.8888888888888888,\"#fdca26\"],[1.0,\"#f0f921\"]],\"type\":\"contour\"}],\"contourcarpet\":[{\"colorbar\":{\"outlinewidth\":0,\"ticks\":\"\"},\"type\":\"contourcarpet\"}],\"heatmap\":[{\"colorbar\":{\"outlinewidth\":0,\"ticks\":\"\"},\"colorscale\":[[0.0,\"#0d0887\"],[0.1111111111111111,\"#46039f\"],[0.2222222222222222,\"#7201a8\"],[0.3333333333333333,\"#9c179e\"],[0.4444444444444444,\"#bd3786\"],[0.5555555555555556,\"#d8576b\"],[0.6666666666666666,\"#ed7953\"],[0.7777777777777778,\"#fb9f3a\"],[0.8888888888888888,\"#fdca26\"],[1.0,\"#f0f921\"]],\"type\":\"heatmap\"}],\"heatmapgl\":[{\"colorbar\":{\"outlinewidth\":0,\"ticks\":\"\"},\"colorscale\":[[0.0,\"#0d0887\"],[0.1111111111111111,\"#46039f\"],[0.2222222222222222,\"#7201a8\"],[0.3333333333333333,\"#9c179e\"],[0.4444444444444444,\"#bd3786\"],[0.5555555555555556,\"#d8576b\"],[0.6666666666666666,\"#ed7953\"],[0.7777777777777778,\"#fb9f3a\"],[0.8888888888888888,\"#fdca26\"],[1.0,\"#f0f921\"]],\"type\":\"heatmapgl\"}],\"histogram\":[{\"marker\":{\"pattern\":{\"fillmode\":\"overlay\",\"size\":10,\"solidity\":0.2}},\"type\":\"histogram\"}],\"histogram2d\":[{\"colorbar\":{\"outlinewidth\":0,\"ticks\":\"\"},\"colorscale\":[[0.0,\"#0d0887\"],[0.1111111111111111,\"#46039f\"],[0.2222222222222222,\"#7201a8\"],[0.3333333333333333,\"#9c179e\"],[0.4444444444444444,\"#bd3786\"],[0.5555555555555556,\"#d8576b\"],[0.6666666666666666,\"#ed7953\"],[0.7777777777777778,\"#fb9f3a\"],[0.8888888888888888,\"#fdca26\"],[1.0,\"#f0f921\"]],\"type\":\"histogram2d\"}],\"histogram2dcontour\":[{\"colorbar\":{\"outlinewidth\":0,\"ticks\":\"\"},\"colorscale\":[[0.0,\"#0d0887\"],[0.1111111111111111,\"#46039f\"],[0.2222222222222222,\"#7201a8\"],[0.3333333333333333,\"#9c179e\"],[0.4444444444444444,\"#bd3786\"],[0.5555555555555556,\"#d8576b\"],[0.6666666666666666,\"#ed7953\"],[0.7777777777777778,\"#fb9f3a\"],[0.8888888888888888,\"#fdca26\"],[1.0,\"#f0f921\"]],\"type\":\"histogram2dcontour\"}],\"mesh3d\":[{\"colorbar\":{\"outlinewidth\":0,\"ticks\":\"\"},\"type\":\"mesh3d\"}],\"parcoords\":[{\"line\":{\"colorbar\":{\"outlinewidth\":0,\"ticks\":\"\"}},\"type\":\"parcoords\"}],\"pie\":[{\"automargin\":true,\"type\":\"pie\"}],\"scatter\":[{\"marker\":{\"colorbar\":{\"outlinewidth\":0,\"ticks\":\"\"}},\"type\":\"scatter\"}],\"scatter3d\":[{\"line\":{\"colorbar\":{\"outlinewidth\":0,\"ticks\":\"\"}},\"marker\":{\"colorbar\":{\"outlinewidth\":0,\"ticks\":\"\"}},\"type\":\"scatter3d\"}],\"scattercarpet\":[{\"marker\":{\"colorbar\":{\"outlinewidth\":0,\"ticks\":\"\"}},\"type\":\"scattercarpet\"}],\"scattergeo\":[{\"marker\":{\"colorbar\":{\"outlinewidth\":0,\"ticks\":\"\"}},\"type\":\"scattergeo\"}],\"scattergl\":[{\"marker\":{\"colorbar\":{\"outlinewidth\":0,\"ticks\":\"\"}},\"type\":\"scattergl\"}],\"scattermapbox\":[{\"marker\":{\"colorbar\":{\"outlinewidth\":0,\"ticks\":\"\"}},\"type\":\"scattermapbox\"}],\"scatterpolar\":[{\"marker\":{\"colorbar\":{\"outlinewidth\":0,\"ticks\":\"\"}},\"type\":\"scatterpolar\"}],\"scatterpolargl\":[{\"marker\":{\"colorbar\":{\"outlinewidth\":0,\"ticks\":\"\"}},\"type\":\"scatterpolargl\"}],\"scatterternary\":[{\"marker\":{\"colorbar\":{\"outlinewidth\":0,\"ticks\":\"\"}},\"type\":\"scatterternary\"}],\"surface\":[{\"colorbar\":{\"outlinewidth\":0,\"ticks\":\"\"},\"colorscale\":[[0.0,\"#0d0887\"],[0.1111111111111111,\"#46039f\"],[0.2222222222222222,\"#7201a8\"],[0.3333333333333333,\"#9c179e\"],[0.4444444444444444,\"#bd3786\"],[0.5555555555555556,\"#d8576b\"],[0.6666666666666666,\"#ed7953\"],[0.7777777777777778,\"#fb9f3a\"],[0.8888888888888888,\"#fdca26\"],[1.0,\"#f0f921\"]],\"type\":\"surface\"}],\"table\":[{\"cells\":{\"fill\":{\"color\":\"#EBF0F8\"},\"line\":{\"color\":\"white\"}},\"header\":{\"fill\":{\"color\":\"#C8D4E3\"},\"line\":{\"color\":\"white\"}},\"type\":\"table\"}]},\"layout\":{\"annotationdefaults\":{\"arrowcolor\":\"#2a3f5f\",\"arrowhead\":0,\"arrowwidth\":1},\"autotypenumbers\":\"strict\",\"coloraxis\":{\"colorbar\":{\"outlinewidth\":0,\"ticks\":\"\"}},\"colorscale\":{\"diverging\":[[0,\"#8e0152\"],[0.1,\"#c51b7d\"],[0.2,\"#de77ae\"],[0.3,\"#f1b6da\"],[0.4,\"#fde0ef\"],[0.5,\"#f7f7f7\"],[0.6,\"#e6f5d0\"],[0.7,\"#b8e186\"],[0.8,\"#7fbc41\"],[0.9,\"#4d9221\"],[1,\"#276419\"]],\"sequential\":[[0.0,\"#0d0887\"],[0.1111111111111111,\"#46039f\"],[0.2222222222222222,\"#7201a8\"],[0.3333333333333333,\"#9c179e\"],[0.4444444444444444,\"#bd3786\"],[0.5555555555555556,\"#d8576b\"],[0.6666666666666666,\"#ed7953\"],[0.7777777777777778,\"#fb9f3a\"],[0.8888888888888888,\"#fdca26\"],[1.0,\"#f0f921\"]],\"sequentialminus\":[[0.0,\"#0d0887\"],[0.1111111111111111,\"#46039f\"],[0.2222222222222222,\"#7201a8\"],[0.3333333333333333,\"#9c179e\"],[0.4444444444444444,\"#bd3786\"],[0.5555555555555556,\"#d8576b\"],[0.6666666666666666,\"#ed7953\"],[0.7777777777777778,\"#fb9f3a\"],[0.8888888888888888,\"#fdca26\"],[1.0,\"#f0f921\"]]},\"colorway\":[\"#636efa\",\"#EF553B\",\"#00cc96\",\"#ab63fa\",\"#FFA15A\",\"#19d3f3\",\"#FF6692\",\"#B6E880\",\"#FF97FF\",\"#FECB52\"],\"font\":{\"color\":\"#2a3f5f\"},\"geo\":{\"bgcolor\":\"white\",\"lakecolor\":\"white\",\"landcolor\":\"#E5ECF6\",\"showlakes\":true,\"showland\":true,\"subunitcolor\":\"white\"},\"hoverlabel\":{\"align\":\"left\"},\"hovermode\":\"closest\",\"mapbox\":{\"style\":\"light\"},\"paper_bgcolor\":\"white\",\"plot_bgcolor\":\"#E5ECF6\",\"polar\":{\"angularaxis\":{\"gridcolor\":\"white\",\"linecolor\":\"white\",\"ticks\":\"\"},\"bgcolor\":\"#E5ECF6\",\"radialaxis\":{\"gridcolor\":\"white\",\"linecolor\":\"white\",\"ticks\":\"\"}},\"scene\":{\"xaxis\":{\"backgroundcolor\":\"#E5ECF6\",\"gridcolor\":\"white\",\"gridwidth\":2,\"linecolor\":\"white\",\"showbackground\":true,\"ticks\":\"\",\"zerolinecolor\":\"white\"},\"yaxis\":{\"backgroundcolor\":\"#E5ECF6\",\"gridcolor\":\"white\",\"gridwidth\":2,\"linecolor\":\"white\",\"showbackground\":true,\"ticks\":\"\",\"zerolinecolor\":\"white\"},\"zaxis\":{\"backgroundcolor\":\"#E5ECF6\",\"gridcolor\":\"white\",\"gridwidth\":2,\"linecolor\":\"white\",\"showbackground\":true,\"ticks\":\"\",\"zerolinecolor\":\"white\"}},\"shapedefaults\":{\"line\":{\"color\":\"#2a3f5f\"}},\"ternary\":{\"aaxis\":{\"gridcolor\":\"white\",\"linecolor\":\"white\",\"ticks\":\"\"},\"baxis\":{\"gridcolor\":\"white\",\"linecolor\":\"white\",\"ticks\":\"\"},\"bgcolor\":\"#E5ECF6\",\"caxis\":{\"gridcolor\":\"white\",\"linecolor\":\"white\",\"ticks\":\"\"}},\"title\":{\"x\":0.05},\"xaxis\":{\"automargin\":true,\"gridcolor\":\"white\",\"linecolor\":\"white\",\"ticks\":\"\",\"title\":{\"standoff\":15},\"zerolinecolor\":\"white\",\"zerolinewidth\":2},\"yaxis\":{\"automargin\":true,\"gridcolor\":\"white\",\"linecolor\":\"white\",\"ticks\":\"\",\"title\":{\"standoff\":15},\"zerolinecolor\":\"white\",\"zerolinewidth\":2}}},\"xaxis\":{\"anchor\":\"y\",\"domain\":[0.0,1.0],\"title\":{\"text\":\"platform\"}},\"yaxis\":{\"anchor\":\"x\",\"domain\":[0.0,1.0],\"title\":{\"text\":\"\\u041a\\u043e\\u043b\\u0438\\u0447\\u0435\\u0441\\u0442\\u0432\\u043e \\u043f\\u0440\\u043e\\u0434\\u0430\\u043d\\u043d\\u044b\\u0445 \\u043a\\u043e\\u043f\\u0438\\u0438, \\u043c\\u043b\\u043d\"}},\"legend\":{\"tracegroupgap\":0},\"title\":{\"text\":\"\\u041f\\u0440\\u043e\\u0434\\u0430\\u0436\\u0438 \\u0432 \\u042f\\u043f\\u043e\\u043d\\u0438\\u0438\"},\"barmode\":\"relative\"},                        {\"responsive\": true}                    ).then(function(){\n",
       "                            \n",
       "var gd = document.getElementById('0b7ba09a-6377-4e1b-b97b-3bbe14a1be3d');\n",
       "var x = new MutationObserver(function (mutations, observer) {{\n",
       "        var display = window.getComputedStyle(gd).display;\n",
       "        if (!display || display === 'none') {{\n",
       "            console.log([gd, 'removed!']);\n",
       "            Plotly.purge(gd);\n",
       "            observer.disconnect();\n",
       "        }}\n",
       "}});\n",
       "\n",
       "// Listen for the removal of the full notebook cells\n",
       "var notebookContainer = gd.closest('#notebook-container');\n",
       "if (notebookContainer) {{\n",
       "    x.observe(notebookContainer, {childList: true});\n",
       "}}\n",
       "\n",
       "// Listen for the clearing of the current output cell\n",
       "var outputEl = gd.closest('.output');\n",
       "if (outputEl) {{\n",
       "    x.observe(outputEl, {childList: true});\n",
       "}}\n",
       "\n",
       "                        })                };                });            </script>        </div>"
      ]
     },
     "metadata": {},
     "output_type": "display_data"
    }
   ],
   "source": [
    "fig = px.bar(sales_platform_jp, x=\"platform\", y=\"jp_sales\", title=\"Продажи в Японии\", \n",
    "             labels={'jp_sales':'Количество проданных копии, млн'})\n",
    "fig.show()"
   ]
  },
  {
   "cell_type": "markdown",
   "id": "02d29d0a",
   "metadata": {},
   "source": [
    "В Северной Америке и в Европе лидируют по продажам игровые платформы PS4 и X360. Топ-5 платформ в Северной Америке: PS4, XOne, X360, 3DS, PS3. В Европе популярные платформы распределены примерно одинаково: PS4, XOne, PS3, PC, 3DS. Все популярные приставки имеют стационарный тип. Топ-5 платформ в Японии: 3DS, PS4, PSV, PS3, WiiU . Главное отличие Северной Америки и Европы от Японии в том, что в Японии распространены портативные платформы."
   ]
  },
  {
   "cell_type": "markdown",
   "id": "4b0d43b4",
   "metadata": {},
   "source": [
    "### Самые популярные жанры"
   ]
  },
  {
   "cell_type": "markdown",
   "id": "e6f7159a",
   "metadata": {},
   "source": [
    "Определим для пользователя каждого региона (NA, EU, JP) самые популярные жанры."
   ]
  },
  {
   "cell_type": "code",
   "execution_count": 76,
   "id": "0b2e1fb3",
   "metadata": {
    "scrolled": false
   },
   "outputs": [
    {
     "data": {
      "image/png": "[encoded data removed]",
      "text/plain": [
       "<Figure size 1440x720 with 1 Axes>"
      ]
     },
     "metadata": {
      "needs_background": "light"
     },
     "output_type": "display_data"
    },
    {
     "data": {
      "image/png": "[encoded data removed]",
      "text/plain": [
       "<Figure size 1440x720 with 1 Axes>"
      ]
     },
     "metadata": {
      "needs_background": "light"
     },
     "output_type": "display_data"
    },
    {
     "data": {
      "image/png": "[encoded data removed]",
      "text/plain": [
       "<Figure size 1440x720 with 1 Axes>"
      ]
     },
     "metadata": {
      "needs_background": "light"
     },
     "output_type": "display_data"
    }
   ],
   "source": [
    "# создание списка регионов\n",
    "columns = ['na_sales', 'eu_sales', 'jp_sales']\n",
    "# oтображение диаграммы ящик с усами по глобальным продажам игр в Северной Америке, Европе, Японии в разбивке по жанрам\n",
    "for item in columns:\n",
    "    actual_data.boxplot(column=item, by='genre', figsize=(20,10))\n",
    "    plt.ylim(0,1)\n",
    "    plt.xlabel('Платформа', size=14)\n",
    "    plt.ylabel('Количество проданных копий, млн', size=14)\n",
    "    plt.title(f'Распределение продаж игр в {item} в разбивке по жанрам');"
   ]
  },
  {
   "cell_type": "markdown",
   "id": "25807304",
   "metadata": {},
   "source": [
    "Самые популярные жанры игр для жителей в Северной Америке: shooter, sports, racing, fighting, action. Для пользователей в Европе топ-5 популярных жанров остается неизменным. Можно сделать вывод, что аудитория в Северной Америке и в Европе схожа в предпочтениях. На диаграммах видно, что количество проданных копий в Северной Америке значительно выше, чем в Европе. Совершенно иная картина распределения продаж по жанрам игр в Японии. Role-playing, puzzle, fighting - список лидирующих жанров в данной стране. Вероятно, это связано с культурными различиями. Также известно, что в Японии остро стоит проблема одиночества и ухода от реальности, а ролевые игры представляют возможность представить себя в роли какого-либо персонажа в разнообразных местах."
   ]
  },
  {
   "cell_type": "markdown",
   "id": "3de196a5",
   "metadata": {},
   "source": [
    "### Корреляция между рейтингом и продажами"
   ]
  },
  {
   "cell_type": "markdown",
   "id": "259f90d4",
   "metadata": {},
   "source": [
    "Определим, влияет ли рейтинг ESRB на продажи в регионах. \n",
    "\n",
    "ESRB (Entertainment Software Rating Board) — это ассоциация, определяющая возрастной рейтинг компьютерных игр. ESRB оценивает игровой контент и присваивает ему подходящую возрастную категорию, например, «E» («everyone») — «для всех», «E10+» («everyone 10 and older») — «для всех от 10 лет и старше», «EC» («early childhood») — «для детей младшего возраста», «M» («mature») — «для взрослых», «T» («teen») — «подросткам», «RP» («rating pending») — «рейтинг ожидается»."
   ]
  },
  {
   "cell_type": "markdown",
   "id": "31f5147a",
   "metadata": {},
   "source": [
    "В столбце 'rating' примерно 44% отсутствующих значений, поэтому, чтобы расммотреть, несут ли в себе важную информацию пропущенные значения в столбце 'rating', заменим отсутствующий возрастной рейтинг на 'Нет рейтинга'."
   ]
  },
  {
   "cell_type": "code",
   "execution_count": 77,
   "id": "ee66d593",
   "metadata": {},
   "outputs": [],
   "source": [
    "actual_data['rating'] = actual_data['rating'].fillna('Нет рейтинга')"
   ]
  },
  {
   "cell_type": "code",
   "execution_count": 78,
   "id": "d9ffc7a4",
   "metadata": {
    "scrolled": false
   },
   "outputs": [
    {
     "data": {
      "image/png": "[encoded data removed]",
      "text/plain": [
       "<Figure size 1440x720 with 1 Axes>"
      ]
     },
     "metadata": {
      "needs_background": "light"
     },
     "output_type": "display_data"
    },
    {
     "data": {
      "image/png": "[encoded data removed]",
      "text/plain": [
       "<Figure size 1440x720 with 1 Axes>"
      ]
     },
     "metadata": {
      "needs_background": "light"
     },
     "output_type": "display_data"
    },
    {
     "data": {
      "image/png": "[encoded data removed]",
      "text/plain": [
       "<Figure size 1440x720 with 1 Axes>"
      ]
     },
     "metadata": {
      "needs_background": "light"
     },
     "output_type": "display_data"
    }
   ],
   "source": [
    "# создание списка регионов\n",
    "columns = ['na_sales', 'eu_sales', 'jp_sales']\n",
    "# oтображение диаграммы ящик с усами по глобальным продажам игр в Северной Америке, Европе, Японии в разбивке по рейтингу ESRB\n",
    "for item in columns:\n",
    "    actual_data.boxplot(column=item, by='rating', figsize=(20,10))\n",
    "    plt.ylim(-0.1,1)\n",
    "    plt.xlabel('Рейтинг ESRB', size=14)\n",
    "    plt.ylabel('Количество проданных копий, млн', size=14)\n",
    "    plt.title(f'Распределение продаж игр в {item} в разбивке по рейтингу ESRB');"
   ]
  },
  {
   "cell_type": "markdown",
   "id": "3a3dee69",
   "metadata": {},
   "source": [
    "В Северной Америке и в Европе наибольшее количество продаж у игр с возрастным рейтингом «для взрослых». Наибольшее количество проданных копии в Японии без рейтинга. Так как в Японии существуют жесткие правила по распространению игр с возрастными ограничениями, скорее под отсутствием рейтинга подразумевается продукт, который  пригоден для всех возрастов. Значит, самый популярный рейтинг игр в Японии «для всех». Вторая гипотеза возникновения большого количества пропусков в рейтинге - это неудачная склейка двух таблиц: продажи на Западе и на Востоке. Ассоциация, определяющая возрастной рейтинг компьютерных игр, на территории Северной Америки - ESRB, а на территории Японии аналогичная - CERO. Скорее всего, данные ассоциации не присваивают рейтинг уже маркированным видеоиграм."
   ]
  },
  {
   "cell_type": "markdown",
   "id": "9b9833f0",
   "metadata": {},
   "source": [
    "**Вывод**"
   ]
  },
  {
   "cell_type": "markdown",
   "id": "d81721a9",
   "metadata": {},
   "source": [
    "В Северной Америке и Европе наиболее популярны стационарные платформы, в Японии портативные платформы. Cамые популярные жанры игр для жителей в Северной Америке и Европе: shooter, sports, racing, а в Японии role-playing, puzzle, fighting. Рейтинг ESRB влияет на продаже в Северной Америке и в Европе(приобретают игры \"для взрослых\"), но не влияет на продажи в Японии. Аудитория в Северной Америке и в Европе схожа в предпочтениях в связи с схожим менталитетом."
   ]
  },
  {
   "cell_type": "markdown",
   "id": "10191e44",
   "metadata": {},
   "source": [
    "## Проверка гипотез"
   ]
  },
  {
   "cell_type": "markdown",
   "id": "3ade13ee",
   "metadata": {},
   "source": [
    "Проверим две исследовательские гипотезы:\n",
    "* средние пользовательские рейтинги платформ Xbox One и PC одинаковые;\n",
    "* средние пользовательские рейтинги жанров Action (англ. «действие», экшен-игры) и Sports (англ. «спортивные соревнования») разные."
   ]
  },
  {
   "cell_type": "code",
   "execution_count": 79,
   "id": "5beb3fb5",
   "metadata": {},
   "outputs": [],
   "source": [
    "# выделим данные для платформы Xbox и PC отдельно в таблицы\n",
    "actual_data_Xbox = actual_data.query('platform ==\"XOne\"')\n",
    "actual_data_PC = actual_data.query('platform ==\"PC\"')\n",
    "# при проверке гипотез необходимо удалить пропуски из столбца с пользовательскими оценками\n",
    "actual_data_Xbox.dropna(subset = ['user_score'], inplace = True)\n",
    "actual_data_PC.dropna(subset = ['user_score'], inplace = True)"
   ]
  },
  {
   "cell_type": "code",
   "execution_count": 80,
   "id": "c9fb38b6",
   "metadata": {},
   "outputs": [],
   "source": [
    "# выделим данные для жанра Action и Sports отдельно в таблицы\n",
    "actual_data_action = actual_data.query('genre ==\"Action\"')\n",
    "actual_data_sports = actual_data.query('genre ==\"Sports\"')\n",
    "# при проверке гипотез необходимо удалить пропуски из столбца с пользовательскими оценками\n",
    "actual_data_action.dropna(subset = ['user_score'], inplace = True)\n",
    "actual_data_sports.dropna(subset = ['user_score'], inplace = True)"
   ]
  },
  {
   "cell_type": "code",
   "execution_count": 81,
   "id": "0ac72055",
   "metadata": {},
   "outputs": [
    {
     "data": {
      "text/plain": [
       "[1.8910066518846989, 2.9011543151334522]"
      ]
     },
     "execution_count": 81,
     "metadata": {},
     "output_type": "execute_result"
    }
   ],
   "source": [
    "# определение дисперсии выборок стат.тестом Левене\n",
    "from scipy.stats import levene\n",
    "[np.var(x, ddof=1) for x in [actual_data_Xbox['user_score'], actual_data_PC['user_score']]]"
   ]
  },
  {
   "cell_type": "code",
   "execution_count": 82,
   "id": "42a169b0",
   "metadata": {},
   "outputs": [
    {
     "data": {
      "text/plain": [
       "[1.898476658476659, 3.4469791276090476]"
      ]
     },
     "execution_count": 82,
     "metadata": {},
     "output_type": "execute_result"
    }
   ],
   "source": [
    "# определение дисперсии выборок стат.тестом Левене\n",
    "from scipy.stats import levene\n",
    "[np.var(x, ddof=1) for x in [actual_data_action['user_score'], actual_data_sports['user_score']]]"
   ]
  },
  {
   "cell_type": "markdown",
   "id": "f16d5691",
   "metadata": {},
   "source": [
    "Так как генеральные совокупности не зависят друг от друга, выборочные средние распределены нормально, значит можно использовать специальный метод stats.ttest_ind для проверки гипотезы о равенстве среднего двух генеральных совокупностей по взятым из них выборкам. Выборки (средние пользовательские рейтинги платформ Xbox One и PC, средние пользовательские рейтинги жанров Action и Sports) примерно равного размера и дисперсии у совокупностей схожи, следовательно, параметр equal_var в методе примем True.\n",
    "\n",
    "Для проверки исследовательской гипотезы, что средние пользовательские рейтинги платформ Xbox One и PC одинаковые, необходимо составить нулевую гипотезу и альтернативную. Альтернативная гипотеза - это утверждение, которое принимается верным, если отбрасывается нулевая гипотеза.\n",
    "\n",
    "Нулевая гипотеза: средний пользовательский рейтинг платформы Xbox One равен среднему пользовательскому рейтингу платформы PC.\n",
    "\n",
    "Альтернативная гипотеза: средний пользовательский рейтинг платформы Xbox One не равен среднему пользовательскому рейтингу платформы PC."
   ]
  },
  {
   "cell_type": "code",
   "execution_count": 83,
   "id": "3cd89d59",
   "metadata": {},
   "outputs": [
    {
     "name": "stdout",
     "output_type": "stream",
     "text": [
      "p-значение:  0.10450507919348415\n",
      "Не получилось отвергнуть нулевую гипотезу\n"
     ]
    }
   ],
   "source": [
    "# импорт библиотеки Scipy\n",
    "from scipy import stats as st\n",
    "\n",
    "alpha = .05 # критический уровень статистической значимости\n",
    "# если p-value окажется меньше него - отвегнем гипотезу\n",
    "\n",
    "results = st.ttest_ind(\n",
    "    actual_data_Xbox['user_score'], \n",
    "    actual_data_PC['user_score'])\n",
    "\n",
    "print('p-значение: ', results.pvalue)\n",
    "\n",
    "if results.pvalue < alpha:\n",
    "    print(\"Отвергаем нулевую гипотезу\")\n",
    "else:\n",
    "    print(\"Не получилось отвергнуть нулевую гипотезу\") "
   ]
  },
  {
   "cell_type": "markdown",
   "id": "60fc8f28",
   "metadata": {},
   "source": [
    "Итак, p-значение значительно выше установленного критического уровня статистической значимости, вероятность получить верные данные очень высока, гипотезу \"средний пользовательский рейтинг платформы Xbox One равен среднему пользовательскому рейтингу платформы PC\" не отвергаем, следовательно, уверенность в том, что гипотеза верна, повысилась."
   ]
  },
  {
   "cell_type": "markdown",
   "id": "d4817ef9",
   "metadata": {},
   "source": [
    "Проверим исследовательскую гипотезу, что средние пользовательские рейтинги жанров Action (англ. «действие», экшен-игры) и Sports (англ. «спортивные соревнования») разные. \n",
    "\n",
    "Нулевая гипотеза: средний пользовательские рейтинг жанра Action равен среднему пользовательскому рейтингу жанра Sports.\n",
    "\n",
    "Альтернативная гипотеза: средний пользовательские рейтинг жанра Action не равен среднему пользовательскому рейтингу жанра Sports."
   ]
  },
  {
   "cell_type": "code",
   "execution_count": 84,
   "id": "1230427a",
   "metadata": {},
   "outputs": [
    {
     "name": "stdout",
     "output_type": "stream",
     "text": [
      "p-значение:  2.8711147985105864e-19\n",
      "Отвергаем нулевую гипотезу\n"
     ]
    }
   ],
   "source": [
    "alpha = .05 # критический уровень статистической значимости\n",
    "# если p-value окажется меньше него - отвегнем гипотезу\n",
    "\n",
    "results = st.ttest_ind(\n",
    "    actual_data_action['user_score'], \n",
    "    actual_data_sports['user_score'])\n",
    "\n",
    "print('p-значение: ', results.pvalue)\n",
    "\n",
    "if results.pvalue < alpha:\n",
    "    print(\"Отвергаем нулевую гипотезу\")\n",
    "else:\n",
    "    print(\"Не получилось отвергнуть нулевую гипотезу\") "
   ]
  },
  {
   "cell_type": "markdown",
   "id": "b0617d6d",
   "metadata": {},
   "source": [
    "Отвергаем нулевую гипотезу, так как экспериментальные данные очень маловероятны при условии, что гипотеза верна. Значит, средний пользовательские рейтинг жанра Action не равен среднему пользовательскому рейтингу жанра Sports."
   ]
  },
  {
   "cell_type": "markdown",
   "id": "1770b092",
   "metadata": {},
   "source": [
    "## Вывод"
   ]
  },
  {
   "cell_type": "markdown",
   "id": "972eb468",
   "metadata": {},
   "source": [
    "Проанализированы данных о продажах игр, оценках пользователей и экспертов, жанрах и платформах. В результате анализа имеем:\n",
    "* В Северной Америке, Европе и Японии продажи по платформам отличаются\n",
    "* Отзывы пользователей и критиков не влияют на продажи внутри одной популярной платформы \n",
    "* Самые высокие медианные продажи у игр жанра shooter, sports, fighting, racing, role-playing \n",
    "* Самые низкие продажи у игр жанра adventure, stategy\n",
    "* В Северной Америке топ-5 популярных платформ: PS4, XOne, X360, 3DS, PS3\n",
    "* В Европе топ-5 популярных платформ: PS4, XOne, PS3, PC, 3DS\n",
    "* В Японии топ-5 популярных платформ: 3DS, PS4, PSV, PS3, WiiU\n",
    "* В Северной Америке и Европе наиболее популярны стационарные платформы, в Японии портативные платформы\n",
    "* Самые популярные жанры игр для жителей в Северной Америке и Европы: shooter, sports, racing, fighting, action\n",
    "* Самые популярные жанры игр для жителей в Японии role-playing, puzzle, fighting\n",
    "* Рейтинг ESRB влияет на продаже в Северной Америке и в Европе (приобретают игры \"для взрослых\")\n",
    "* Рейтинг ESRB влияет на продажи в Японии (приобретают игры \"для всех\")\n",
    "\n",
    "В ходе работы также были проверены две исследовательские гипотезы. Гипотеза \"средний пользовательский рейтинг платформы Xbox One равен среднему пользовательскому рейтингу платформы PC\" не была отвергнута, гипотеза \"средний пользовательские рейтинг жанра Action равен среднему пользовательскому рейтингу жанра Sports\" была отвергнута и принята альтернативная \"средний пользовательские рейтинг жанра Action не равен среднему пользовательскому рейтингу жанра Sports\"."
   ]
  }
 ],
 "metadata": {
  "ExecuteTimeLog": [
   {
    "duration": 840,
    "start_time": "2022-02-02T07:47:26.592Z"
   },
   {
    "duration": 27,
    "start_time": "2022-02-02T07:47:27.435Z"
   },
   {
    "duration": 14,
    "start_time": "2022-02-02T07:47:27.465Z"
   },
   {
    "duration": 8,
    "start_time": "2022-02-02T07:47:27.482Z"
   },
   {
    "duration": 46,
    "start_time": "2022-02-02T07:47:27.492Z"
   },
   {
    "duration": 12,
    "start_time": "2022-02-02T07:47:27.540Z"
   },
   {
    "duration": 12,
    "start_time": "2022-02-02T07:47:27.554Z"
   },
   {
    "duration": 12,
    "start_time": "2022-02-02T07:47:27.570Z"
   },
   {
    "duration": 10,
    "start_time": "2022-02-02T07:47:27.585Z"
   },
   {
    "duration": 43,
    "start_time": "2022-02-02T07:47:27.597Z"
   },
   {
    "duration": 122,
    "start_time": "2022-02-02T07:47:27.642Z"
   },
   {
    "duration": 394,
    "start_time": "2022-02-02T07:47:27.767Z"
   },
   {
    "duration": 11,
    "start_time": "2022-02-02T07:47:28.164Z"
   },
   {
    "duration": 627,
    "start_time": "2022-02-02T07:47:28.177Z"
   },
   {
    "duration": 44,
    "start_time": "2022-02-02T07:47:28.806Z"
   },
   {
    "duration": 14,
    "start_time": "2022-02-02T07:47:28.852Z"
   },
   {
    "duration": 10,
    "start_time": "2022-02-02T07:47:28.869Z"
   },
   {
    "duration": 538,
    "start_time": "2022-02-02T07:47:28.882Z"
   },
   {
    "duration": 26,
    "start_time": "2022-02-02T07:47:29.422Z"
   },
   {
    "duration": 1039,
    "start_time": "2022-02-02T07:47:29.450Z"
   },
   {
    "duration": 75,
    "start_time": "2022-02-02T07:47:30.491Z"
   },
   {
    "duration": 1696,
    "start_time": "2022-02-02T07:47:30.569Z"
   },
   {
    "duration": 1704,
    "start_time": "2022-02-02T07:47:32.270Z"
   },
   {
    "duration": 881,
    "start_time": "2022-02-02T07:47:33.978Z"
   },
   {
    "duration": 2539,
    "start_time": "2022-02-02T07:47:34.862Z"
   },
   {
    "duration": 343,
    "start_time": "2022-02-02T07:47:37.405Z"
   },
   {
    "duration": 332,
    "start_time": "2022-02-02T07:47:37.751Z"
   },
   {
    "duration": 330,
    "start_time": "2022-02-02T07:47:38.085Z"
   },
   {
    "duration": 2714,
    "start_time": "2022-02-02T07:47:38.418Z"
   },
   {
    "duration": 2088,
    "start_time": "2022-02-02T07:47:41.135Z"
   },
   {
    "duration": 26,
    "start_time": "2022-02-02T07:47:43.232Z"
   },
   {
    "duration": 18,
    "start_time": "2022-02-02T07:47:43.260Z"
   },
   {
    "duration": 541,
    "start_time": "2022-02-02T07:47:43.280Z"
   },
   {
    "duration": 11,
    "start_time": "2022-02-02T07:47:43.824Z"
   },
   {
    "duration": 9,
    "start_time": "2022-02-02T07:47:43.837Z"
   },
   {
    "duration": 6,
    "start_time": "2022-02-02T07:47:43.848Z"
   },
   {
    "duration": 929,
    "start_time": "2022-02-03T07:34:21.821Z"
   },
   {
    "duration": 22,
    "start_time": "2022-02-03T07:34:22.753Z"
   },
   {
    "duration": 13,
    "start_time": "2022-02-03T07:34:22.778Z"
   },
   {
    "duration": 4,
    "start_time": "2022-02-03T07:34:22.794Z"
   },
   {
    "duration": 10,
    "start_time": "2022-02-03T07:34:22.824Z"
   },
   {
    "duration": 11,
    "start_time": "2022-02-03T07:34:22.837Z"
   },
   {
    "duration": 12,
    "start_time": "2022-02-03T07:34:22.850Z"
   },
   {
    "duration": 10,
    "start_time": "2022-02-03T07:34:22.866Z"
   },
   {
    "duration": 46,
    "start_time": "2022-02-03T07:34:22.879Z"
   },
   {
    "duration": 12,
    "start_time": "2022-02-03T07:34:22.927Z"
   },
   {
    "duration": 5,
    "start_time": "2022-02-03T07:34:22.941Z"
   },
   {
    "duration": 484,
    "start_time": "2022-02-03T07:34:22.948Z"
   },
   {
    "duration": 11,
    "start_time": "2022-02-03T07:34:23.434Z"
   },
   {
    "duration": 595,
    "start_time": "2022-02-03T07:34:23.448Z"
   },
   {
    "duration": 27,
    "start_time": "2022-02-03T07:34:24.046Z"
   },
   {
    "duration": 86,
    "start_time": "2022-02-03T07:34:24.075Z"
   },
   {
    "duration": 12,
    "start_time": "2022-02-03T07:34:24.163Z"
   },
   {
    "duration": 549,
    "start_time": "2022-02-03T07:34:24.178Z"
   },
   {
    "duration": 21,
    "start_time": "2022-02-03T07:34:24.729Z"
   },
   {
    "duration": 1084,
    "start_time": "2022-02-03T07:34:24.752Z"
   },
   {
    "duration": 91,
    "start_time": "2022-02-03T07:34:25.839Z"
   },
   {
    "duration": 1664,
    "start_time": "2022-02-03T07:34:25.933Z"
   },
   {
    "duration": 1621,
    "start_time": "2022-02-03T07:34:27.604Z"
   },
   {
    "duration": 989,
    "start_time": "2022-02-03T07:34:29.227Z"
   },
   {
    "duration": 2498,
    "start_time": "2022-02-03T07:34:30.219Z"
   },
   {
    "duration": 333,
    "start_time": "2022-02-03T07:34:32.719Z"
   },
   {
    "duration": 350,
    "start_time": "2022-02-03T07:34:33.055Z"
   },
   {
    "duration": 333,
    "start_time": "2022-02-03T07:34:33.408Z"
   },
   {
    "duration": 2979,
    "start_time": "2022-02-03T07:34:33.744Z"
   },
   {
    "duration": 2015,
    "start_time": "2022-02-03T07:34:36.725Z"
   },
   {
    "duration": 25,
    "start_time": "2022-02-03T07:34:38.742Z"
   },
   {
    "duration": 70,
    "start_time": "2022-02-03T07:34:38.769Z"
   },
   {
    "duration": 696,
    "start_time": "2022-02-03T07:34:38.841Z"
   },
   {
    "duration": 6,
    "start_time": "2022-02-03T07:34:39.540Z"
   },
   {
    "duration": 9,
    "start_time": "2022-02-03T07:34:39.548Z"
   },
   {
    "duration": 64,
    "start_time": "2022-02-03T07:34:39.559Z"
   },
   {
    "duration": 454,
    "start_time": "2022-02-03T07:35:32.049Z"
   },
   {
    "duration": 359,
    "start_time": "2022-02-03T07:35:42.131Z"
   },
   {
    "duration": 350,
    "start_time": "2022-02-03T07:35:49.462Z"
   },
   {
    "duration": 43,
    "start_time": "2022-02-03T07:35:54.043Z"
   },
   {
    "duration": 17,
    "start_time": "2022-02-03T07:35:54.089Z"
   },
   {
    "duration": 13,
    "start_time": "2022-02-03T07:35:54.124Z"
   },
   {
    "duration": 5,
    "start_time": "2022-02-03T07:35:54.140Z"
   },
   {
    "duration": 9,
    "start_time": "2022-02-03T07:35:54.147Z"
   },
   {
    "duration": 29,
    "start_time": "2022-02-03T07:35:54.158Z"
   },
   {
    "duration": 12,
    "start_time": "2022-02-03T07:35:54.190Z"
   },
   {
    "duration": 10,
    "start_time": "2022-02-03T07:35:54.224Z"
   },
   {
    "duration": 23,
    "start_time": "2022-02-03T07:35:54.237Z"
   },
   {
    "duration": 17,
    "start_time": "2022-02-03T07:35:54.262Z"
   },
   {
    "duration": 23,
    "start_time": "2022-02-03T07:35:54.281Z"
   },
   {
    "duration": 379,
    "start_time": "2022-02-03T07:35:54.307Z"
   },
   {
    "duration": 10,
    "start_time": "2022-02-03T07:35:54.689Z"
   },
   {
    "duration": 577,
    "start_time": "2022-02-03T07:35:54.702Z"
   },
   {
    "duration": 43,
    "start_time": "2022-02-03T07:35:55.281Z"
   },
   {
    "duration": 14,
    "start_time": "2022-02-03T07:35:55.326Z"
   },
   {
    "duration": 9,
    "start_time": "2022-02-03T07:35:55.342Z"
   },
   {
    "duration": 517,
    "start_time": "2022-02-03T07:35:55.353Z"
   },
   {
    "duration": 20,
    "start_time": "2022-02-03T07:35:55.872Z"
   },
   {
    "duration": 1040,
    "start_time": "2022-02-03T07:35:55.894Z"
   },
   {
    "duration": 52,
    "start_time": "2022-02-03T07:35:56.937Z"
   },
   {
    "duration": 1944,
    "start_time": "2022-02-03T07:35:56.991Z"
   },
   {
    "duration": 1622,
    "start_time": "2022-02-03T07:35:58.940Z"
   },
   {
    "duration": 896,
    "start_time": "2022-02-03T07:36:00.565Z"
   },
   {
    "duration": 2610,
    "start_time": "2022-02-03T07:36:01.464Z"
   },
   {
    "duration": 408,
    "start_time": "2022-02-03T07:36:04.076Z"
   },
   {
    "duration": 335,
    "start_time": "2022-02-03T07:36:04.488Z"
   },
   {
    "duration": 325,
    "start_time": "2022-02-03T07:36:04.825Z"
   },
   {
    "duration": 2600,
    "start_time": "2022-02-03T07:36:05.152Z"
   },
   {
    "duration": 2053,
    "start_time": "2022-02-03T07:36:07.755Z"
   },
   {
    "duration": 33,
    "start_time": "2022-02-03T07:36:09.810Z"
   },
   {
    "duration": 19,
    "start_time": "2022-02-03T07:36:09.845Z"
   },
   {
    "duration": 7,
    "start_time": "2022-02-03T07:36:09.866Z"
   },
   {
    "duration": 47,
    "start_time": "2022-02-03T07:36:09.875Z"
   },
   {
    "duration": 7,
    "start_time": "2022-02-03T07:36:09.925Z"
   },
   {
    "duration": 7,
    "start_time": "2022-02-03T07:36:09.935Z"
   },
   {
    "duration": 366,
    "start_time": "2022-02-03T07:36:36.862Z"
   },
   {
    "duration": 456,
    "start_time": "2022-02-03T07:37:02.158Z"
   },
   {
    "duration": 351,
    "start_time": "2022-02-03T07:37:34.158Z"
   },
   {
    "duration": 352,
    "start_time": "2022-02-03T07:37:46.928Z"
   },
   {
    "duration": 44,
    "start_time": "2022-02-03T07:39:30.163Z"
   },
   {
    "duration": 26,
    "start_time": "2022-02-03T07:39:30.210Z"
   },
   {
    "duration": 17,
    "start_time": "2022-02-03T07:39:30.239Z"
   },
   {
    "duration": 10,
    "start_time": "2022-02-03T07:39:30.259Z"
   },
   {
    "duration": 13,
    "start_time": "2022-02-03T07:39:30.272Z"
   },
   {
    "duration": 38,
    "start_time": "2022-02-03T07:39:30.288Z"
   },
   {
    "duration": 26,
    "start_time": "2022-02-03T07:39:30.329Z"
   },
   {
    "duration": 11,
    "start_time": "2022-02-03T07:39:30.359Z"
   },
   {
    "duration": 12,
    "start_time": "2022-02-03T07:39:30.372Z"
   },
   {
    "duration": 11,
    "start_time": "2022-02-03T07:39:30.386Z"
   },
   {
    "duration": 31,
    "start_time": "2022-02-03T07:39:30.399Z"
   },
   {
    "duration": 385,
    "start_time": "2022-02-03T07:39:35.353Z"
   },
   {
    "duration": 725,
    "start_time": "2022-02-03T07:43:01.966Z"
   },
   {
    "duration": 736,
    "start_time": "2022-02-03T07:43:17.241Z"
   },
   {
    "duration": 92,
    "start_time": "2022-02-03T07:43:37.291Z"
   },
   {
    "duration": 727,
    "start_time": "2022-02-03T07:43:40.591Z"
   },
   {
    "duration": 808,
    "start_time": "2022-02-03T07:43:56.315Z"
   },
   {
    "duration": 449,
    "start_time": "2022-02-03T07:48:52.045Z"
   },
   {
    "duration": 320,
    "start_time": "2022-02-03T07:49:00.701Z"
   },
   {
    "duration": 25,
    "start_time": "2022-02-03T07:49:04.281Z"
   },
   {
    "duration": 367,
    "start_time": "2022-02-03T07:49:27.201Z"
   },
   {
    "duration": 28,
    "start_time": "2022-02-03T07:49:37.050Z"
   },
   {
    "duration": 22,
    "start_time": "2022-02-03T07:49:55.649Z"
   },
   {
    "duration": 33,
    "start_time": "2022-02-03T07:50:03.372Z"
   },
   {
    "duration": 31,
    "start_time": "2022-02-03T07:58:33.351Z"
   },
   {
    "duration": 27,
    "start_time": "2022-02-03T07:59:09.797Z"
   },
   {
    "duration": 28,
    "start_time": "2022-02-03T07:59:44.386Z"
   },
   {
    "duration": 43,
    "start_time": "2022-02-03T08:24:59.679Z"
   },
   {
    "duration": 47,
    "start_time": "2022-02-03T08:25:04.092Z"
   },
   {
    "duration": 18,
    "start_time": "2022-02-03T08:25:04.141Z"
   },
   {
    "duration": 15,
    "start_time": "2022-02-03T08:25:04.162Z"
   },
   {
    "duration": 46,
    "start_time": "2022-02-03T08:25:04.180Z"
   },
   {
    "duration": 11,
    "start_time": "2022-02-03T08:25:04.228Z"
   },
   {
    "duration": 11,
    "start_time": "2022-02-03T08:25:04.241Z"
   },
   {
    "duration": 12,
    "start_time": "2022-02-03T08:25:04.255Z"
   },
   {
    "duration": 62,
    "start_time": "2022-02-03T08:25:04.269Z"
   },
   {
    "duration": 11,
    "start_time": "2022-02-03T08:25:04.335Z"
   },
   {
    "duration": 7,
    "start_time": "2022-02-03T08:25:04.350Z"
   },
   {
    "duration": 8,
    "start_time": "2022-02-03T08:25:04.359Z"
   },
   {
    "duration": 448,
    "start_time": "2022-02-03T08:25:04.369Z"
   },
   {
    "duration": 9,
    "start_time": "2022-02-03T08:25:04.822Z"
   },
   {
    "duration": 623,
    "start_time": "2022-02-03T08:25:04.833Z"
   },
   {
    "duration": 29,
    "start_time": "2022-02-03T08:25:05.459Z"
   },
   {
    "duration": 43,
    "start_time": "2022-02-03T08:25:05.491Z"
   },
   {
    "duration": 17,
    "start_time": "2022-02-03T08:25:05.537Z"
   },
   {
    "duration": 760,
    "start_time": "2022-02-03T08:25:05.557Z"
   },
   {
    "duration": 31,
    "start_time": "2022-02-03T08:25:06.320Z"
   },
   {
    "duration": 1061,
    "start_time": "2022-02-03T08:25:06.353Z"
   },
   {
    "duration": 53,
    "start_time": "2022-02-03T08:25:07.423Z"
   },
   {
    "duration": 1761,
    "start_time": "2022-02-03T08:25:07.478Z"
   },
   {
    "duration": 1716,
    "start_time": "2022-02-03T08:25:09.241Z"
   },
   {
    "duration": 875,
    "start_time": "2022-02-03T08:25:10.960Z"
   },
   {
    "duration": 2497,
    "start_time": "2022-02-03T08:25:11.837Z"
   },
   {
    "duration": 341,
    "start_time": "2022-02-03T08:25:14.337Z"
   },
   {
    "duration": 433,
    "start_time": "2022-02-03T08:25:14.683Z"
   },
   {
    "duration": 632,
    "start_time": "2022-02-03T08:25:15.119Z"
   },
   {
    "duration": 3184,
    "start_time": "2022-02-03T08:25:15.755Z"
   },
   {
    "duration": 2787,
    "start_time": "2022-02-03T08:25:18.942Z"
   },
   {
    "duration": 33,
    "start_time": "2022-02-03T08:25:21.733Z"
   },
   {
    "duration": 22,
    "start_time": "2022-02-03T08:25:21.769Z"
   },
   {
    "duration": 31,
    "start_time": "2022-02-03T08:25:21.794Z"
   },
   {
    "duration": 10,
    "start_time": "2022-02-03T08:25:21.828Z"
   },
   {
    "duration": 9,
    "start_time": "2022-02-03T08:25:21.841Z"
   },
   {
    "duration": 9,
    "start_time": "2022-02-03T08:25:21.852Z"
   },
   {
    "duration": 9,
    "start_time": "2022-02-03T08:31:50.650Z"
   },
   {
    "duration": 571,
    "start_time": "2022-02-03T08:31:51.940Z"
   },
   {
    "duration": 560,
    "start_time": "2022-02-03T08:32:00.163Z"
   },
   {
    "duration": 21,
    "start_time": "2022-02-03T08:32:32.550Z"
   },
   {
    "duration": 4,
    "start_time": "2022-02-03T08:33:14.491Z"
   },
   {
    "duration": 1173,
    "start_time": "2022-02-03T08:33:15.904Z"
   },
   {
    "duration": 48,
    "start_time": "2022-02-03T08:42:06.467Z"
   },
   {
    "duration": 33,
    "start_time": "2022-02-03T08:42:06.518Z"
   },
   {
    "duration": 22,
    "start_time": "2022-02-03T08:42:06.555Z"
   },
   {
    "duration": 8,
    "start_time": "2022-02-03T08:42:06.581Z"
   },
   {
    "duration": 46,
    "start_time": "2022-02-03T08:42:06.592Z"
   },
   {
    "duration": 14,
    "start_time": "2022-02-03T08:42:06.641Z"
   },
   {
    "duration": 14,
    "start_time": "2022-02-03T08:42:06.657Z"
   },
   {
    "duration": 47,
    "start_time": "2022-02-03T08:42:06.677Z"
   },
   {
    "duration": 12,
    "start_time": "2022-02-03T08:42:06.733Z"
   },
   {
    "duration": 6,
    "start_time": "2022-02-03T08:42:06.748Z"
   },
   {
    "duration": 9,
    "start_time": "2022-02-03T08:42:06.756Z"
   },
   {
    "duration": 450,
    "start_time": "2022-02-03T08:42:06.767Z"
   },
   {
    "duration": 14,
    "start_time": "2022-02-03T08:42:07.223Z"
   },
   {
    "duration": 632,
    "start_time": "2022-02-03T08:42:07.240Z"
   },
   {
    "duration": 27,
    "start_time": "2022-02-03T08:42:07.875Z"
   },
   {
    "duration": 17,
    "start_time": "2022-02-03T08:42:07.925Z"
   },
   {
    "duration": 10,
    "start_time": "2022-02-03T08:42:07.945Z"
   },
   {
    "duration": 560,
    "start_time": "2022-02-03T08:42:07.958Z"
   },
   {
    "duration": 3,
    "start_time": "2022-02-03T08:42:08.524Z"
   },
   {
    "duration": 1075,
    "start_time": "2022-02-03T08:42:08.530Z"
   },
   {
    "duration": 71,
    "start_time": "2022-02-03T08:42:09.607Z"
   },
   {
    "duration": 1787,
    "start_time": "2022-02-03T08:42:09.681Z"
   },
   {
    "duration": 1838,
    "start_time": "2022-02-03T08:42:11.472Z"
   },
   {
    "duration": 878,
    "start_time": "2022-02-03T08:42:13.314Z"
   },
   {
    "duration": 2424,
    "start_time": "2022-02-03T08:42:14.194Z"
   },
   {
    "duration": 311,
    "start_time": "2022-02-03T08:42:16.624Z"
   },
   {
    "duration": 591,
    "start_time": "2022-02-03T08:42:16.938Z"
   },
   {
    "duration": 451,
    "start_time": "2022-02-03T08:42:17.533Z"
   },
   {
    "duration": 3356,
    "start_time": "2022-02-03T08:42:17.987Z"
   },
   {
    "duration": 1938,
    "start_time": "2022-02-03T08:42:21.349Z"
   },
   {
    "duration": 41,
    "start_time": "2022-02-03T08:42:23.289Z"
   },
   {
    "duration": 24,
    "start_time": "2022-02-03T08:42:23.333Z"
   },
   {
    "duration": 13,
    "start_time": "2022-02-03T08:42:23.359Z"
   },
   {
    "duration": 10,
    "start_time": "2022-02-03T08:42:23.374Z"
   },
   {
    "duration": 42,
    "start_time": "2022-02-03T08:42:23.387Z"
   },
   {
    "duration": 17,
    "start_time": "2022-02-03T08:42:23.431Z"
   },
   {
    "duration": 917,
    "start_time": "2022-02-04T07:12:02.696Z"
   },
   {
    "duration": 24,
    "start_time": "2022-02-04T07:12:03.615Z"
   },
   {
    "duration": 16,
    "start_time": "2022-02-04T07:12:03.642Z"
   },
   {
    "duration": 6,
    "start_time": "2022-02-04T07:12:03.661Z"
   },
   {
    "duration": 13,
    "start_time": "2022-02-04T07:12:03.669Z"
   },
   {
    "duration": 44,
    "start_time": "2022-02-04T07:12:03.684Z"
   },
   {
    "duration": 11,
    "start_time": "2022-02-04T07:12:03.730Z"
   },
   {
    "duration": 17,
    "start_time": "2022-02-04T07:12:03.745Z"
   },
   {
    "duration": 11,
    "start_time": "2022-02-04T07:12:03.765Z"
   },
   {
    "duration": 12,
    "start_time": "2022-02-04T07:12:03.778Z"
   },
   {
    "duration": 35,
    "start_time": "2022-02-04T07:12:03.792Z"
   },
   {
    "duration": 397,
    "start_time": "2022-02-04T07:12:03.829Z"
   },
   {
    "duration": 10,
    "start_time": "2022-02-04T07:12:04.229Z"
   },
   {
    "duration": 590,
    "start_time": "2022-02-04T07:12:04.242Z"
   },
   {
    "duration": 29,
    "start_time": "2022-02-04T07:12:04.834Z"
   },
   {
    "duration": 89,
    "start_time": "2022-02-04T07:12:04.865Z"
   },
   {
    "duration": 7,
    "start_time": "2022-02-04T07:12:04.957Z"
   },
   {
    "duration": 519,
    "start_time": "2022-02-04T07:12:04.966Z"
   },
   {
    "duration": 3,
    "start_time": "2022-02-04T07:12:05.487Z"
   },
   {
    "duration": 958,
    "start_time": "2022-02-04T07:12:05.492Z"
   },
   {
    "duration": 75,
    "start_time": "2022-02-04T07:12:06.453Z"
   },
   {
    "duration": 1634,
    "start_time": "2022-02-04T07:12:06.531Z"
   },
   {
    "duration": 1703,
    "start_time": "2022-02-04T07:12:08.170Z"
   },
   {
    "duration": 907,
    "start_time": "2022-02-04T07:12:09.876Z"
   },
   {
    "duration": 2231,
    "start_time": "2022-02-04T07:12:10.786Z"
   },
   {
    "duration": 293,
    "start_time": "2022-02-04T07:12:13.023Z"
   },
   {
    "duration": 292,
    "start_time": "2022-02-04T07:12:13.318Z"
   },
   {
    "duration": 299,
    "start_time": "2022-02-04T07:12:13.612Z"
   },
   {
    "duration": 2524,
    "start_time": "2022-02-04T07:12:13.913Z"
   },
   {
    "duration": 1822,
    "start_time": "2022-02-04T07:12:16.439Z"
   },
   {
    "duration": 24,
    "start_time": "2022-02-04T07:12:18.264Z"
   },
   {
    "duration": 34,
    "start_time": "2022-02-04T07:12:18.291Z"
   },
   {
    "duration": 503,
    "start_time": "2022-02-04T07:12:18.328Z"
   },
   {
    "duration": 7,
    "start_time": "2022-02-04T07:12:18.834Z"
   },
   {
    "duration": 8,
    "start_time": "2022-02-04T07:12:18.843Z"
   },
   {
    "duration": 8,
    "start_time": "2022-02-04T07:12:18.853Z"
   },
   {
    "duration": 753,
    "start_time": "2022-02-04T07:12:56.516Z"
   },
   {
    "duration": 1652,
    "start_time": "2022-02-04T07:48:56.625Z"
   },
   {
    "duration": 22,
    "start_time": "2022-02-04T07:51:05.944Z"
   },
   {
    "duration": 20,
    "start_time": "2022-02-04T07:52:07.709Z"
   },
   {
    "duration": 3,
    "start_time": "2022-02-04T07:53:22.575Z"
   },
   {
    "duration": 53,
    "start_time": "2022-02-04T07:54:53.225Z"
   },
   {
    "duration": 1656,
    "start_time": "2022-02-04T07:55:29.640Z"
   },
   {
    "duration": 1689,
    "start_time": "2022-02-04T07:55:51.501Z"
   },
   {
    "duration": 1554,
    "start_time": "2022-02-04T07:55:59.517Z"
   },
   {
    "duration": 805,
    "start_time": "2022-02-04T07:58:32.798Z"
   },
   {
    "duration": 4,
    "start_time": "2022-02-04T07:58:35.288Z"
   },
   {
    "duration": 43,
    "start_time": "2022-02-04T07:58:36.326Z"
   },
   {
    "duration": 1298,
    "start_time": "2022-02-04T07:58:42.116Z"
   },
   {
    "duration": 1273,
    "start_time": "2022-02-04T07:58:44.130Z"
   },
   {
    "duration": 828,
    "start_time": "2022-02-04T07:58:56.106Z"
   },
   {
    "duration": 664,
    "start_time": "2022-02-04T08:04:29.304Z"
   },
   {
    "duration": 282,
    "start_time": "2022-02-04T08:04:32.344Z"
   },
   {
    "duration": 23,
    "start_time": "2022-02-04T08:04:48.390Z"
   },
   {
    "duration": 263,
    "start_time": "2022-02-04T08:05:22.700Z"
   },
   {
    "duration": 586,
    "start_time": "2022-02-04T08:07:10.934Z"
   },
   {
    "duration": 307,
    "start_time": "2022-02-04T08:07:41.565Z"
   },
   {
    "duration": 278,
    "start_time": "2022-02-04T08:08:55.382Z"
   },
   {
    "duration": 29,
    "start_time": "2022-02-04T08:09:24.082Z"
   },
   {
    "duration": 315,
    "start_time": "2022-02-04T08:09:38.840Z"
   },
   {
    "duration": 326,
    "start_time": "2022-02-04T08:10:04.857Z"
   },
   {
    "duration": 1715,
    "start_time": "2022-02-04T08:10:48.430Z"
   },
   {
    "duration": 623,
    "start_time": "2022-02-04T08:11:23.663Z"
   },
   {
    "duration": 399,
    "start_time": "2022-02-04T08:11:39.736Z"
   },
   {
    "duration": 528,
    "start_time": "2022-02-04T08:12:50.585Z"
   },
   {
    "duration": 609,
    "start_time": "2022-02-04T08:14:12.507Z"
   },
   {
    "duration": 504,
    "start_time": "2022-02-04T08:14:20.613Z"
   },
   {
    "duration": 957,
    "start_time": "2022-02-04T08:14:29.479Z"
   },
   {
    "duration": 371,
    "start_time": "2022-02-04T08:14:35.652Z"
   },
   {
    "duration": 366,
    "start_time": "2022-02-04T08:15:06.768Z"
   },
   {
    "duration": 558,
    "start_time": "2022-02-04T08:15:21.486Z"
   },
   {
    "duration": 346,
    "start_time": "2022-02-04T08:15:26.077Z"
   },
   {
    "duration": 624,
    "start_time": "2022-02-04T08:15:48.413Z"
   },
   {
    "duration": 385,
    "start_time": "2022-02-04T08:16:02.360Z"
   },
   {
    "duration": 531,
    "start_time": "2022-02-04T08:17:20.244Z"
   },
   {
    "duration": 23,
    "start_time": "2022-02-04T08:17:40.526Z"
   },
   {
    "duration": 22,
    "start_time": "2022-02-04T08:20:07.184Z"
   },
   {
    "duration": 354,
    "start_time": "2022-02-04T08:20:37.332Z"
   },
   {
    "duration": 499,
    "start_time": "2022-02-04T08:20:45.574Z"
   },
   {
    "duration": 364,
    "start_time": "2022-02-04T08:20:52.025Z"
   },
   {
    "duration": 431,
    "start_time": "2022-02-04T08:21:00.610Z"
   },
   {
    "duration": 776,
    "start_time": "2022-02-04T08:21:43.368Z"
   },
   {
    "duration": 380,
    "start_time": "2022-02-04T08:22:23.635Z"
   },
   {
    "duration": 529,
    "start_time": "2022-02-04T08:23:09.318Z"
   },
   {
    "duration": 363,
    "start_time": "2022-02-04T08:24:30.664Z"
   },
   {
    "duration": 515,
    "start_time": "2022-02-04T08:24:37.120Z"
   },
   {
    "duration": 27,
    "start_time": "2022-02-04T08:27:52.513Z"
   },
   {
    "duration": 2538,
    "start_time": "2022-02-04T08:32:31.265Z"
   },
   {
    "duration": 291,
    "start_time": "2022-02-04T08:37:12.358Z"
   },
   {
    "duration": 7,
    "start_time": "2022-02-04T08:37:17.969Z"
   },
   {
    "duration": 6,
    "start_time": "2022-02-04T08:37:32.513Z"
   },
   {
    "duration": 2049,
    "start_time": "2022-02-04T08:37:33.191Z"
   },
   {
    "duration": 1389,
    "start_time": "2022-02-04T10:33:34.018Z"
   },
   {
    "duration": 23,
    "start_time": "2022-02-04T10:33:35.409Z"
   },
   {
    "duration": 13,
    "start_time": "2022-02-04T10:33:35.436Z"
   },
   {
    "duration": 7,
    "start_time": "2022-02-04T10:33:35.452Z"
   },
   {
    "duration": 12,
    "start_time": "2022-02-04T10:33:35.461Z"
   },
   {
    "duration": 53,
    "start_time": "2022-02-04T10:33:35.475Z"
   },
   {
    "duration": 11,
    "start_time": "2022-02-04T10:33:35.530Z"
   },
   {
    "duration": 14,
    "start_time": "2022-02-04T10:33:35.545Z"
   },
   {
    "duration": 10,
    "start_time": "2022-02-04T10:33:35.562Z"
   },
   {
    "duration": 49,
    "start_time": "2022-02-04T10:33:35.574Z"
   },
   {
    "duration": 6,
    "start_time": "2022-02-04T10:33:35.625Z"
   },
   {
    "duration": 416,
    "start_time": "2022-02-04T10:33:35.633Z"
   },
   {
    "duration": 11,
    "start_time": "2022-02-04T10:33:36.052Z"
   },
   {
    "duration": 699,
    "start_time": "2022-02-04T10:33:36.066Z"
   },
   {
    "duration": 25,
    "start_time": "2022-02-04T10:33:36.768Z"
   },
   {
    "duration": 36,
    "start_time": "2022-02-04T10:33:36.795Z"
   },
   {
    "duration": 11,
    "start_time": "2022-02-04T10:33:36.833Z"
   },
   {
    "duration": 510,
    "start_time": "2022-02-04T10:33:36.847Z"
   },
   {
    "duration": 769,
    "start_time": "2022-02-04T10:33:37.360Z"
   },
   {
    "duration": 4,
    "start_time": "2022-02-04T10:33:38.132Z"
   },
   {
    "duration": 50,
    "start_time": "2022-02-04T10:33:38.139Z"
   },
   {
    "duration": 1235,
    "start_time": "2022-02-04T10:33:38.191Z"
   },
   {
    "duration": 1198,
    "start_time": "2022-02-04T10:33:39.431Z"
   },
   {
    "duration": 985,
    "start_time": "2022-02-04T10:33:40.632Z"
   },
   {
    "duration": 2255,
    "start_time": "2022-02-04T10:33:41.620Z"
   },
   {
    "duration": 25,
    "start_time": "2022-02-04T10:33:43.878Z"
   },
   {
    "duration": 1006,
    "start_time": "2022-02-04T10:33:43.924Z"
   },
   {
    "duration": 30,
    "start_time": "2022-02-04T10:33:44.933Z"
   },
   {
    "duration": 526,
    "start_time": "2022-02-04T10:33:44.966Z"
   },
   {
    "duration": 36,
    "start_time": "2022-02-04T10:33:45.495Z"
   },
   {
    "duration": 490,
    "start_time": "2022-02-04T10:33:45.533Z"
   },
   {
    "duration": 2577,
    "start_time": "2022-02-04T10:33:46.025Z"
   },
   {
    "duration": 18,
    "start_time": "2022-02-04T10:33:48.605Z"
   },
   {
    "duration": 1978,
    "start_time": "2022-02-04T10:33:48.626Z"
   },
   {
    "duration": 32,
    "start_time": "2022-02-04T10:33:50.607Z"
   },
   {
    "duration": 17,
    "start_time": "2022-02-04T10:33:50.641Z"
   },
   {
    "duration": 640,
    "start_time": "2022-02-04T10:33:50.660Z"
   },
   {
    "duration": 6,
    "start_time": "2022-02-04T10:33:51.303Z"
   },
   {
    "duration": 17,
    "start_time": "2022-02-04T10:33:51.311Z"
   },
   {
    "duration": 16,
    "start_time": "2022-02-04T10:33:51.330Z"
   },
   {
    "duration": 7,
    "start_time": "2022-02-04T11:09:19.256Z"
   },
   {
    "duration": 46,
    "start_time": "2022-02-04T11:09:23.347Z"
   },
   {
    "duration": 19,
    "start_time": "2022-02-04T11:09:23.396Z"
   },
   {
    "duration": 26,
    "start_time": "2022-02-04T11:09:23.426Z"
   },
   {
    "duration": 5,
    "start_time": "2022-02-04T11:09:23.454Z"
   },
   {
    "duration": 14,
    "start_time": "2022-02-04T11:09:23.462Z"
   },
   {
    "duration": 10,
    "start_time": "2022-02-04T11:09:23.479Z"
   },
   {
    "duration": 17,
    "start_time": "2022-02-04T11:09:23.523Z"
   },
   {
    "duration": 13,
    "start_time": "2022-02-04T11:09:23.544Z"
   },
   {
    "duration": 10,
    "start_time": "2022-02-04T11:09:23.561Z"
   },
   {
    "duration": 5,
    "start_time": "2022-02-04T11:09:23.574Z"
   },
   {
    "duration": 45,
    "start_time": "2022-02-04T11:09:23.582Z"
   },
   {
    "duration": 430,
    "start_time": "2022-02-04T11:09:23.629Z"
   },
   {
    "duration": 10,
    "start_time": "2022-02-04T11:09:24.061Z"
   },
   {
    "duration": 634,
    "start_time": "2022-02-04T11:09:24.073Z"
   },
   {
    "duration": 44,
    "start_time": "2022-02-04T11:09:24.710Z"
   },
   {
    "duration": 14,
    "start_time": "2022-02-04T11:09:24.757Z"
   },
   {
    "duration": 8,
    "start_time": "2022-02-04T11:09:24.773Z"
   },
   {
    "duration": 587,
    "start_time": "2022-02-04T11:09:24.783Z"
   },
   {
    "duration": 867,
    "start_time": "2022-02-04T11:09:25.373Z"
   },
   {
    "duration": 3,
    "start_time": "2022-02-04T11:09:26.243Z"
   },
   {
    "duration": 43,
    "start_time": "2022-02-04T11:09:26.248Z"
   },
   {
    "duration": 1273,
    "start_time": "2022-02-04T11:09:26.329Z"
   },
   {
    "duration": 1522,
    "start_time": "2022-02-04T11:09:27.606Z"
   },
   {
    "duration": 887,
    "start_time": "2022-02-04T11:09:29.131Z"
   },
   {
    "duration": 2554,
    "start_time": "2022-02-04T11:09:30.029Z"
   },
   {
    "duration": 43,
    "start_time": "2022-02-04T11:09:32.587Z"
   },
   {
    "duration": 542,
    "start_time": "2022-02-04T11:09:32.634Z"
   },
   {
    "duration": 25,
    "start_time": "2022-02-04T11:09:33.178Z"
   },
   {
    "duration": 441,
    "start_time": "2022-02-04T11:09:33.228Z"
   },
   {
    "duration": 23,
    "start_time": "2022-02-04T11:09:33.671Z"
   },
   {
    "duration": 594,
    "start_time": "2022-02-04T11:09:33.697Z"
   },
   {
    "duration": 3111,
    "start_time": "2022-02-04T11:09:34.293Z"
   },
   {
    "duration": 12,
    "start_time": "2022-02-04T11:09:42.630Z"
   },
   {
    "duration": 12,
    "start_time": "2022-02-04T11:10:15.837Z"
   },
   {
    "duration": 5,
    "start_time": "2022-02-04T11:13:45.513Z"
   },
   {
    "duration": 2061,
    "start_time": "2022-02-04T11:13:45.898Z"
   },
   {
    "duration": 17,
    "start_time": "2022-02-04T11:20:16.498Z"
   },
   {
    "duration": 22,
    "start_time": "2022-02-04T11:20:21.241Z"
   },
   {
    "duration": 8,
    "start_time": "2022-02-04T11:20:25.401Z"
   },
   {
    "duration": 11,
    "start_time": "2022-02-04T11:20:26.916Z"
   },
   {
    "duration": 11,
    "start_time": "2022-02-04T11:20:29.125Z"
   },
   {
    "duration": 7,
    "start_time": "2022-02-04T11:20:43.697Z"
   },
   {
    "duration": 10,
    "start_time": "2022-02-04T11:21:00.978Z"
   },
   {
    "duration": 7,
    "start_time": "2022-02-04T11:21:01.381Z"
   },
   {
    "duration": 8,
    "start_time": "2022-02-04T11:21:01.792Z"
   },
   {
    "duration": 8,
    "start_time": "2022-02-04T11:21:13.189Z"
   },
   {
    "duration": 7,
    "start_time": "2022-02-04T11:21:17.444Z"
   },
   {
    "duration": 18,
    "start_time": "2022-02-04T11:21:42.280Z"
   },
   {
    "duration": 8,
    "start_time": "2022-02-04T11:21:42.571Z"
   },
   {
    "duration": 8,
    "start_time": "2022-02-04T11:21:42.905Z"
   },
   {
    "duration": 8,
    "start_time": "2022-02-04T11:21:44.421Z"
   },
   {
    "duration": 7,
    "start_time": "2022-02-04T11:21:46.214Z"
   },
   {
    "duration": 48,
    "start_time": "2022-02-04T11:29:57.478Z"
   },
   {
    "duration": 20,
    "start_time": "2022-02-04T11:29:57.529Z"
   },
   {
    "duration": 23,
    "start_time": "2022-02-04T11:29:57.552Z"
   },
   {
    "duration": 11,
    "start_time": "2022-02-04T11:29:57.579Z"
   },
   {
    "duration": 10,
    "start_time": "2022-02-04T11:29:57.624Z"
   },
   {
    "duration": 16,
    "start_time": "2022-02-04T11:29:57.637Z"
   },
   {
    "duration": 19,
    "start_time": "2022-02-04T11:29:57.656Z"
   },
   {
    "duration": 24,
    "start_time": "2022-02-04T11:29:57.679Z"
   },
   {
    "duration": 11,
    "start_time": "2022-02-04T11:29:57.723Z"
   },
   {
    "duration": 6,
    "start_time": "2022-02-04T11:29:57.737Z"
   },
   {
    "duration": 32,
    "start_time": "2022-02-04T11:29:57.746Z"
   },
   {
    "duration": 400,
    "start_time": "2022-02-04T11:29:57.780Z"
   },
   {
    "duration": 12,
    "start_time": "2022-02-04T11:29:58.183Z"
   },
   {
    "duration": 627,
    "start_time": "2022-02-04T11:29:58.198Z"
   },
   {
    "duration": 31,
    "start_time": "2022-02-04T11:29:58.828Z"
   },
   {
    "duration": 13,
    "start_time": "2022-02-04T11:29:58.862Z"
   },
   {
    "duration": 8,
    "start_time": "2022-02-04T11:29:58.878Z"
   },
   {
    "duration": 565,
    "start_time": "2022-02-04T11:29:58.888Z"
   },
   {
    "duration": 1559,
    "start_time": "2022-02-04T11:29:59.457Z"
   },
   {
    "duration": 4,
    "start_time": "2022-02-04T11:30:01.024Z"
   },
   {
    "duration": 59,
    "start_time": "2022-02-04T11:30:01.031Z"
   },
   {
    "duration": 1441,
    "start_time": "2022-02-04T11:30:01.125Z"
   },
   {
    "duration": 1460,
    "start_time": "2022-02-04T11:30:02.570Z"
   },
   {
    "duration": 917,
    "start_time": "2022-02-04T11:30:04.033Z"
   },
   {
    "duration": 3952,
    "start_time": "2022-02-04T11:30:04.954Z"
   },
   {
    "duration": 45,
    "start_time": "2022-02-04T11:30:08.909Z"
   },
   {
    "duration": 612,
    "start_time": "2022-02-04T11:30:08.957Z"
   },
   {
    "duration": 32,
    "start_time": "2022-02-04T11:30:09.572Z"
   },
   {
    "duration": 1005,
    "start_time": "2022-02-04T11:30:09.625Z"
   },
   {
    "duration": 26,
    "start_time": "2022-02-04T11:30:10.633Z"
   },
   {
    "duration": 385,
    "start_time": "2022-02-04T11:30:10.662Z"
   },
   {
    "duration": 2637,
    "start_time": "2022-02-04T11:30:11.049Z"
   },
   {
    "duration": 5,
    "start_time": "2022-02-04T11:30:13.688Z"
   },
   {
    "duration": 2004,
    "start_time": "2022-02-04T11:30:13.696Z"
   },
   {
    "duration": 23,
    "start_time": "2022-02-04T11:30:15.703Z"
   },
   {
    "duration": 22,
    "start_time": "2022-02-04T11:30:15.728Z"
   },
   {
    "duration": 15,
    "start_time": "2022-02-04T11:30:15.752Z"
   },
   {
    "duration": 10,
    "start_time": "2022-02-04T11:30:15.769Z"
   },
   {
    "duration": 19,
    "start_time": "2022-02-04T11:30:15.782Z"
   },
   {
    "duration": 7,
    "start_time": "2022-02-04T11:30:15.823Z"
   },
   {
    "duration": 1048,
    "start_time": "2022-02-05T13:50:39.545Z"
   },
   {
    "duration": 13,
    "start_time": "2022-02-05T13:50:40.595Z"
   },
   {
    "duration": 9,
    "start_time": "2022-02-05T13:50:40.609Z"
   },
   {
    "duration": 3,
    "start_time": "2022-02-05T13:50:40.620Z"
   },
   {
    "duration": 7,
    "start_time": "2022-02-05T13:50:40.624Z"
   },
   {
    "duration": 8,
    "start_time": "2022-02-05T13:50:40.632Z"
   },
   {
    "duration": 8,
    "start_time": "2022-02-05T13:50:40.641Z"
   },
   {
    "duration": 8,
    "start_time": "2022-02-05T13:50:40.652Z"
   },
   {
    "duration": 8,
    "start_time": "2022-02-05T13:50:40.662Z"
   },
   {
    "duration": 6,
    "start_time": "2022-02-05T13:50:40.671Z"
   },
   {
    "duration": 3,
    "start_time": "2022-02-05T13:50:40.679Z"
   },
   {
    "duration": 249,
    "start_time": "2022-02-05T13:50:40.684Z"
   },
   {
    "duration": 6,
    "start_time": "2022-02-05T13:50:40.934Z"
   },
   {
    "duration": 388,
    "start_time": "2022-02-05T13:50:40.942Z"
   },
   {
    "duration": 16,
    "start_time": "2022-02-05T13:50:41.331Z"
   },
   {
    "duration": 8,
    "start_time": "2022-02-05T13:50:41.348Z"
   },
   {
    "duration": 7,
    "start_time": "2022-02-05T13:50:41.358Z"
   },
   {
    "duration": 403,
    "start_time": "2022-02-05T13:50:41.366Z"
   },
   {
    "duration": 335,
    "start_time": "2022-02-05T13:52:46.430Z"
   },
   {
    "duration": 19,
    "start_time": "2022-02-05T13:52:58.069Z"
   },
   {
    "duration": 288,
    "start_time": "2022-02-05T13:53:05.933Z"
   },
   {
    "duration": 21,
    "start_time": "2022-02-05T13:53:17.771Z"
   },
   {
    "duration": 36,
    "start_time": "2022-02-05T13:55:50.815Z"
   },
   {
    "duration": 11,
    "start_time": "2022-02-05T13:55:50.852Z"
   },
   {
    "duration": 10,
    "start_time": "2022-02-05T13:55:50.865Z"
   },
   {
    "duration": 11,
    "start_time": "2022-02-05T13:55:50.877Z"
   },
   {
    "duration": 9,
    "start_time": "2022-02-05T13:55:50.889Z"
   },
   {
    "duration": 33,
    "start_time": "2022-02-05T13:55:50.899Z"
   },
   {
    "duration": 6,
    "start_time": "2022-02-05T13:55:50.934Z"
   },
   {
    "duration": 7,
    "start_time": "2022-02-05T13:55:50.943Z"
   },
   {
    "duration": 6,
    "start_time": "2022-02-05T13:55:50.952Z"
   },
   {
    "duration": 4,
    "start_time": "2022-02-05T13:55:50.959Z"
   },
   {
    "duration": 6,
    "start_time": "2022-02-05T13:55:50.964Z"
   },
   {
    "duration": 238,
    "start_time": "2022-02-05T13:55:50.971Z"
   },
   {
    "duration": 7,
    "start_time": "2022-02-05T13:55:51.210Z"
   },
   {
    "duration": 343,
    "start_time": "2022-02-05T13:55:51.218Z"
   },
   {
    "duration": 16,
    "start_time": "2022-02-05T13:55:51.563Z"
   },
   {
    "duration": 8,
    "start_time": "2022-02-05T13:55:51.580Z"
   },
   {
    "duration": 7,
    "start_time": "2022-02-05T13:55:51.589Z"
   },
   {
    "duration": 474,
    "start_time": "2022-02-05T13:55:51.597Z"
   },
   {
    "duration": 73,
    "start_time": "2022-02-05T13:55:52.072Z"
   },
   {
    "duration": 571,
    "start_time": "2022-02-05T13:55:52.146Z"
   },
   {
    "duration": 2,
    "start_time": "2022-02-05T13:55:52.718Z"
   },
   {
    "duration": 27,
    "start_time": "2022-02-05T13:55:52.721Z"
   },
   {
    "duration": 791,
    "start_time": "2022-02-05T13:55:52.751Z"
   },
   {
    "duration": 743,
    "start_time": "2022-02-05T13:55:53.544Z"
   },
   {
    "duration": 474,
    "start_time": "2022-02-05T13:55:54.288Z"
   },
   {
    "duration": 1272,
    "start_time": "2022-02-05T13:55:54.763Z"
   },
   {
    "duration": 13,
    "start_time": "2022-02-05T13:55:56.037Z"
   },
   {
    "duration": 623,
    "start_time": "2022-02-05T13:55:56.052Z"
   },
   {
    "duration": 14,
    "start_time": "2022-02-05T13:55:56.676Z"
   },
   {
    "duration": 311,
    "start_time": "2022-02-05T13:55:56.691Z"
   },
   {
    "duration": 25,
    "start_time": "2022-02-05T13:55:57.003Z"
   },
   {
    "duration": 301,
    "start_time": "2022-02-05T13:55:57.029Z"
   },
   {
    "duration": 1356,
    "start_time": "2022-02-05T13:55:57.331Z"
   },
   {
    "duration": 3,
    "start_time": "2022-02-05T13:55:58.689Z"
   },
   {
    "duration": 1172,
    "start_time": "2022-02-05T13:55:58.693Z"
   },
   {
    "duration": 10,
    "start_time": "2022-02-05T13:55:59.866Z"
   },
   {
    "duration": 11,
    "start_time": "2022-02-05T13:55:59.877Z"
   },
   {
    "duration": 360,
    "start_time": "2022-02-05T13:55:59.889Z"
   },
   {
    "duration": 4,
    "start_time": "2022-02-05T13:56:00.251Z"
   },
   {
    "duration": 11,
    "start_time": "2022-02-05T13:56:00.256Z"
   },
   {
    "duration": 6,
    "start_time": "2022-02-05T13:56:00.269Z"
   },
   {
    "duration": 949,
    "start_time": "2022-03-04T08:01:44.688Z"
   },
   {
    "duration": 15,
    "start_time": "2022-03-04T08:01:45.638Z"
   },
   {
    "duration": 12,
    "start_time": "2022-03-04T08:01:45.655Z"
   },
   {
    "duration": 5,
    "start_time": "2022-03-04T08:01:45.669Z"
   },
   {
    "duration": 13,
    "start_time": "2022-03-04T08:01:45.675Z"
   },
   {
    "duration": 8,
    "start_time": "2022-03-04T08:01:45.690Z"
   },
   {
    "duration": 11,
    "start_time": "2022-03-04T08:01:45.700Z"
   },
   {
    "duration": 31,
    "start_time": "2022-03-04T08:01:45.713Z"
   },
   {
    "duration": 8,
    "start_time": "2022-03-04T08:01:45.746Z"
   },
   {
    "duration": 5,
    "start_time": "2022-03-04T08:01:45.756Z"
   },
   {
    "duration": 4,
    "start_time": "2022-03-04T08:01:45.763Z"
   },
   {
    "duration": 284,
    "start_time": "2022-03-04T08:01:45.769Z"
   },
   {
    "duration": 8,
    "start_time": "2022-03-04T08:01:46.055Z"
   },
   {
    "duration": 466,
    "start_time": "2022-03-04T08:01:46.065Z"
   },
   {
    "duration": 19,
    "start_time": "2022-03-04T08:01:46.537Z"
   },
   {
    "duration": 10,
    "start_time": "2022-03-04T08:01:46.557Z"
   },
   {
    "duration": 7,
    "start_time": "2022-03-04T08:01:46.569Z"
   },
   {
    "duration": 338,
    "start_time": "2022-03-04T08:01:46.577Z"
   },
   {
    "duration": 33,
    "start_time": "2022-03-04T08:01:46.917Z"
   },
   {
    "duration": 507,
    "start_time": "2022-03-04T08:01:46.951Z"
   },
   {
    "duration": 2,
    "start_time": "2022-03-04T08:01:47.460Z"
   },
   {
    "duration": 33,
    "start_time": "2022-03-04T08:01:47.463Z"
   },
   {
    "duration": 822,
    "start_time": "2022-03-04T08:01:47.499Z"
   },
   {
    "duration": 797,
    "start_time": "2022-03-04T08:01:48.323Z"
   },
   {
    "duration": 638,
    "start_time": "2022-03-04T08:01:49.121Z"
   },
   {
    "duration": 1459,
    "start_time": "2022-03-04T08:01:49.760Z"
   },
   {
    "duration": 24,
    "start_time": "2022-03-04T08:01:51.221Z"
   },
   {
    "duration": 747,
    "start_time": "2022-03-04T08:01:51.247Z"
   },
   {
    "duration": 15,
    "start_time": "2022-03-04T08:01:51.996Z"
   },
   {
    "duration": 350,
    "start_time": "2022-03-04T08:01:52.013Z"
   },
   {
    "duration": 16,
    "start_time": "2022-03-04T08:01:52.364Z"
   },
   {
    "duration": 382,
    "start_time": "2022-03-04T08:01:52.382Z"
   },
   {
    "duration": 1590,
    "start_time": "2022-03-04T08:01:52.765Z"
   },
   {
    "duration": 3,
    "start_time": "2022-03-04T08:01:54.357Z"
   },
   {
    "duration": 1218,
    "start_time": "2022-03-04T08:01:54.361Z"
   },
   {
    "duration": 11,
    "start_time": "2022-03-04T08:01:55.581Z"
   },
   {
    "duration": 32,
    "start_time": "2022-03-04T08:01:55.593Z"
   },
   {
    "duration": 469,
    "start_time": "2022-03-04T08:01:55.627Z"
   },
   {
    "duration": 5,
    "start_time": "2022-03-04T08:01:56.098Z"
   },
   {
    "duration": 8,
    "start_time": "2022-03-04T08:01:56.105Z"
   },
   {
    "duration": 11,
    "start_time": "2022-03-04T08:01:56.114Z"
   }
  ],
  "kernelspec": {
   "display_name": "Python 3 (ipykernel)",
   "language": "python",
   "name": "python3"
  },
  "language_info": {
   "codemirror_mode": {
    "name": "ipython",
    "version": 3
   },
   "file_extension": ".py",
   "mimetype": "text/x-python",
   "name": "python",
   "nbconvert_exporter": "python",
   "pygments_lexer": "ipython3",
   "version": "3.7.8"
  },
  "toc": {
   "base_numbering": 1,
   "nav_menu": {},
   "number_sections": true,
   "sideBar": true,
   "skip_h1_title": true,
   "title_cell": "Table of Contents",
   "title_sidebar": "Contents",
   "toc_cell": false,
   "toc_position": {
    "height": "calc(100% - 180px)",
    "left": "10px",
    "top": "150px",
    "width": "293.8px"
   },
   "toc_section_display": true,
   "toc_window_display": true
  }
 },
 "nbformat": 4,
 "nbformat_minor": 5
}
